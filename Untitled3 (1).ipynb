{
 "cells": [
  {
   "cell_type": "code",
   "execution_count": 10,
   "id": "63e6d713",
   "metadata": {},
   "outputs": [
    {
     "name": "stdout",
     "output_type": "stream",
     "text": [
      "<class 'pandas.core.frame.DataFrame'>\n",
      "RangeIndex: 48895 entries, 0 to 48894\n",
      "Data columns (total 16 columns):\n",
      " #   Column                          Non-Null Count  Dtype  \n",
      "---  ------                          --------------  -----  \n",
      " 0   id                              48895 non-null  int64  \n",
      " 1   name                            48879 non-null  object \n",
      " 2   host_id                         48895 non-null  int64  \n",
      " 3   host_name                       48874 non-null  object \n",
      " 4   neighbourhood_group             48895 non-null  object \n",
      " 5   neighbourhood                   48895 non-null  object \n",
      " 6   latitude                        48895 non-null  float64\n",
      " 7   longitude                       48895 non-null  float64\n",
      " 8   room_type                       48895 non-null  object \n",
      " 9   price                           48895 non-null  int64  \n",
      " 10  minimum_nights                  48895 non-null  int64  \n",
      " 11  number_of_reviews               48895 non-null  int64  \n",
      " 12  last_review                     38843 non-null  object \n",
      " 13  reviews_per_month               38843 non-null  float64\n",
      " 14  calculated_host_listings_count  48895 non-null  int64  \n",
      " 15  availability_365                48895 non-null  int64  \n",
      "dtypes: float64(3), int64(7), object(6)\n",
      "memory usage: 6.0+ MB\n"
     ]
    }
   ],
   "source": [
    "import pandas as pd\n",
    "import numpy as np\n",
    "import seaborn as sn\n",
    "from scipy import stats\n",
    "import random\n",
    "\n",
    "airbnb=pd.read_csv(\"C:/Users/Gazi/Desktop/AB_NYC_2019.csv\")\n",
    "airbnb.info()\n"
   ]
  },
  {
   "cell_type": "code",
   "execution_count": 21,
   "id": "f71980eb",
   "metadata": {},
   "outputs": [
    {
     "name": "stdout",
     "output_type": "stream",
     "text": [
      "             id                                               name    host_id  \\\n",
      "21959  17667585            Cozy Apartment on Bedford Ave, Brooklyn   42727726   \n",
      "48092  36076807                                cozy apt in midtown  271393608   \n",
      "47625  35836471  Cozy Large Sunny Artist Retreat 10min to Manha...  269114687   \n",
      "29742  22859702         Sunlit Bushwick Oasis w/ Private Bathroom!   87181550   \n",
      "30773  23819961      Tree Lined Block in Celebs Fave Neighborhood!     791011   \n",
      "\n",
      "      host_name neighbourhood_group   neighbourhood  latitude  longitude  \\\n",
      "21959   Natasha            Brooklyn    Williamsburg  40.71284  -73.96284   \n",
      "48092   Michael           Manhattan  Hell's Kitchen  40.76725  -73.98669   \n",
      "47625   Felicia            Brooklyn    Williamsburg  40.71799  -73.95826   \n",
      "29742       H&E            Brooklyn        Bushwick  40.68993  -73.90499   \n",
      "30773     D & J           Manhattan    West Village  40.73817  -74.00768   \n",
      "\n",
      "             room_type  price  minimum_nights  number_of_reviews last_review  \\\n",
      "21959     Private room     88               7                 15  2018-01-01   \n",
      "48092      Shared room     70               1                  3  2019-06-30   \n",
      "47625  Entire home/apt    188               5                  1  2019-06-30   \n",
      "29742     Private room     55               1                 36  2019-05-29   \n",
      "30773  Entire home/apt    240               2                  0         NaN   \n",
      "\n",
      "       reviews_per_month  calculated_host_listings_count  availability_365  \n",
      "21959               0.55                               1                 0  \n",
      "48092               3.00                               6                24  \n",
      "47625               1.00                               1                51  \n",
      "29742               2.07                               1                26  \n",
      "30773                NaN                               1                81  \n"
     ]
    }
   ],
   "source": [
    "s1=airbnb.sample(n=5)\n",
    "print(s1)"
   ]
  },
  {
   "cell_type": "code",
   "execution_count": 25,
   "id": "8c521e8d",
   "metadata": {},
   "outputs": [
    {
     "name": "stdout",
     "output_type": "stream",
     "text": [
      "             id                                            name   host_id  \\\n",
      "0          2539              Clean & quiet apt home by the park      2787   \n",
      "10000   7691534              2 bed, 2 bath in Battery Park City  40394783   \n",
      "20000  16010783    Spacious Harlem Apartment perfect for groups  15757322   \n",
      "30000  23094550  1BR Apartment in the Heart of the East Village   7269534   \n",
      "40000  31069988      Beautiful Apartment on the Upper West Side  17494958   \n",
      "\n",
      "      host_name neighbourhood_group      neighbourhood  latitude  longitude  \\\n",
      "0          John            Brooklyn         Kensington  40.64749  -73.97237   \n",
      "10000   Richard           Manhattan  Battery Park City  40.70803  -74.01735   \n",
      "20000  Devin T.           Manhattan        East Harlem  40.79580  -73.93186   \n",
      "30000    Declan           Manhattan       East Village  40.72939  -73.98553   \n",
      "40000      Katy           Manhattan    Upper West Side  40.77391  -73.98874   \n",
      "\n",
      "             room_type  price  minimum_nights  number_of_reviews last_review  \\\n",
      "0         Private room    149               1                  9  2018-10-19   \n",
      "10000  Entire home/apt    200               1                  0         NaN   \n",
      "20000  Entire home/apt    280               2                 53  2019-07-03   \n",
      "30000  Entire home/apt    100               4                  5  2018-06-20   \n",
      "40000  Entire home/apt    200               3                  0         NaN   \n",
      "\n",
      "       reviews_per_month  calculated_host_listings_count  availability_365  \n",
      "0                   0.21                               6               365  \n",
      "10000                NaN                               1                 0  \n",
      "20000               2.29                               2                12  \n",
      "30000               0.30                               1                 0  \n",
      "40000                NaN                               3                 0  \n"
     ]
    }
   ],
   "source": [
    "def sistematik_orneklem(df,stp):\n",
    "    idx=np.arange(0,len(df),step=stp)\n",
    "    sample=df.iloc[idx]\n",
    "    return sample\n",
    "\n",
    "sys_sample=sistematik_orneklem(airbnb,10000)\n",
    "print(sys_sample)"
   ]
  },
  {
   "cell_type": "code",
   "execution_count": 47,
   "id": "074a09e1",
   "metadata": {},
   "outputs": [
    {
     "name": "stdout",
     "output_type": "stream",
     "text": [
      "  neighbourhood_group  count      perc\n",
      "0           Manhattan  21661  0.443011\n",
      "1            Brooklyn  20104  0.411167\n",
      "2              Queens   5666  0.115881\n",
      "3               Bronx   1091  0.022313\n",
      "4       Staten Island    373  0.007629\n"
     ]
    }
   ],
   "source": [
    "#print(airbnb)\n",
    "df=airbnb[\"neighbourhood_group\"].value_counts()\n",
    "#print(df)\n",
    "df=pd.DataFrame(df).reset_index()\n",
    "#print(df)\n",
    "df.columns=[\"neighbourhood_group\",\"count\"]\n",
    "df[\"perc\"]=df[\"count\"]/df[\"count\"].sum()\n",
    "print(df)"
   ]
  },
  {
   "cell_type": "code",
   "execution_count": 41,
   "id": "1b7c8d15",
   "metadata": {},
   "outputs": [
    {
     "name": "stdout",
     "output_type": "stream",
     "text": [
      "  neighbourhood_group  count      perc  sample_n\n",
      "0           Manhattan  21661  0.443011     443.0\n",
      "1            Brooklyn  20104  0.411167     411.0\n",
      "2              Queens   5666  0.115881     116.0\n",
      "3               Bronx   1091  0.022313      22.0\n",
      "4       Staten Island    373  0.007629       8.0\n"
     ]
    }
   ],
   "source": [
    "df[\"sample_n\"]=round(df[\"perc\"]*1000)\n",
    "print(df)"
   ]
  },
  {
   "cell_type": "code",
   "execution_count": null,
   "id": "4b11c367",
   "metadata": {},
   "outputs": [],
   "source": [
    "def strata(df,col,val):\n",
    "    col_strat=df[df[col]==val]\n",
    "    return col_strat\n",
    "\n",
    "nbh_list=list(df[\"neighbourhood_group\"])\n",
    "\n",
    "strata_list=[]\n",
    "\n",
    "for i in nbh_list:\n",
    "    strata_list.append(strata(airbnb,\"neighbourhood_group\",i))\n",
    "    \n",
    "print(strata_list)   "
   ]
  },
  {
   "cell_type": "code",
   "execution_count": null,
   "id": "c87cdb0b",
   "metadata": {},
   "outputs": [],
   "source": []
  },
  {
   "cell_type": "code",
   "execution_count": null,
   "id": "870a686d",
   "metadata": {},
   "outputs": [],
   "source": []
  }
 ],
 "metadata": {
  "kernelspec": {
   "display_name": "Python 3 (ipykernel)",
   "language": "python",
   "name": "python3"
  },
  "language_info": {
   "codemirror_mode": {
    "name": "ipython",
    "version": 3
   },
   "file_extension": ".py",
   "mimetype": "text/x-python",
   "name": "python",
   "nbconvert_exporter": "python",
   "pygments_lexer": "ipython3",
   "version": "3.9.7"
  }
 },
 "nbformat": 4,
 "nbformat_minor": 5
}
