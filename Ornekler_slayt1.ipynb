{
 "cells": [
  {
   "cell_type": "code",
   "execution_count": 1,
   "metadata": {},
   "outputs": [
    {
     "name": "stdout",
     "output_type": "stream",
     "text": [
      "Ali\n"
     ]
    }
   ],
   "source": [
    "print(\"Ali\")"
   ]
  },
  {
   "cell_type": "code",
   "execution_count": 1,
   "metadata": {},
   "outputs": [
    {
     "name": "stdout",
     "output_type": "stream",
     "text": [
      "değişken 50\n",
      "SAyı 10.58  oldu\n",
      "sayı degeri ali eren  oldu\n"
     ]
    }
   ],
   "source": [
    "sayı=50\n",
    "print(\"değişken\",sayı)\n",
    "sayı=10.58\n",
    "print(\"SAyı\",sayı,\" oldu\")\n",
    "sayı=\"ali eren\"\n",
    "print(\"sayı degeri\",sayı,\" oldu\")"
   ]
  },
  {
   "cell_type": "code",
   "execution_count": 2,
   "metadata": {},
   "outputs": [
    {
     "name": "stdout",
     "output_type": "stream",
     "text": [
      "Ad: Ali\n",
      "Soyad: eren\n",
      "yaş: 35\n"
     ]
    }
   ],
   "source": [
    "ad,soyad,yaş=\"Ali\",'eren',35\n",
    "print( \"Ad:\",ad )\n",
    "print(\"Soyad:\", soyad)\n",
    "print(\"yaş:\",yaş)"
   ]
  },
  {
   "cell_type": "code",
   "execution_count": 3,
   "metadata": {},
   "outputs": [
    {
     "name": "stdout",
     "output_type": "stream",
     "text": [
      "0\n"
     ]
    }
   ],
   "source": [
    "doğum_yeri=int()\n",
    "print( doğum_yeri )"
   ]
  },
  {
   "cell_type": "code",
   "execution_count": 4,
   "metadata": {},
   "outputs": [
    {
     "name": "stdout",
     "output_type": "stream",
     "text": [
      "105\n",
      "100Elma\n"
     ]
    },
    {
     "ename": "TypeError",
     "evalue": "unsupported operand type(s) for +: 'int' and 'str'",
     "output_type": "error",
     "traceback": [
      "\u001b[1;31m---------------------------------------------------------------------------\u001b[0m",
      "\u001b[1;31mTypeError\u001b[0m                                 Traceback (most recent call last)",
      "\u001b[1;32mc:\\Users\\ali.eren\\Google Drive\\YBS-Doktora\\2.Dönem\\Persembe_Python ile Veri Analitigi Uygu\\kodlar\\Ornekler_slayt1.ipynb Hücre 5\u001b[0m in \u001b[0;36m<cell line: 7>\u001b[1;34m()\u001b[0m\n\u001b[0;32m      <a href='vscode-notebook-cell:/c%3A/Users/ali.eren/Google%20Drive/YBS-Doktora/2.D%C3%B6nem/Persembe_Python%20ile%20Veri%20Analitigi%20Uygu/kodlar/Ornekler_slayt1.ipynb#W4sZmlsZQ%3D%3D?line=4'>5</a>\u001b[0m \u001b[39mprint\u001b[39m(x\u001b[39m+\u001b[39mq)\n\u001b[0;32m      <a href='vscode-notebook-cell:/c%3A/Users/ali.eren/Google%20Drive/YBS-Doktora/2.D%C3%B6nem/Persembe_Python%20ile%20Veri%20Analitigi%20Uygu/kodlar/Ornekler_slayt1.ipynb#W4sZmlsZQ%3D%3D?line=5'>6</a>\u001b[0m \u001b[39mprint\u001b[39m(y\u001b[39m+\u001b[39mz)\n\u001b[1;32m----> <a href='vscode-notebook-cell:/c%3A/Users/ali.eren/Google%20Drive/YBS-Doktora/2.D%C3%B6nem/Persembe_Python%20ile%20Veri%20Analitigi%20Uygu/kodlar/Ornekler_slayt1.ipynb#W4sZmlsZQ%3D%3D?line=6'>7</a>\u001b[0m \u001b[39mprint\u001b[39m(x\u001b[39m+\u001b[39;49my)\n\u001b[0;32m      <a href='vscode-notebook-cell:/c%3A/Users/ali.eren/Google%20Drive/YBS-Doktora/2.D%C3%B6nem/Persembe_Python%20ile%20Veri%20Analitigi%20Uygu/kodlar/Ornekler_slayt1.ipynb#W4sZmlsZQ%3D%3D?line=7'>8</a>\u001b[0m \u001b[39mprint\u001b[39m(x\u001b[39m+\u001b[39mz)\n",
      "\u001b[1;31mTypeError\u001b[0m: unsupported operand type(s) for +: 'int' and 'str'"
     ]
    }
   ],
   "source": [
    "x=5\n",
    "y='100'\n",
    "z='Elma'\n",
    "q=100\n",
    "print(x+q)\n",
    "print(y+z)\n",
    "print(x+y)\n",
    "print(x+z)"
   ]
  },
  {
   "cell_type": "code",
   "execution_count": 6,
   "metadata": {},
   "outputs": [
    {
     "name": "stdout",
     "output_type": "stream",
     "text": [
      "3030303030\n",
      "3030303030\n"
     ]
    }
   ],
   "source": [
    "x=5\n",
    "y='30'\n",
    "print(x*y)\n",
    "print(y*x)"
   ]
  },
  {
   "cell_type": "code",
   "execution_count": 8,
   "metadata": {},
   "outputs": [
    {
     "name": "stdout",
     "output_type": "stream",
     "text": [
      "M\n",
      "rha\n",
      "Dünya\n",
      "y\n",
      "Merhaba\n",
      "Dünya\n",
      "Mraa\n"
     ]
    }
   ],
   "source": [
    "metin='Merhaba Dünya'\n",
    "print(metin[0])\n",
    "print(metin[2:5])\n",
    "print(metin[8::])\n",
    "print(metin[-2])\n",
    "print(metin[:7])\n",
    "print(metin[8:])\n",
    "print(metin[0:8:2])"
   ]
  },
  {
   "cell_type": "code",
   "execution_count": 9,
   "metadata": {},
   "outputs": [
    {
     "name": "stdout",
     "output_type": "stream",
     "text": [
      "<class 'int'>\n",
      "<class 'str'>\n"
     ]
    }
   ],
   "source": [
    "a=5\n",
    "b='ali'\n",
    "print(type(a))\n",
    "print(type(b))\n"
   ]
  },
  {
   "cell_type": "code",
   "execution_count": 14,
   "metadata": {},
   "outputs": [
    {
     "name": "stdout",
     "output_type": "stream",
     "text": [
      "255\n",
      "30\n",
      "2.2\n",
      "2\n"
     ]
    }
   ],
   "source": [
    "str1='25'\n",
    "str2='5'\n",
    "str3='2.2'\n",
    "print(str1+str2)\n",
    "print(int(str1)+int(str2))\n",
    "print(float(str3))\n",
    "print(int(float(str3)))"
   ]
  },
  {
   "cell_type": "code",
   "execution_count": 16,
   "metadata": {},
   "outputs": [
    {
     "name": "stdout",
     "output_type": "stream",
     "text": [
      "2\n",
      "8\n",
      "15\n",
      "1.6666666666666667\n",
      "125\n",
      "2\n"
     ]
    }
   ],
   "source": [
    "sayi1=5\n",
    "sayi2=3\n",
    "sayi3=sayi1-sayi2\n",
    "print(sayi3)\n",
    "sayi3=sayi1+sayi2\n",
    "print(sayi3)\n",
    "sayi3=sayi1*sayi2\n",
    "print(sayi3)\n",
    "sayi3=sayi1/sayi2\n",
    "print(sayi3)\n",
    "sayi3=sayi1**sayi2\n",
    "print(sayi3)\n",
    "sayi3=sayi1%sayi2\n",
    "print(sayi3)"
   ]
  }
 ],
 "metadata": {
  "kernelspec": {
   "display_name": "Python 3.8.8",
   "language": "python",
   "name": "python3"
  },
  "language_info": {
   "codemirror_mode": {
    "name": "ipython",
    "version": 3
   },
   "file_extension": ".py",
   "mimetype": "text/x-python",
   "name": "python",
   "nbconvert_exporter": "python",
   "pygments_lexer": "ipython3",
   "version": "3.8.8"
  },
  "orig_nbformat": 4,
  "vscode": {
   "interpreter": {
    "hash": "6c7b24f2af6d8326af019a2c1e3781e3fd7f155564fc6b2146da6d6b307574a7"
   }
  }
 },
 "nbformat": 4,
 "nbformat_minor": 2
}
