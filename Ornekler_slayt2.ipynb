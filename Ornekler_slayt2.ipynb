{
 "cells": [
  {
   "cell_type": "code",
   "execution_count": 8,
   "metadata": {},
   "outputs": [
    {
     "name": "stdout",
     "output_type": "stream",
     "text": [
      "8 çift sayıdır\n",
      "8 tek sayıdır\n"
     ]
    }
   ],
   "source": [
    "sayı=input(\"sayı giriniz\")\n",
    "s=int(sayı)\n",
    "x=(-1)**s\n",
    "if(x==1):\n",
    "    print(sayı+\" çift sayıdır\")\n",
    "print(sayı+\" tek sayıdır\")"
   ]
  },
  {
   "cell_type": "code",
   "execution_count": 9,
   "metadata": {},
   "outputs": [
    {
     "name": "stdout",
     "output_type": "stream",
     "text": [
      "Bahar\n"
     ]
    }
   ],
   "source": [
    "a=int(input(\"ay kodu giriniz(1-12)\"))\n",
    "if(a==1 or a==2 or a==12):\n",
    "    print(\"Kış\")\n",
    "elif(a==3 or a==4 or a==5):\n",
    "    print(\"Bahar\")\n",
    "elif(a==6 or a==7 or a==8):\n",
    "    print(\"Yaz\")\n",
    "elif(a==9 or a==10 or a==11):\n",
    "    print(\"Sonbahar\")\n",
    "else:\n",
    "    print(\"GEçerli sayı girmediniz.\")\n"
   ]
  },
  {
   "cell_type": "code",
   "execution_count": 10,
   "metadata": {},
   "outputs": [
    {
     "name": "stdout",
     "output_type": "stream",
     "text": [
      "Nokta 4. eksenda +,-\n"
     ]
    }
   ],
   "source": [
    "#Çalışma sorusu 2. hafta 6. sayfa \n",
    "coorx=int(input(\"x koordinat değri giriniz\"))\n",
    "coory=int(input(\"y koordinat değeri giriniz\"))\n",
    "\n",
    "if(coorx>=0 and coory>=0):\n",
    "    print(\"Nokta 1. eksenda +,+\")\n",
    "elif(coorx<0 and coory>=0):\n",
    "    print(\"Nokta 2. eksenda -,+\")\n",
    "elif(coorx<0 and coory<0):\n",
    "    print(\"Nokta 3. eksenda -,-\")\n",
    "elif(coorx>=0 and coory<0):\n",
    "    print(\"Nokta 4. eksenda +,-\")\n",
    "else:\n",
    "    print(\"değerlerde hata var\")\n"
   ]
  },
  {
   "cell_type": "code",
   "execution_count": 11,
   "metadata": {},
   "outputs": [
    {
     "name": "stdout",
     "output_type": "stream",
     "text": [
      "2,4,6,8,10,12,14,16,18,20,"
     ]
    }
   ],
   "source": [
    "k=1\n",
    "while k<=20:\n",
    "    if k%2==0:\n",
    "        print(k,end=\",\")\n",
    "    k+=1\n"
   ]
  },
  {
   "cell_type": "code",
   "execution_count": 14,
   "metadata": {},
   "outputs": [
    {
     "name": "stdout",
     "output_type": "stream",
     "text": [
      "1-100 arası sayı tutunuz\n",
      "daha büyük sayı seçin\n",
      "daha küçük sayı seçin\n",
      "Bildiniz tuttuğum sayı: 45\n",
      "Sayıyı  3 seferde buldunuz.\n",
      "Sayıyı 3 seferde buldunuz.\n"
     ]
    }
   ],
   "source": [
    "sayı=45\n",
    "sayac=0\n",
    "print(\"1-100 arası sayı tutunuz\")\n",
    "while 1==1:\n",
    "    sayac+=1\n",
    "    cevap=int(input(\"1-100 arası sayı giriniz\"))\n",
    "    if cevap>sayı:\n",
    "        print(\"daha küçük sayı seçin\")\n",
    "    elif cevap<sayı:\n",
    "        print(\"daha büyük sayı seçin\")\n",
    "    else:\n",
    "        print(\"Bildiniz tuttuğum sayı:\",sayı)\n",
    "        break\n",
    "print(\"Sayıyı \",sayac,\"seferde buldunuz.\")\n",
    "print(\"Sayıyı {} seferde buldunuz.\".format(sayac))"
   ]
  },
  {
   "cell_type": "code",
   "execution_count": 15,
   "metadata": {},
   "outputs": [
    {
     "name": "stdout",
     "output_type": "stream",
     "text": [
      "M.u.z.a.f.f.a.r.e.d.d.i.n."
     ]
    }
   ],
   "source": [
    "isim=\"Muzaffareddin\"\n",
    "for i in isim:\n",
    "    print(i,end=\".\")"
   ]
  },
  {
   "cell_type": "code",
   "execution_count": 21,
   "metadata": {},
   "outputs": [
    {
     "name": "stdout",
     "output_type": "stream",
     "text": [
      "Metinde 5 defa a harfi var.\n"
     ]
    }
   ],
   "source": [
    "metin=\"Sokaktasayamamgibi\"\n",
    "harf=input(\"Hangi harfi sayayım?\")\n",
    "sayac=0\n",
    "for i in metin:\n",
    "    if i==harf:\n",
    "        sayac=sayac+1\n",
    "print(\"Metinde {} defa {} harfi var.\".format(sayac,harf))\n"
   ]
  },
  {
   "cell_type": "code",
   "execution_count": 25,
   "metadata": {},
   "outputs": [
    {
     "name": "stdout",
     "output_type": "stream",
     "text": [
      "F,ş,ç,ş,h,p,"
     ]
    }
   ],
   "source": [
    "metin1=\"Fiştikçi şahap\"\n",
    "metin2=\"sokaakta sayamamgibi\"\n",
    "for i in metin1:\n",
    "    if not i in metin2:\n",
    "        print(i,end=\",\")"
   ]
  },
  {
   "cell_type": "code",
   "execution_count": 27,
   "metadata": {},
   "outputs": [
    {
     "name": "stdout",
     "output_type": "stream",
     "text": [
      "1 x 1 = 1\n",
      "1 x 2 = 2\n",
      "1 x 3 = 3\n",
      "\n",
      "\n",
      "2 x 1 = 2\n",
      "2 x 2 = 4\n",
      "2 x 3 = 6\n",
      "\n",
      "\n",
      "3 x 1 = 3\n",
      "3 x 2 = 6\n",
      "3 x 3 = 9\n",
      "\n",
      "\n"
     ]
    }
   ],
   "source": [
    "for i in range(1,4):\n",
    "    for j in range(1,4):\n",
    "        print(\"{} x {} = {}\".format(i,j,i*j))\n",
    "    print(\"\\n\")"
   ]
  },
  {
   "cell_type": "code",
   "execution_count": 3,
   "metadata": {},
   "outputs": [
    {
     "name": "stdout",
     "output_type": "stream",
     "text": [
      "5/10/15/20/25/30/35/40/45/"
     ]
    }
   ],
   "source": [
    "for i in range(5,50,5):\n",
    "    #print(\"{}\".format(i))\n",
    "    print(i,end=\"/\")"
   ]
  },
  {
   "cell_type": "code",
   "execution_count": 27,
   "metadata": {},
   "outputs": [
    {
     "name": "stdout",
     "output_type": "stream",
     "text": [
      "3x-3 = -9\n"
     ]
    }
   ],
   "source": [
    "#Toplama kuralına göre girişten verilen iki tam sayının çarpımı yapan\n",
    "#kodları yazalım.\n",
    "sayi1=int(input(\"sayı 1\"))\n",
    "sayi2=int(input(\"sayı 2\"))\n",
    "deger=0\n",
    "for i in range(abs(sayi2)):\n",
    "    deger=deger+abs(sayi1)\n",
    "\n",
    "if (sayi1<0 or sayi2<0) and not(sayi1<0 and sayi2<0):\n",
    "    deger = deger*(-1)    \n",
    "else:\n",
    "    deger = abs(deger)\n",
    "\n",
    "print(\"{}x{} = {}\".format(sayi1,sayi2,deger))   "
   ]
  },
  {
   "cell_type": "code",
   "execution_count": 30,
   "metadata": {},
   "outputs": [
    {
     "name": "stdout",
     "output_type": "stream",
     "text": [
      "<class 'list'>\n",
      "[10, '30', 'elli']\n",
      "<class 'list'>\n"
     ]
    }
   ],
   "source": [
    "listeboş=[]\n",
    "print(type(listeboş))\n",
    "\n",
    "liste1=[10,\"30\",\"elli\"]\n",
    "print(liste1)\n",
    "print(type(liste1))"
   ]
  },
  {
   "cell_type": "code",
   "execution_count": 32,
   "metadata": {},
   "outputs": [
    {
     "name": "stdout",
     "output_type": "stream",
     "text": [
      "['ankara', 'muş', 'elazığ', 'kastamonu']\n",
      "['muş', 'kastamonu', 'elazığ', 'ankara']\n",
      "['ankara', 'elazığ', 'kastamonu', 'muş']\n",
      "[1, 6, 8, 11, 5]\n",
      "[11, 8, 6, 5, 1]\n",
      "[1, 5, 6, 8, 11]\n"
     ]
    }
   ],
   "source": [
    "iller=[\"ankara\",\"muş\",\"elazığ\",\"kastamonu\"]\n",
    "print(iller)\n",
    "iller.sort(reverse=1)\n",
    "print(iller)\n",
    "iller.sort(reverse=0)\n",
    "print(iller)\n",
    "sayilar=[1,6,8,11,5]\n",
    "print(sayilar)\n",
    "sayilar.sort(reverse=1)\n",
    "print(sayilar)\n",
    "sayilar.sort(reverse=0)\n",
    "print(sayilar)"
   ]
  },
  {
   "cell_type": "code",
   "execution_count": 54,
   "metadata": {},
   "outputs": [
    {
     "name": "stdout",
     "output_type": "stream",
     "text": [
      "['ali', 'beste', 'kerem', 'zafer']\n",
      "4\n",
      "1\n",
      "kerem\n",
      "None\n",
      "-------\n",
      "['beste', 'zafer']\n",
      "['beste', 'zafer', 'matur', 'murat', 'seher']\n",
      "5\n",
      "['seher', 'murat', 'matur', 'zafer', 'beste']\n",
      "['seher', 'murat', 'matur', 'zafer', 'beste', 'nesibe']\n"
     ]
    }
   ],
   "source": [
    "listeisim=['ali','beste','kerem','zafer']\n",
    "print(listeisim)\n",
    "print(len(listeisim))\n",
    "print(listeisim.index(\"beste\"))\n",
    "sil=listeisim.pop(2)\n",
    "print(sil)\n",
    "sil2=listeisim.remove('ali')\n",
    "print(sil2)\n",
    "print(\"-------\")\n",
    "print(listeisim)\n",
    "liste2=[\"matur\",\"murat\",\"seher\"]\n",
    "listeisim.extend(liste2)\n",
    "print((listeisim))\n",
    "print(len(listeisim))\n",
    "listeisim.reverse()\n",
    "print(listeisim)\n",
    "listeisim.append(\"nesibe\")\n",
    "print(listeisim)"
   ]
  },
  {
   "cell_type": "code",
   "execution_count": 56,
   "metadata": {},
   "outputs": [
    {
     "name": "stdout",
     "output_type": "stream",
     "text": [
      "[25, 'çorba']\n",
      "çorba\n",
      "35\n"
     ]
    }
   ],
   "source": [
    "yemek_menu=[[25,'çorba'],[35,'pilav'],[55,'döner']]\n",
    "print(yemek_menu[0])\n",
    "print(yemek_menu[0][1])\n",
    "print(yemek_menu[1][0])\n"
   ]
  },
  {
   "cell_type": "code",
   "execution_count": 57,
   "metadata": {},
   "outputs": [
    {
     "name": "stdout",
     "output_type": "stream",
     "text": [
      "[3, 4, 7, 8, 10, 11, 14, 15]\n"
     ]
    }
   ],
   "source": [
    "liste=[[3,4],[7,8],[10,11],[14,15]]\n",
    "liste2=[]\n",
    "for i,j in liste:\n",
    "    liste2.append(i)\n",
    "    liste2.append(j)\n",
    "print(liste2)"
   ]
  },
  {
   "cell_type": "code",
   "execution_count": 115,
   "metadata": {},
   "outputs": [
    {
     "name": "stdout",
     "output_type": "stream",
     "text": [
      "------------------\n",
      "En büyük  750\n",
      "En küçük  100\n",
      "Ortalama  422.22222222222223\n",
      "Toplam  3800\n",
      "------------------\n",
      "[300, 500, 250, 380, 470, 350, 350, 450, 750]\n"
     ]
    }
   ],
   "source": [
    "satislar=[\n",
    "    [[\"Ocak\",300],[\"Şubat\",500],[\"Mart\",250]],\n",
    "    [[\"Ocak\",380],[\"Şubat\",470],[\"Mart\",350]],\n",
    "    [[\"Ocak\",350],[\"Şubat\",450],[\"Mart\",750]],\n",
    "]\n",
    "\n",
    "liste=[]\n",
    "for i,j,k in satislar:\n",
    "    liste.append(i[1])\n",
    "    liste.append(j[1])\n",
    "    liste.append(k[1])\n",
    "enb=0\n",
    "topla=0\n",
    "\n",
    "for a in liste:\n",
    "    if a>=enb:\n",
    "        enb=a  \n",
    "    \n",
    "    if enk >=a:\n",
    "        enk=a  \n",
    "    \n",
    "    topla+=a\n",
    "           \n",
    "print(\"------------------\")\n",
    "print(\"En büyük \", enb) \n",
    "print(\"En küçük \", enk) \n",
    "print(\"Ortalama \",topla/len(liste)) \n",
    "print(\"Toplam \",topla) \n",
    "print(\"------------------\")\n",
    "print(liste)      "
   ]
  },
  {
   "cell_type": "code",
   "execution_count": 118,
   "metadata": {},
   "outputs": [
    {
     "name": "stdout",
     "output_type": "stream",
     "text": [
      "555555\n",
      "88888\n"
     ]
    }
   ],
   "source": [
    "telefon= {\"ali\":\"555555\",\"Mehmet\":\"88888\",\"Ahmet\":\"344444\"}\n",
    "print(telefon[\"ali\"])\n",
    "ara=input(\"isim giriniz(ali,Mehmet,Ahmet)\")\n",
    "print(telefon[ara])"
   ]
  },
  {
   "cell_type": "code",
   "execution_count": 120,
   "metadata": {},
   "outputs": [
    {
     "name": "stdout",
     "output_type": "stream",
     "text": [
      "{'1': 'bir', '2': 'iki', '3': 'üç'}\n",
      "Anahtarlar dict_keys(['1', '2', '3'])\n",
      "Değerler dict_values(['bir', 'iki', 'üç'])\n",
      "Elemanlar dict_items([('1', 'bir'), ('2', 'iki'), ('3', 'üç')])\n"
     ]
    }
   ],
   "source": [
    "sözlük={\"1\":\"bir\",\"2\":\"iki\",\"3\":\"üç\"}\n",
    "print(sözlük)\n",
    "print(\"Anahtarlar\",sözlük.keys())\n",
    "print(\"Değerler\",sözlük.values())\n",
    "print(\"Elemanlar\",sözlük.items())"
   ]
  },
  {
   "cell_type": "code",
   "execution_count": 123,
   "metadata": {},
   "outputs": [
    {
     "name": "stdout",
     "output_type": "stream",
     "text": [
      "555555\n"
     ]
    }
   ],
   "source": [
    "telefon= {\"ali\":\"555555\",\"Mehmet\":\"88888\",\"Ahmet\":\"344444\"}\n",
    "kisi=input(\"kişi giriniz:\")\n",
    "\n",
    "sonuc=telefon.get(kisi,\"kişi kayıtlı değil\")\n",
    "print(sonuc)\n"
   ]
  },
  {
   "cell_type": "code",
   "execution_count": 130,
   "metadata": {},
   "outputs": [
    {
     "name": "stdout",
     "output_type": "stream",
     "text": [
      "{'ali': '555555', 'Mehmet': '88888', 'Ahmet': '344444', 'murat': '2222'}\n",
      "{'ali': '555555', 'Mehmet': '88888', 'Ahmet': '344444'}\n",
      "{'ali': '555555', 'Ahmet': '344444', 'murat': '2222'}\n",
      "{'Ahmet': '344444', 'murat': '2222'}\n",
      "{'Ahmet': '344444'}\n"
     ]
    }
   ],
   "source": [
    "telefon= {\"ali\":\"555555\",\"Mehmet\":\"88888\",\"Ahmet\":\"344444\"}\n",
    "telefonyedek=telefon.copy()\n",
    "telefon['murat']=\"2222\"\n",
    "print(telefon)\n",
    "print(telefonyedek)\n",
    "del telefon[\"Mehmet\"]\n",
    "print(telefon)\n",
    "telefon.pop(\"ali\")\n",
    "print(telefon)\n",
    "telefon.popitem()\n",
    "print(telefon)\n"
   ]
  },
  {
   "cell_type": "code",
   "execution_count": 2,
   "metadata": {},
   "outputs": [
    {
     "name": "stdout",
     "output_type": "stream",
     "text": [
      "('PAzartesi', 'Salı', 'Çarşamba', 'Perşembe', 'Cuma')\n",
      "PAzartesi\n"
     ]
    },
    {
     "ename": "TypeError",
     "evalue": "'tuple' object does not support item assignment",
     "output_type": "error",
     "traceback": [
      "\u001b[1;31m---------------------------------------------------------------------------\u001b[0m",
      "\u001b[1;31mTypeError\u001b[0m                                 Traceback (most recent call last)",
      "\u001b[1;32mc:\\Users\\ali.eren\\Google Drive\\YBS-Doktora\\2.Dönem\\Persembe_Python ile Veri Analitigi Uygu\\kodlar\\Ornekler_slayt2.ipynb Hücre 22\u001b[0m in \u001b[0;36m<cell line: 4>\u001b[1;34m()\u001b[0m\n\u001b[0;32m      <a href='vscode-notebook-cell:/c%3A/Users/ali.eren/Google%20Drive/YBS-Doktora/2.D%C3%B6nem/Persembe_Python%20ile%20Veri%20Analitigi%20Uygu/kodlar/Ornekler_slayt2.ipynb#X30sZmlsZQ%3D%3D?line=1'>2</a>\u001b[0m \u001b[39mprint\u001b[39m(Günler)\n\u001b[0;32m      <a href='vscode-notebook-cell:/c%3A/Users/ali.eren/Google%20Drive/YBS-Doktora/2.D%C3%B6nem/Persembe_Python%20ile%20Veri%20Analitigi%20Uygu/kodlar/Ornekler_slayt2.ipynb#X30sZmlsZQ%3D%3D?line=2'>3</a>\u001b[0m \u001b[39mprint\u001b[39m(Günler[\u001b[39m0\u001b[39m])\n\u001b[1;32m----> <a href='vscode-notebook-cell:/c%3A/Users/ali.eren/Google%20Drive/YBS-Doktora/2.D%C3%B6nem/Persembe_Python%20ile%20Veri%20Analitigi%20Uygu/kodlar/Ornekler_slayt2.ipynb#X30sZmlsZQ%3D%3D?line=3'>4</a>\u001b[0m Günler[\u001b[39m1\u001b[39m]\u001b[39m=\u001b[39m\u001b[39m\"\u001b[39m\u001b[39mPazar\u001b[39m\u001b[39m\"\u001b[39m\n\u001b[0;32m      <a href='vscode-notebook-cell:/c%3A/Users/ali.eren/Google%20Drive/YBS-Doktora/2.D%C3%B6nem/Persembe_Python%20ile%20Veri%20Analitigi%20Uygu/kodlar/Ornekler_slayt2.ipynb#X30sZmlsZQ%3D%3D?line=4'>5</a>\u001b[0m \u001b[39mprint\u001b[39m(Günler[\u001b[39m1\u001b[39m])\n",
      "\u001b[1;31mTypeError\u001b[0m: 'tuple' object does not support item assignment"
     ]
    }
   ],
   "source": [
    "Günler= ('PAzartesi','Salı','Çarşamba','Perşembe','Cuma')\n",
    "print(Günler)\n",
    "print(Günler[0])\n",
    "Günler[1]=\"Pazar\"\n",
    "print(Günler[1])\n"
   ]
  },
  {
   "cell_type": "code",
   "execution_count": 4,
   "metadata": {},
   "outputs": [
    {
     "name": "stdout",
     "output_type": "stream",
     "text": [
      "3.14\n",
      "2.78\n"
     ]
    }
   ],
   "source": [
    "sabitler=(3.14,2.78)\n",
    "pi,e=sabitler\n",
    "print(pi)\n",
    "print(e)"
   ]
  },
  {
   "cell_type": "code",
   "execution_count": 14,
   "metadata": {},
   "outputs": [
    {
     "name": "stdout",
     "output_type": "stream",
     "text": [
      "{'Portakal', 'Araba', '3', 'araba', 222}\n",
      "5\n",
      "{'Portakal', 'Araba', '3', 'araba', 'ağaç', 222}\n",
      "{'Portakal', 'Araba', '3', 'araba', 222}\n",
      "///////////////////\n",
      "{'Portakal', 'Araba', 'çilek', 'muz', '3', 'araba', 'ağaç', 222}\n",
      "///////////////////\n",
      "{'Portakal', 'çilek', 'muz', '3', 'araba', 'ağaç', 222}\n"
     ]
    },
    {
     "ename": "TypeError",
     "evalue": "'set' object is not subscriptable",
     "output_type": "error",
     "traceback": [
      "\u001b[1;31m---------------------------------------------------------------------------\u001b[0m",
      "\u001b[1;31mTypeError\u001b[0m                                 Traceback (most recent call last)",
      "\u001b[1;32mc:\\Users\\ali.eren\\Google Drive\\YBS-Doktora\\2.Dönem\\Persembe_Python ile Veri Analitigi Uygu\\kodlar\\Ornekler_slayt2.ipynb Hücre 24\u001b[0m in \u001b[0;36m<cell line: 17>\u001b[1;34m()\u001b[0m\n\u001b[0;32m     <a href='vscode-notebook-cell:/c%3A/Users/ali.eren/Google%20Drive/YBS-Doktora/2.D%C3%B6nem/Persembe_Python%20ile%20Veri%20Analitigi%20Uygu/kodlar/Ornekler_slayt2.ipynb#X32sZmlsZQ%3D%3D?line=13'>14</a>\u001b[0m küme\u001b[39m.\u001b[39mremove(\u001b[39m\"\u001b[39m\u001b[39mAraba\u001b[39m\u001b[39m\"\u001b[39m)\n\u001b[0;32m     <a href='vscode-notebook-cell:/c%3A/Users/ali.eren/Google%20Drive/YBS-Doktora/2.D%C3%B6nem/Persembe_Python%20ile%20Veri%20Analitigi%20Uygu/kodlar/Ornekler_slayt2.ipynb#X32sZmlsZQ%3D%3D?line=14'>15</a>\u001b[0m \u001b[39mprint\u001b[39m(küme)\n\u001b[1;32m---> <a href='vscode-notebook-cell:/c%3A/Users/ali.eren/Google%20Drive/YBS-Doktora/2.D%C3%B6nem/Persembe_Python%20ile%20Veri%20Analitigi%20Uygu/kodlar/Ornekler_slayt2.ipynb#X32sZmlsZQ%3D%3D?line=16'>17</a>\u001b[0m \u001b[39mprint\u001b[39m(küme[\u001b[39m0\u001b[39;49m])\n",
      "\u001b[1;31mTypeError\u001b[0m: 'set' object is not subscriptable"
     ]
    }
   ],
   "source": [
    "küme={'Portakal','araba','Araba','Portakal',222,'3'}\n",
    "küme2={'çilek','muz'}\n",
    "sayı=len(küme)\n",
    "print(küme)\n",
    "print(sayı)\n",
    "yedek=küme.copy()\n",
    "küme.add(\"ağaç\")\n",
    "print(küme)\n",
    "print(yedek)\n",
    "print(\"///////////////////\")\n",
    "küme.update(küme2)\n",
    "print(küme)\n",
    "print(\"///////////////////\")\n",
    "küme.remove(\"Araba\")\n",
    "print(küme)\n",
    "print(\"///////////////////\")\n",
    "\n",
    "print(küme[0])"
   ]
  }
 ],
 "metadata": {
  "kernelspec": {
   "display_name": "Python 3.8.8",
   "language": "python",
   "name": "python3"
  },
  "language_info": {
   "codemirror_mode": {
    "name": "ipython",
    "version": 3
   },
   "file_extension": ".py",
   "mimetype": "text/x-python",
   "name": "python",
   "nbconvert_exporter": "python",
   "pygments_lexer": "ipython3",
   "version": "3.8.8"
  },
  "orig_nbformat": 4,
  "vscode": {
   "interpreter": {
    "hash": "6c7b24f2af6d8326af019a2c1e3781e3fd7f155564fc6b2146da6d6b307574a7"
   }
  }
 },
 "nbformat": 4,
 "nbformat_minor": 2
}
