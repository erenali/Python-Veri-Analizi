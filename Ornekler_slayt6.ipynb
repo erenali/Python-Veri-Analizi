{
 "cells": [
  {
   "cell_type": "code",
   "execution_count": 50,
   "metadata": {},
   "outputs": [
    {
     "name": "stdout",
     "output_type": "stream",
     "text": [
      "<class 'pandas.core.frame.DataFrame'>\n",
      "RangeIndex: 48895 entries, 0 to 48894\n",
      "Data columns (total 16 columns):\n",
      " #   Column                          Non-Null Count  Dtype  \n",
      "---  ------                          --------------  -----  \n",
      " 0   id                              48895 non-null  int64  \n",
      " 1   name                            48879 non-null  object \n",
      " 2   host_id                         48895 non-null  int64  \n",
      " 3   host_name                       48874 non-null  object \n",
      " 4   neighbourhood_group             48895 non-null  object \n",
      " 5   neighbourhood                   48895 non-null  object \n",
      " 6   latitude                        48895 non-null  float64\n",
      " 7   longitude                       48895 non-null  float64\n",
      " 8   room_type                       48895 non-null  object \n",
      " 9   price                           48895 non-null  int64  \n",
      " 10  minimum_nights                  48895 non-null  int64  \n",
      " 11  number_of_reviews               48895 non-null  int64  \n",
      " 12  last_review                     38843 non-null  object \n",
      " 13  reviews_per_month               38843 non-null  float64\n",
      " 14  calculated_host_listings_count  48895 non-null  int64  \n",
      " 15  availability_365                48895 non-null  int64  \n",
      "dtypes: float64(3), int64(7), object(6)\n",
      "memory usage: 6.0+ MB\n"
     ]
    }
   ],
   "source": [
    "##gerekli kütüphanelerin import edilmesi\n",
    "import matplotlib.pyplot as plt\n",
    "import numpy as np\n",
    "import pandas as pd\n",
    "import seaborn as sns\n",
    "import plotly.express as px\n",
    "\n",
    "airbnb=pd.read_csv(\"NYC_2019.csv\")\n",
    "airbnb.info()"
   ]
  },
  {
   "cell_type": "code",
   "execution_count": 51,
   "metadata": {},
   "outputs": [
    {
     "name": "stdout",
     "output_type": "stream",
     "text": [
      "             id                                               name    host_id  \\\n",
      "37496  29758404  Entire Apartment in Beautiful Brooklyn Brownstone  223886475   \n",
      "39539  30791183  Spacious One Bedroom Apartment (sleeps 2-5 peo...  230367259   \n",
      "33637  26633920            Sunny studio apartment in Greenpoint BK    7117901   \n",
      "47652  35845476     Modern & Hip Building - Quiet Room - Elevator!    4239407   \n",
      "13015   9866039                  Modern, Large & Cozy 1 BR NYC Apt     314008   \n",
      "13553  10136508  Charming private room in Astoria-20 min to Mid...   17653796   \n",
      "30194  23302837                 Basement studio with half bathroom   40733012   \n",
      "33638  26635476      Newly Renovated Apartment in Upper Manhattan!   57322447   \n",
      "10640   8183217                 Spacious Room in Heart of Brooklyn   37563411   \n",
      "2820    1578776                       Nice private room in Astoria    4645357   \n",
      "\n",
      "              host_name neighbourhood_group       neighbourhood  latitude  \\\n",
      "37496        John & Dee            Brooklyn     Carroll Gardens  40.68564   \n",
      "39539             James           Manhattan     Upper East Side  40.77861   \n",
      "33637            Krista            Brooklyn          Greenpoint  40.72878   \n",
      "47652             Steve           Manhattan           Chinatown  40.71658   \n",
      "13015          Charline           Manhattan             Midtown  40.75247   \n",
      "13553             Diana              Queens    Ditmars Steinway  40.77575   \n",
      "30194            Victor            Brooklyn  Bedford-Stuyvesant  40.68231   \n",
      "33638           Matthew           Manhattan              Inwood  40.86159   \n",
      "10640  Andrew And Talia            Brooklyn       Crown Heights  40.66820   \n",
      "2820            Beatrix              Queens    Long Island City  40.75909   \n",
      "\n",
      "       longitude        room_type  price  minimum_nights  number_of_reviews  \\\n",
      "37496  -73.99201  Entire home/apt    170               2                  8   \n",
      "39539  -73.94628  Entire home/apt    200               7                  0   \n",
      "33637  -73.95823  Entire home/apt    137               3                  0   \n",
      "47652  -73.99065     Private room     89               2                  0   \n",
      "13015  -73.97196  Entire home/apt    270               4                  8   \n",
      "13553  -73.91419     Private room     45               1                 27   \n",
      "30194  -73.91252     Private room     40               7                  0   \n",
      "33638  -73.92616  Entire home/apt    100               4                  3   \n",
      "10640  -73.94927     Private room     65              14                  0   \n",
      "2820   -73.93217     Private room     51               1                165   \n",
      "\n",
      "      last_review  reviews_per_month  calculated_host_listings_count  \\\n",
      "37496  2019-06-03               2.79                               1   \n",
      "39539         NaN                NaN                               1   \n",
      "33637         NaN                NaN                               1   \n",
      "47652         NaN                NaN                               2   \n",
      "13015  2018-04-10               0.19                               1   \n",
      "13553  2019-06-24               0.75                               1   \n",
      "30194         NaN                NaN                               1   \n",
      "33638  2018-10-31               0.26                               1   \n",
      "10640         NaN                NaN                               3   \n",
      "2820   2019-06-23               2.36                               1   \n",
      "\n",
      "       availability_365  \n",
      "37496                 0  \n",
      "39539               235  \n",
      "33637                 0  \n",
      "47652                10  \n",
      "13015                 0  \n",
      "13553                16  \n",
      "30194               365  \n",
      "33638                 0  \n",
      "10640                 0  \n",
      "2820                361  \n"
     ]
    }
   ],
   "source": [
    "s1=airbnb.sample(n=10)\n",
    "print(s1)"
   ]
  },
  {
   "cell_type": "code",
   "execution_count": 52,
   "metadata": {},
   "outputs": [
    {
     "name": "stdout",
     "output_type": "stream",
     "text": [
      "             id                                          name   host_id  \\\n",
      "0          2539            Clean & quiet apt home by the park      2787   \n",
      "20000  16010783  Spacious Harlem Apartment perfect for groups  15757322   \n",
      "40000  31069988    Beautiful Apartment on the Upper West Side  17494958   \n",
      "\n",
      "      host_name neighbourhood_group    neighbourhood  latitude  longitude  \\\n",
      "0          John            Brooklyn       Kensington  40.64749  -73.97237   \n",
      "20000  Devin T.           Manhattan      East Harlem  40.79580  -73.93186   \n",
      "40000      Katy           Manhattan  Upper West Side  40.77391  -73.98874   \n",
      "\n",
      "             room_type  price  minimum_nights  number_of_reviews last_review  \\\n",
      "0         Private room    149               1                  9  2018-10-19   \n",
      "20000  Entire home/apt    280               2                 53  2019-07-03   \n",
      "40000  Entire home/apt    200               3                  0         NaN   \n",
      "\n",
      "       reviews_per_month  calculated_host_listings_count  availability_365  \n",
      "0                   0.21                               6               365  \n",
      "20000               2.29                               2                12  \n",
      "40000                NaN                               3                 0  \n"
     ]
    }
   ],
   "source": [
    "def systematic_samp(df,stp):\n",
    "    idx=np.arange(0,len(df),step=stp)\n",
    "    sample=df.iloc[idx]\n",
    "    \n",
    "    return sample\n",
    "\n",
    "sys_samp=systematic_samp(airbnb,20000)\n",
    "print(sys_samp)\n"
   ]
  },
  {
   "cell_type": "code",
   "execution_count": 62,
   "metadata": {},
   "outputs": [
    {
     "name": "stdout",
     "output_type": "stream",
     "text": [
      "   neighbourhood  count      perc  samp_n\n",
      "0      Manhattan  21661  0.443011   443.0\n",
      "1       Brooklyn  20104  0.411167   411.0\n",
      "2         Queens   5666  0.115881   116.0\n",
      "3          Bronx   1091  0.022313    22.0\n",
      "4  Staten Island    373  0.007629     8.0\n"
     ]
    }
   ],
   "source": [
    "df=airbnb[\"neighbourhood_group\"].value_counts()\n",
    "df=pd.DataFrame(df).reset_index()\n",
    "df.columns=[\"neighbourhood\",\"count\"]\n",
    "df[\"perc\"]=df[\"count\"]/df[\"count\"].sum()\n",
    "df[\"samp_n\"]=round(df[\"perc\"]*1000)\n",
    "print(df)"
   ]
  },
  {
   "cell_type": "code",
   "execution_count": 71,
   "metadata": {},
   "outputs": [
    {
     "name": "stdout",
     "output_type": "stream",
     "text": [
      "Manhattan        443\n",
      "Brooklyn         441\n",
      "Queens           116\n",
      "Bronx             22\n",
      "Staten Island      8\n",
      "Name: neighbourhood_group, dtype: int64\n"
     ]
    }
   ],
   "source": [
    "def strata(df,col,val):\n",
    "    col_strata=df[df[col]==val]\n",
    "    return col_strata\n",
    "\n",
    "nbh_list=list(df[\"neighbourhood\"])\n",
    "\n",
    "strata_list=[]\n",
    "\n",
    "for i in nbh_list:\n",
    "    strata_list.append(strata(airbnb,\"neighbourhood_group\",i))\n",
    "\n",
    "manhattan =strata_list[0].sample(443,random_state=42)\n",
    "brookly =strata_list[1].sample(441,random_state=42)\n",
    "queens =strata_list[2].sample(116,random_state=42)\n",
    "bronx =strata_list[3].sample(22,random_state=42)\n",
    "staten =strata_list[4].sample(8,random_state=42)\n",
    "\n",
    "final_stratified= pd.concat([manhattan,brookly,queens,bronx,staten])\n",
    "\n",
    "print(final_stratified[\"neighbourhood_group\"].value_counts())"
   ]
  }
 ],
 "metadata": {
  "kernelspec": {
   "display_name": "Python 3.9.13 ('base')",
   "language": "python",
   "name": "python3"
  },
  "language_info": {
   "codemirror_mode": {
    "name": "ipython",
    "version": 3
   },
   "file_extension": ".py",
   "mimetype": "text/x-python",
   "name": "python",
   "nbconvert_exporter": "python",
   "pygments_lexer": "ipython3",
   "version": "3.9.13"
  },
  "orig_nbformat": 4,
  "vscode": {
   "interpreter": {
    "hash": "ad2bdc8ecc057115af97d19610ffacc2b4e99fae6737bb82f5d7fb13d2f2c186"
   }
  }
 },
 "nbformat": 4,
 "nbformat_minor": 2
}
