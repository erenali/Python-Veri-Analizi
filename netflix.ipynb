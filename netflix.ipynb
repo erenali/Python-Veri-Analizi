{
 "cells": [
  {
   "cell_type": "code",
   "execution_count": 8,
   "metadata": {},
   "outputs": [
    {
     "data": {
      "text/html": [
       "<div>\n",
       "<style scoped>\n",
       "    .dataframe tbody tr th:only-of-type {\n",
       "        vertical-align: middle;\n",
       "    }\n",
       "\n",
       "    .dataframe tbody tr th {\n",
       "        vertical-align: top;\n",
       "    }\n",
       "\n",
       "    .dataframe thead th {\n",
       "        text-align: right;\n",
       "    }\n",
       "</style>\n",
       "<table border=\"1\" class=\"dataframe\">\n",
       "  <thead>\n",
       "    <tr style=\"text-align: right;\">\n",
       "      <th></th>\n",
       "      <th>show_id</th>\n",
       "      <th>type</th>\n",
       "      <th>title</th>\n",
       "      <th>director</th>\n",
       "      <th>cast</th>\n",
       "      <th>country</th>\n",
       "      <th>date_added</th>\n",
       "      <th>release_year</th>\n",
       "      <th>rating</th>\n",
       "      <th>duration</th>\n",
       "      <th>listed_in</th>\n",
       "      <th>description</th>\n",
       "    </tr>\n",
       "  </thead>\n",
       "  <tbody>\n",
       "    <tr>\n",
       "      <th>0</th>\n",
       "      <td>s1</td>\n",
       "      <td>Movie</td>\n",
       "      <td>Dick Johnson Is Dead</td>\n",
       "      <td>Kirsten Johnson</td>\n",
       "      <td>NaN</td>\n",
       "      <td>United States</td>\n",
       "      <td>September 25, 2021</td>\n",
       "      <td>2020</td>\n",
       "      <td>PG-13</td>\n",
       "      <td>90 min</td>\n",
       "      <td>Documentaries</td>\n",
       "      <td>As her father nears the end of his life, filmm...</td>\n",
       "    </tr>\n",
       "    <tr>\n",
       "      <th>1</th>\n",
       "      <td>s2</td>\n",
       "      <td>TV Show</td>\n",
       "      <td>Blood &amp; Water</td>\n",
       "      <td>NaN</td>\n",
       "      <td>Ama Qamata, Khosi Ngema, Gail Mabalane, Thaban...</td>\n",
       "      <td>South Africa</td>\n",
       "      <td>September 24, 2021</td>\n",
       "      <td>2021</td>\n",
       "      <td>TV-MA</td>\n",
       "      <td>2 Seasons</td>\n",
       "      <td>International TV Shows, TV Dramas, TV Mysteries</td>\n",
       "      <td>After crossing paths at a party, a Cape Town t...</td>\n",
       "    </tr>\n",
       "    <tr>\n",
       "      <th>2</th>\n",
       "      <td>s3</td>\n",
       "      <td>TV Show</td>\n",
       "      <td>Ganglands</td>\n",
       "      <td>Julien Leclercq</td>\n",
       "      <td>Sami Bouajila, Tracy Gotoas, Samuel Jouy, Nabi...</td>\n",
       "      <td>NaN</td>\n",
       "      <td>September 24, 2021</td>\n",
       "      <td>2021</td>\n",
       "      <td>TV-MA</td>\n",
       "      <td>1 Season</td>\n",
       "      <td>Crime TV Shows, International TV Shows, TV Act...</td>\n",
       "      <td>To protect his family from a powerful drug lor...</td>\n",
       "    </tr>\n",
       "    <tr>\n",
       "      <th>3</th>\n",
       "      <td>s4</td>\n",
       "      <td>TV Show</td>\n",
       "      <td>Jailbirds New Orleans</td>\n",
       "      <td>NaN</td>\n",
       "      <td>NaN</td>\n",
       "      <td>NaN</td>\n",
       "      <td>September 24, 2021</td>\n",
       "      <td>2021</td>\n",
       "      <td>TV-MA</td>\n",
       "      <td>1 Season</td>\n",
       "      <td>Docuseries, Reality TV</td>\n",
       "      <td>Feuds, flirtations and toilet talk go down amo...</td>\n",
       "    </tr>\n",
       "    <tr>\n",
       "      <th>4</th>\n",
       "      <td>s5</td>\n",
       "      <td>TV Show</td>\n",
       "      <td>Kota Factory</td>\n",
       "      <td>NaN</td>\n",
       "      <td>Mayur More, Jitendra Kumar, Ranjan Raj, Alam K...</td>\n",
       "      <td>India</td>\n",
       "      <td>September 24, 2021</td>\n",
       "      <td>2021</td>\n",
       "      <td>TV-MA</td>\n",
       "      <td>2 Seasons</td>\n",
       "      <td>International TV Shows, Romantic TV Shows, TV ...</td>\n",
       "      <td>In a city of coaching centers known to train I...</td>\n",
       "    </tr>\n",
       "  </tbody>\n",
       "</table>\n",
       "</div>"
      ],
      "text/plain": [
       "  show_id     type                  title         director  \\\n",
       "0      s1    Movie   Dick Johnson Is Dead  Kirsten Johnson   \n",
       "1      s2  TV Show          Blood & Water              NaN   \n",
       "2      s3  TV Show              Ganglands  Julien Leclercq   \n",
       "3      s4  TV Show  Jailbirds New Orleans              NaN   \n",
       "4      s5  TV Show           Kota Factory              NaN   \n",
       "\n",
       "                                                cast        country  \\\n",
       "0                                                NaN  United States   \n",
       "1  Ama Qamata, Khosi Ngema, Gail Mabalane, Thaban...   South Africa   \n",
       "2  Sami Bouajila, Tracy Gotoas, Samuel Jouy, Nabi...            NaN   \n",
       "3                                                NaN            NaN   \n",
       "4  Mayur More, Jitendra Kumar, Ranjan Raj, Alam K...          India   \n",
       "\n",
       "           date_added  release_year rating   duration  \\\n",
       "0  September 25, 2021          2020  PG-13     90 min   \n",
       "1  September 24, 2021          2021  TV-MA  2 Seasons   \n",
       "2  September 24, 2021          2021  TV-MA   1 Season   \n",
       "3  September 24, 2021          2021  TV-MA   1 Season   \n",
       "4  September 24, 2021          2021  TV-MA  2 Seasons   \n",
       "\n",
       "                                           listed_in  \\\n",
       "0                                      Documentaries   \n",
       "1    International TV Shows, TV Dramas, TV Mysteries   \n",
       "2  Crime TV Shows, International TV Shows, TV Act...   \n",
       "3                             Docuseries, Reality TV   \n",
       "4  International TV Shows, Romantic TV Shows, TV ...   \n",
       "\n",
       "                                         description  \n",
       "0  As her father nears the end of his life, filmm...  \n",
       "1  After crossing paths at a party, a Cape Town t...  \n",
       "2  To protect his family from a powerful drug lor...  \n",
       "3  Feuds, flirtations and toilet talk go down amo...  \n",
       "4  In a city of coaching centers known to train I...  "
      ]
     },
     "execution_count": 8,
     "metadata": {},
     "output_type": "execute_result"
    }
   ],
   "source": [
    "import pandas as pd # for data preparation\n",
    "import plotly.express as px # for data visualization\n",
    "from plotly.subplots import make_subplots\n",
    "\n",
    "#import plotly\n",
    "#import numpy as np # linear algebra\n",
    "#from textblob import TextBlob # for sentiment analysis\n",
    "#import matplotlib.pyplot as plt\n",
    "#import plotly.graph_objects as go\n",
    "\n",
    "dff=pd.read_csv('netflix_titles.csv')\n",
    "#print(dff.shape)\n",
    "#print(dff.columns)\n",
    "dff.head(5)"
   ]
  },
  {
   "cell_type": "code",
   "execution_count": 9,
   "metadata": {},
   "outputs": [
    {
     "data": {
      "application/vnd.plotly.v1+json": {
       "config": {
        "plotlyServerURL": "https://plot.ly"
       },
       "data": [
        {
         "domain": {
          "x": [
           0,
           1
          ],
          "y": [
           0,
           1
          ]
         },
         "hovertemplate": "rating=%{label}<br>counts=%{value}<extra></extra>",
         "labels": [
          "66 min",
          "74 min",
          "84 min",
          "G",
          "NC-17",
          "NR",
          "PG",
          "PG-13",
          "R",
          "TV-14",
          "TV-G",
          "TV-MA",
          "TV-PG",
          "TV-Y",
          "TV-Y7",
          "TV-Y7-FV",
          "UR"
         ],
         "legendgroup": "",
         "name": "",
         "showlegend": true,
         "type": "pie",
         "values": [
          1,
          1,
          1,
          41,
          3,
          80,
          287,
          490,
          799,
          2160,
          220,
          3207,
          863,
          307,
          334,
          6,
          3
         ]
        }
       ],
       "layout": {
        "height": 600,
        "legend": {
         "tracegroupgap": 0
        },
        "piecolorway": [
         "rgb(179,179,179)",
         "rgb(229,196,148)",
         "rgb(255,217,47)",
         "rgb(166,216,84)",
         "rgb(231,138,195)",
         "rgb(141,160,203)",
         "rgb(252,141,98)",
         "rgb(102,194,165)"
        ],
        "template": {
         "data": {
          "bar": [
           {
            "error_x": {
             "color": "#2a3f5f"
            },
            "error_y": {
             "color": "#2a3f5f"
            },
            "marker": {
             "line": {
              "color": "#E5ECF6",
              "width": 0.5
             },
             "pattern": {
              "fillmode": "overlay",
              "size": 10,
              "solidity": 0.2
             }
            },
            "type": "bar"
           }
          ],
          "barpolar": [
           {
            "marker": {
             "line": {
              "color": "#E5ECF6",
              "width": 0.5
             },
             "pattern": {
              "fillmode": "overlay",
              "size": 10,
              "solidity": 0.2
             }
            },
            "type": "barpolar"
           }
          ],
          "carpet": [
           {
            "aaxis": {
             "endlinecolor": "#2a3f5f",
             "gridcolor": "white",
             "linecolor": "white",
             "minorgridcolor": "white",
             "startlinecolor": "#2a3f5f"
            },
            "baxis": {
             "endlinecolor": "#2a3f5f",
             "gridcolor": "white",
             "linecolor": "white",
             "minorgridcolor": "white",
             "startlinecolor": "#2a3f5f"
            },
            "type": "carpet"
           }
          ],
          "choropleth": [
           {
            "colorbar": {
             "outlinewidth": 0,
             "ticks": ""
            },
            "type": "choropleth"
           }
          ],
          "contour": [
           {
            "colorbar": {
             "outlinewidth": 0,
             "ticks": ""
            },
            "colorscale": [
             [
              0,
              "#0d0887"
             ],
             [
              0.1111111111111111,
              "#46039f"
             ],
             [
              0.2222222222222222,
              "#7201a8"
             ],
             [
              0.3333333333333333,
              "#9c179e"
             ],
             [
              0.4444444444444444,
              "#bd3786"
             ],
             [
              0.5555555555555556,
              "#d8576b"
             ],
             [
              0.6666666666666666,
              "#ed7953"
             ],
             [
              0.7777777777777778,
              "#fb9f3a"
             ],
             [
              0.8888888888888888,
              "#fdca26"
             ],
             [
              1,
              "#f0f921"
             ]
            ],
            "type": "contour"
           }
          ],
          "contourcarpet": [
           {
            "colorbar": {
             "outlinewidth": 0,
             "ticks": ""
            },
            "type": "contourcarpet"
           }
          ],
          "heatmap": [
           {
            "colorbar": {
             "outlinewidth": 0,
             "ticks": ""
            },
            "colorscale": [
             [
              0,
              "#0d0887"
             ],
             [
              0.1111111111111111,
              "#46039f"
             ],
             [
              0.2222222222222222,
              "#7201a8"
             ],
             [
              0.3333333333333333,
              "#9c179e"
             ],
             [
              0.4444444444444444,
              "#bd3786"
             ],
             [
              0.5555555555555556,
              "#d8576b"
             ],
             [
              0.6666666666666666,
              "#ed7953"
             ],
             [
              0.7777777777777778,
              "#fb9f3a"
             ],
             [
              0.8888888888888888,
              "#fdca26"
             ],
             [
              1,
              "#f0f921"
             ]
            ],
            "type": "heatmap"
           }
          ],
          "heatmapgl": [
           {
            "colorbar": {
             "outlinewidth": 0,
             "ticks": ""
            },
            "colorscale": [
             [
              0,
              "#0d0887"
             ],
             [
              0.1111111111111111,
              "#46039f"
             ],
             [
              0.2222222222222222,
              "#7201a8"
             ],
             [
              0.3333333333333333,
              "#9c179e"
             ],
             [
              0.4444444444444444,
              "#bd3786"
             ],
             [
              0.5555555555555556,
              "#d8576b"
             ],
             [
              0.6666666666666666,
              "#ed7953"
             ],
             [
              0.7777777777777778,
              "#fb9f3a"
             ],
             [
              0.8888888888888888,
              "#fdca26"
             ],
             [
              1,
              "#f0f921"
             ]
            ],
            "type": "heatmapgl"
           }
          ],
          "histogram": [
           {
            "marker": {
             "pattern": {
              "fillmode": "overlay",
              "size": 10,
              "solidity": 0.2
             }
            },
            "type": "histogram"
           }
          ],
          "histogram2d": [
           {
            "colorbar": {
             "outlinewidth": 0,
             "ticks": ""
            },
            "colorscale": [
             [
              0,
              "#0d0887"
             ],
             [
              0.1111111111111111,
              "#46039f"
             ],
             [
              0.2222222222222222,
              "#7201a8"
             ],
             [
              0.3333333333333333,
              "#9c179e"
             ],
             [
              0.4444444444444444,
              "#bd3786"
             ],
             [
              0.5555555555555556,
              "#d8576b"
             ],
             [
              0.6666666666666666,
              "#ed7953"
             ],
             [
              0.7777777777777778,
              "#fb9f3a"
             ],
             [
              0.8888888888888888,
              "#fdca26"
             ],
             [
              1,
              "#f0f921"
             ]
            ],
            "type": "histogram2d"
           }
          ],
          "histogram2dcontour": [
           {
            "colorbar": {
             "outlinewidth": 0,
             "ticks": ""
            },
            "colorscale": [
             [
              0,
              "#0d0887"
             ],
             [
              0.1111111111111111,
              "#46039f"
             ],
             [
              0.2222222222222222,
              "#7201a8"
             ],
             [
              0.3333333333333333,
              "#9c179e"
             ],
             [
              0.4444444444444444,
              "#bd3786"
             ],
             [
              0.5555555555555556,
              "#d8576b"
             ],
             [
              0.6666666666666666,
              "#ed7953"
             ],
             [
              0.7777777777777778,
              "#fb9f3a"
             ],
             [
              0.8888888888888888,
              "#fdca26"
             ],
             [
              1,
              "#f0f921"
             ]
            ],
            "type": "histogram2dcontour"
           }
          ],
          "mesh3d": [
           {
            "colorbar": {
             "outlinewidth": 0,
             "ticks": ""
            },
            "type": "mesh3d"
           }
          ],
          "parcoords": [
           {
            "line": {
             "colorbar": {
              "outlinewidth": 0,
              "ticks": ""
             }
            },
            "type": "parcoords"
           }
          ],
          "pie": [
           {
            "automargin": true,
            "type": "pie"
           }
          ],
          "scatter": [
           {
            "fillpattern": {
             "fillmode": "overlay",
             "size": 10,
             "solidity": 0.2
            },
            "type": "scatter"
           }
          ],
          "scatter3d": [
           {
            "line": {
             "colorbar": {
              "outlinewidth": 0,
              "ticks": ""
             }
            },
            "marker": {
             "colorbar": {
              "outlinewidth": 0,
              "ticks": ""
             }
            },
            "type": "scatter3d"
           }
          ],
          "scattercarpet": [
           {
            "marker": {
             "colorbar": {
              "outlinewidth": 0,
              "ticks": ""
             }
            },
            "type": "scattercarpet"
           }
          ],
          "scattergeo": [
           {
            "marker": {
             "colorbar": {
              "outlinewidth": 0,
              "ticks": ""
             }
            },
            "type": "scattergeo"
           }
          ],
          "scattergl": [
           {
            "marker": {
             "colorbar": {
              "outlinewidth": 0,
              "ticks": ""
             }
            },
            "type": "scattergl"
           }
          ],
          "scattermapbox": [
           {
            "marker": {
             "colorbar": {
              "outlinewidth": 0,
              "ticks": ""
             }
            },
            "type": "scattermapbox"
           }
          ],
          "scatterpolar": [
           {
            "marker": {
             "colorbar": {
              "outlinewidth": 0,
              "ticks": ""
             }
            },
            "type": "scatterpolar"
           }
          ],
          "scatterpolargl": [
           {
            "marker": {
             "colorbar": {
              "outlinewidth": 0,
              "ticks": ""
             }
            },
            "type": "scatterpolargl"
           }
          ],
          "scatterternary": [
           {
            "marker": {
             "colorbar": {
              "outlinewidth": 0,
              "ticks": ""
             }
            },
            "type": "scatterternary"
           }
          ],
          "surface": [
           {
            "colorbar": {
             "outlinewidth": 0,
             "ticks": ""
            },
            "colorscale": [
             [
              0,
              "#0d0887"
             ],
             [
              0.1111111111111111,
              "#46039f"
             ],
             [
              0.2222222222222222,
              "#7201a8"
             ],
             [
              0.3333333333333333,
              "#9c179e"
             ],
             [
              0.4444444444444444,
              "#bd3786"
             ],
             [
              0.5555555555555556,
              "#d8576b"
             ],
             [
              0.6666666666666666,
              "#ed7953"
             ],
             [
              0.7777777777777778,
              "#fb9f3a"
             ],
             [
              0.8888888888888888,
              "#fdca26"
             ],
             [
              1,
              "#f0f921"
             ]
            ],
            "type": "surface"
           }
          ],
          "table": [
           {
            "cells": {
             "fill": {
              "color": "#EBF0F8"
             },
             "line": {
              "color": "white"
             }
            },
            "header": {
             "fill": {
              "color": "#C8D4E3"
             },
             "line": {
              "color": "white"
             }
            },
            "type": "table"
           }
          ]
         },
         "layout": {
          "annotationdefaults": {
           "arrowcolor": "#2a3f5f",
           "arrowhead": 0,
           "arrowwidth": 1
          },
          "autotypenumbers": "strict",
          "coloraxis": {
           "colorbar": {
            "outlinewidth": 0,
            "ticks": ""
           }
          },
          "colorscale": {
           "diverging": [
            [
             0,
             "#8e0152"
            ],
            [
             0.1,
             "#c51b7d"
            ],
            [
             0.2,
             "#de77ae"
            ],
            [
             0.3,
             "#f1b6da"
            ],
            [
             0.4,
             "#fde0ef"
            ],
            [
             0.5,
             "#f7f7f7"
            ],
            [
             0.6,
             "#e6f5d0"
            ],
            [
             0.7,
             "#b8e186"
            ],
            [
             0.8,
             "#7fbc41"
            ],
            [
             0.9,
             "#4d9221"
            ],
            [
             1,
             "#276419"
            ]
           ],
           "sequential": [
            [
             0,
             "#0d0887"
            ],
            [
             0.1111111111111111,
             "#46039f"
            ],
            [
             0.2222222222222222,
             "#7201a8"
            ],
            [
             0.3333333333333333,
             "#9c179e"
            ],
            [
             0.4444444444444444,
             "#bd3786"
            ],
            [
             0.5555555555555556,
             "#d8576b"
            ],
            [
             0.6666666666666666,
             "#ed7953"
            ],
            [
             0.7777777777777778,
             "#fb9f3a"
            ],
            [
             0.8888888888888888,
             "#fdca26"
            ],
            [
             1,
             "#f0f921"
            ]
           ],
           "sequentialminus": [
            [
             0,
             "#0d0887"
            ],
            [
             0.1111111111111111,
             "#46039f"
            ],
            [
             0.2222222222222222,
             "#7201a8"
            ],
            [
             0.3333333333333333,
             "#9c179e"
            ],
            [
             0.4444444444444444,
             "#bd3786"
            ],
            [
             0.5555555555555556,
             "#d8576b"
            ],
            [
             0.6666666666666666,
             "#ed7953"
            ],
            [
             0.7777777777777778,
             "#fb9f3a"
            ],
            [
             0.8888888888888888,
             "#fdca26"
            ],
            [
             1,
             "#f0f921"
            ]
           ]
          },
          "colorway": [
           "#636efa",
           "#EF553B",
           "#00cc96",
           "#ab63fa",
           "#FFA15A",
           "#19d3f3",
           "#FF6692",
           "#B6E880",
           "#FF97FF",
           "#FECB52"
          ],
          "font": {
           "color": "#2a3f5f"
          },
          "geo": {
           "bgcolor": "white",
           "lakecolor": "white",
           "landcolor": "#E5ECF6",
           "showlakes": true,
           "showland": true,
           "subunitcolor": "white"
          },
          "hoverlabel": {
           "align": "left"
          },
          "hovermode": "closest",
          "mapbox": {
           "style": "light"
          },
          "paper_bgcolor": "white",
          "plot_bgcolor": "#E5ECF6",
          "polar": {
           "angularaxis": {
            "gridcolor": "white",
            "linecolor": "white",
            "ticks": ""
           },
           "bgcolor": "#E5ECF6",
           "radialaxis": {
            "gridcolor": "white",
            "linecolor": "white",
            "ticks": ""
           }
          },
          "scene": {
           "xaxis": {
            "backgroundcolor": "#E5ECF6",
            "gridcolor": "white",
            "gridwidth": 2,
            "linecolor": "white",
            "showbackground": true,
            "ticks": "",
            "zerolinecolor": "white"
           },
           "yaxis": {
            "backgroundcolor": "#E5ECF6",
            "gridcolor": "white",
            "gridwidth": 2,
            "linecolor": "white",
            "showbackground": true,
            "ticks": "",
            "zerolinecolor": "white"
           },
           "zaxis": {
            "backgroundcolor": "#E5ECF6",
            "gridcolor": "white",
            "gridwidth": 2,
            "linecolor": "white",
            "showbackground": true,
            "ticks": "",
            "zerolinecolor": "white"
           }
          },
          "shapedefaults": {
           "line": {
            "color": "#2a3f5f"
           }
          },
          "ternary": {
           "aaxis": {
            "gridcolor": "white",
            "linecolor": "white",
            "ticks": ""
           },
           "baxis": {
            "gridcolor": "white",
            "linecolor": "white",
            "ticks": ""
           },
           "bgcolor": "#E5ECF6",
           "caxis": {
            "gridcolor": "white",
            "linecolor": "white",
            "ticks": ""
           }
          },
          "title": {
           "x": 0.05
          },
          "xaxis": {
           "automargin": true,
           "gridcolor": "white",
           "linecolor": "white",
           "ticks": "",
           "title": {
            "standoff": 15
           },
           "zerolinecolor": "white",
           "zerolinewidth": 2
          },
          "yaxis": {
           "automargin": true,
           "gridcolor": "white",
           "linecolor": "white",
           "ticks": "",
           "title": {
            "standoff": 15
           },
           "zerolinecolor": "white",
           "zerolinewidth": 2
          }
         }
        },
        "title": {
         "text": "TV Derecesine Göre Dağılımlar"
        },
        "width": 800
       }
      }
     },
     "metadata": {},
     "output_type": "display_data"
    }
   ],
   "source": [
    "z=dff.groupby([\"rating\"]).size().reset_index(name=\"counts\")\n",
    "piechart= px.pie(z,values=\"counts\",names=\"rating\",title=\"TV Derecesine Göre Dağılımlar\",color_discrete_sequence=px.colors.qualitative.Set2_r,width=800,height=600)\n",
    "piechart.show()"
   ]
  },
  {
   "cell_type": "code",
   "execution_count": 14,
   "metadata": {},
   "outputs": [
    {
     "data": {
      "application/vnd.plotly.v1+json": {
       "config": {
        "plotlyServerURL": "https://plot.ly"
       },
       "data": [
        {
         "domain": {
          "x": [
           0,
           1
          ],
          "y": [
           0,
           1
          ]
         },
         "hovertemplate": "release_year=%{label}<br>counts=%{value}<extra></extra>",
         "labels": [
          2005,
          2006,
          2007,
          2008,
          2009,
          2010,
          2011,
          2012,
          2013,
          2014,
          2015,
          2016,
          2017,
          2018,
          2019,
          2020,
          2021
         ],
         "legendgroup": "",
         "name": "",
         "showlegend": true,
         "type": "pie",
         "values": [
          80,
          96,
          88,
          136,
          152,
          194,
          185,
          237,
          288,
          352,
          560,
          902,
          1032,
          1147,
          1030,
          953,
          592
         ]
        }
       ],
       "layout": {
        "height": 600,
        "legend": {
         "tracegroupgap": 0
        },
        "piecolorway": [
         "rgb(179,179,179)",
         "rgb(229,196,148)",
         "rgb(255,217,47)",
         "rgb(166,216,84)",
         "rgb(231,138,195)",
         "rgb(141,160,203)",
         "rgb(252,141,98)",
         "rgb(102,194,165)"
        ],
        "template": {
         "data": {
          "bar": [
           {
            "error_x": {
             "color": "#2a3f5f"
            },
            "error_y": {
             "color": "#2a3f5f"
            },
            "marker": {
             "line": {
              "color": "#E5ECF6",
              "width": 0.5
             },
             "pattern": {
              "fillmode": "overlay",
              "size": 10,
              "solidity": 0.2
             }
            },
            "type": "bar"
           }
          ],
          "barpolar": [
           {
            "marker": {
             "line": {
              "color": "#E5ECF6",
              "width": 0.5
             },
             "pattern": {
              "fillmode": "overlay",
              "size": 10,
              "solidity": 0.2
             }
            },
            "type": "barpolar"
           }
          ],
          "carpet": [
           {
            "aaxis": {
             "endlinecolor": "#2a3f5f",
             "gridcolor": "white",
             "linecolor": "white",
             "minorgridcolor": "white",
             "startlinecolor": "#2a3f5f"
            },
            "baxis": {
             "endlinecolor": "#2a3f5f",
             "gridcolor": "white",
             "linecolor": "white",
             "minorgridcolor": "white",
             "startlinecolor": "#2a3f5f"
            },
            "type": "carpet"
           }
          ],
          "choropleth": [
           {
            "colorbar": {
             "outlinewidth": 0,
             "ticks": ""
            },
            "type": "choropleth"
           }
          ],
          "contour": [
           {
            "colorbar": {
             "outlinewidth": 0,
             "ticks": ""
            },
            "colorscale": [
             [
              0,
              "#0d0887"
             ],
             [
              0.1111111111111111,
              "#46039f"
             ],
             [
              0.2222222222222222,
              "#7201a8"
             ],
             [
              0.3333333333333333,
              "#9c179e"
             ],
             [
              0.4444444444444444,
              "#bd3786"
             ],
             [
              0.5555555555555556,
              "#d8576b"
             ],
             [
              0.6666666666666666,
              "#ed7953"
             ],
             [
              0.7777777777777778,
              "#fb9f3a"
             ],
             [
              0.8888888888888888,
              "#fdca26"
             ],
             [
              1,
              "#f0f921"
             ]
            ],
            "type": "contour"
           }
          ],
          "contourcarpet": [
           {
            "colorbar": {
             "outlinewidth": 0,
             "ticks": ""
            },
            "type": "contourcarpet"
           }
          ],
          "heatmap": [
           {
            "colorbar": {
             "outlinewidth": 0,
             "ticks": ""
            },
            "colorscale": [
             [
              0,
              "#0d0887"
             ],
             [
              0.1111111111111111,
              "#46039f"
             ],
             [
              0.2222222222222222,
              "#7201a8"
             ],
             [
              0.3333333333333333,
              "#9c179e"
             ],
             [
              0.4444444444444444,
              "#bd3786"
             ],
             [
              0.5555555555555556,
              "#d8576b"
             ],
             [
              0.6666666666666666,
              "#ed7953"
             ],
             [
              0.7777777777777778,
              "#fb9f3a"
             ],
             [
              0.8888888888888888,
              "#fdca26"
             ],
             [
              1,
              "#f0f921"
             ]
            ],
            "type": "heatmap"
           }
          ],
          "heatmapgl": [
           {
            "colorbar": {
             "outlinewidth": 0,
             "ticks": ""
            },
            "colorscale": [
             [
              0,
              "#0d0887"
             ],
             [
              0.1111111111111111,
              "#46039f"
             ],
             [
              0.2222222222222222,
              "#7201a8"
             ],
             [
              0.3333333333333333,
              "#9c179e"
             ],
             [
              0.4444444444444444,
              "#bd3786"
             ],
             [
              0.5555555555555556,
              "#d8576b"
             ],
             [
              0.6666666666666666,
              "#ed7953"
             ],
             [
              0.7777777777777778,
              "#fb9f3a"
             ],
             [
              0.8888888888888888,
              "#fdca26"
             ],
             [
              1,
              "#f0f921"
             ]
            ],
            "type": "heatmapgl"
           }
          ],
          "histogram": [
           {
            "marker": {
             "pattern": {
              "fillmode": "overlay",
              "size": 10,
              "solidity": 0.2
             }
            },
            "type": "histogram"
           }
          ],
          "histogram2d": [
           {
            "colorbar": {
             "outlinewidth": 0,
             "ticks": ""
            },
            "colorscale": [
             [
              0,
              "#0d0887"
             ],
             [
              0.1111111111111111,
              "#46039f"
             ],
             [
              0.2222222222222222,
              "#7201a8"
             ],
             [
              0.3333333333333333,
              "#9c179e"
             ],
             [
              0.4444444444444444,
              "#bd3786"
             ],
             [
              0.5555555555555556,
              "#d8576b"
             ],
             [
              0.6666666666666666,
              "#ed7953"
             ],
             [
              0.7777777777777778,
              "#fb9f3a"
             ],
             [
              0.8888888888888888,
              "#fdca26"
             ],
             [
              1,
              "#f0f921"
             ]
            ],
            "type": "histogram2d"
           }
          ],
          "histogram2dcontour": [
           {
            "colorbar": {
             "outlinewidth": 0,
             "ticks": ""
            },
            "colorscale": [
             [
              0,
              "#0d0887"
             ],
             [
              0.1111111111111111,
              "#46039f"
             ],
             [
              0.2222222222222222,
              "#7201a8"
             ],
             [
              0.3333333333333333,
              "#9c179e"
             ],
             [
              0.4444444444444444,
              "#bd3786"
             ],
             [
              0.5555555555555556,
              "#d8576b"
             ],
             [
              0.6666666666666666,
              "#ed7953"
             ],
             [
              0.7777777777777778,
              "#fb9f3a"
             ],
             [
              0.8888888888888888,
              "#fdca26"
             ],
             [
              1,
              "#f0f921"
             ]
            ],
            "type": "histogram2dcontour"
           }
          ],
          "mesh3d": [
           {
            "colorbar": {
             "outlinewidth": 0,
             "ticks": ""
            },
            "type": "mesh3d"
           }
          ],
          "parcoords": [
           {
            "line": {
             "colorbar": {
              "outlinewidth": 0,
              "ticks": ""
             }
            },
            "type": "parcoords"
           }
          ],
          "pie": [
           {
            "automargin": true,
            "type": "pie"
           }
          ],
          "scatter": [
           {
            "fillpattern": {
             "fillmode": "overlay",
             "size": 10,
             "solidity": 0.2
            },
            "type": "scatter"
           }
          ],
          "scatter3d": [
           {
            "line": {
             "colorbar": {
              "outlinewidth": 0,
              "ticks": ""
             }
            },
            "marker": {
             "colorbar": {
              "outlinewidth": 0,
              "ticks": ""
             }
            },
            "type": "scatter3d"
           }
          ],
          "scattercarpet": [
           {
            "marker": {
             "colorbar": {
              "outlinewidth": 0,
              "ticks": ""
             }
            },
            "type": "scattercarpet"
           }
          ],
          "scattergeo": [
           {
            "marker": {
             "colorbar": {
              "outlinewidth": 0,
              "ticks": ""
             }
            },
            "type": "scattergeo"
           }
          ],
          "scattergl": [
           {
            "marker": {
             "colorbar": {
              "outlinewidth": 0,
              "ticks": ""
             }
            },
            "type": "scattergl"
           }
          ],
          "scattermapbox": [
           {
            "marker": {
             "colorbar": {
              "outlinewidth": 0,
              "ticks": ""
             }
            },
            "type": "scattermapbox"
           }
          ],
          "scatterpolar": [
           {
            "marker": {
             "colorbar": {
              "outlinewidth": 0,
              "ticks": ""
             }
            },
            "type": "scatterpolar"
           }
          ],
          "scatterpolargl": [
           {
            "marker": {
             "colorbar": {
              "outlinewidth": 0,
              "ticks": ""
             }
            },
            "type": "scatterpolargl"
           }
          ],
          "scatterternary": [
           {
            "marker": {
             "colorbar": {
              "outlinewidth": 0,
              "ticks": ""
             }
            },
            "type": "scatterternary"
           }
          ],
          "surface": [
           {
            "colorbar": {
             "outlinewidth": 0,
             "ticks": ""
            },
            "colorscale": [
             [
              0,
              "#0d0887"
             ],
             [
              0.1111111111111111,
              "#46039f"
             ],
             [
              0.2222222222222222,
              "#7201a8"
             ],
             [
              0.3333333333333333,
              "#9c179e"
             ],
             [
              0.4444444444444444,
              "#bd3786"
             ],
             [
              0.5555555555555556,
              "#d8576b"
             ],
             [
              0.6666666666666666,
              "#ed7953"
             ],
             [
              0.7777777777777778,
              "#fb9f3a"
             ],
             [
              0.8888888888888888,
              "#fdca26"
             ],
             [
              1,
              "#f0f921"
             ]
            ],
            "type": "surface"
           }
          ],
          "table": [
           {
            "cells": {
             "fill": {
              "color": "#EBF0F8"
             },
             "line": {
              "color": "white"
             }
            },
            "header": {
             "fill": {
              "color": "#C8D4E3"
             },
             "line": {
              "color": "white"
             }
            },
            "type": "table"
           }
          ]
         },
         "layout": {
          "annotationdefaults": {
           "arrowcolor": "#2a3f5f",
           "arrowhead": 0,
           "arrowwidth": 1
          },
          "autotypenumbers": "strict",
          "coloraxis": {
           "colorbar": {
            "outlinewidth": 0,
            "ticks": ""
           }
          },
          "colorscale": {
           "diverging": [
            [
             0,
             "#8e0152"
            ],
            [
             0.1,
             "#c51b7d"
            ],
            [
             0.2,
             "#de77ae"
            ],
            [
             0.3,
             "#f1b6da"
            ],
            [
             0.4,
             "#fde0ef"
            ],
            [
             0.5,
             "#f7f7f7"
            ],
            [
             0.6,
             "#e6f5d0"
            ],
            [
             0.7,
             "#b8e186"
            ],
            [
             0.8,
             "#7fbc41"
            ],
            [
             0.9,
             "#4d9221"
            ],
            [
             1,
             "#276419"
            ]
           ],
           "sequential": [
            [
             0,
             "#0d0887"
            ],
            [
             0.1111111111111111,
             "#46039f"
            ],
            [
             0.2222222222222222,
             "#7201a8"
            ],
            [
             0.3333333333333333,
             "#9c179e"
            ],
            [
             0.4444444444444444,
             "#bd3786"
            ],
            [
             0.5555555555555556,
             "#d8576b"
            ],
            [
             0.6666666666666666,
             "#ed7953"
            ],
            [
             0.7777777777777778,
             "#fb9f3a"
            ],
            [
             0.8888888888888888,
             "#fdca26"
            ],
            [
             1,
             "#f0f921"
            ]
           ],
           "sequentialminus": [
            [
             0,
             "#0d0887"
            ],
            [
             0.1111111111111111,
             "#46039f"
            ],
            [
             0.2222222222222222,
             "#7201a8"
            ],
            [
             0.3333333333333333,
             "#9c179e"
            ],
            [
             0.4444444444444444,
             "#bd3786"
            ],
            [
             0.5555555555555556,
             "#d8576b"
            ],
            [
             0.6666666666666666,
             "#ed7953"
            ],
            [
             0.7777777777777778,
             "#fb9f3a"
            ],
            [
             0.8888888888888888,
             "#fdca26"
            ],
            [
             1,
             "#f0f921"
            ]
           ]
          },
          "colorway": [
           "#636efa",
           "#EF553B",
           "#00cc96",
           "#ab63fa",
           "#FFA15A",
           "#19d3f3",
           "#FF6692",
           "#B6E880",
           "#FF97FF",
           "#FECB52"
          ],
          "font": {
           "color": "#2a3f5f"
          },
          "geo": {
           "bgcolor": "white",
           "lakecolor": "white",
           "landcolor": "#E5ECF6",
           "showlakes": true,
           "showland": true,
           "subunitcolor": "white"
          },
          "hoverlabel": {
           "align": "left"
          },
          "hovermode": "closest",
          "mapbox": {
           "style": "light"
          },
          "paper_bgcolor": "white",
          "plot_bgcolor": "#E5ECF6",
          "polar": {
           "angularaxis": {
            "gridcolor": "white",
            "linecolor": "white",
            "ticks": ""
           },
           "bgcolor": "#E5ECF6",
           "radialaxis": {
            "gridcolor": "white",
            "linecolor": "white",
            "ticks": ""
           }
          },
          "scene": {
           "xaxis": {
            "backgroundcolor": "#E5ECF6",
            "gridcolor": "white",
            "gridwidth": 2,
            "linecolor": "white",
            "showbackground": true,
            "ticks": "",
            "zerolinecolor": "white"
           },
           "yaxis": {
            "backgroundcolor": "#E5ECF6",
            "gridcolor": "white",
            "gridwidth": 2,
            "linecolor": "white",
            "showbackground": true,
            "ticks": "",
            "zerolinecolor": "white"
           },
           "zaxis": {
            "backgroundcolor": "#E5ECF6",
            "gridcolor": "white",
            "gridwidth": 2,
            "linecolor": "white",
            "showbackground": true,
            "ticks": "",
            "zerolinecolor": "white"
           }
          },
          "shapedefaults": {
           "line": {
            "color": "#2a3f5f"
           }
          },
          "ternary": {
           "aaxis": {
            "gridcolor": "white",
            "linecolor": "white",
            "ticks": ""
           },
           "baxis": {
            "gridcolor": "white",
            "linecolor": "white",
            "ticks": ""
           },
           "bgcolor": "#E5ECF6",
           "caxis": {
            "gridcolor": "white",
            "linecolor": "white",
            "ticks": ""
           }
          },
          "title": {
           "x": 0.05
          },
          "xaxis": {
           "automargin": true,
           "gridcolor": "white",
           "linecolor": "white",
           "ticks": "",
           "title": {
            "standoff": 15
           },
           "zerolinecolor": "white",
           "zerolinewidth": 2
          },
          "yaxis": {
           "automargin": true,
           "gridcolor": "white",
           "linecolor": "white",
           "ticks": "",
           "title": {
            "standoff": 15
           },
           "zerolinecolor": "white",
           "zerolinewidth": 2
          }
         }
        },
        "title": {
         "text": "Yıllara Göre Dağılımlar"
        },
        "width": 800
       }
      }
     },
     "metadata": {},
     "output_type": "display_data"
    }
   ],
   "source": [
    "y=dff.groupby([\"release_year\"]).size().reset_index(name=\"counts\")\n",
    "y=y[y[\"counts\"]>=75]\n",
    "piechart2= px.pie(y, values=\"counts\", names=\"release_year\", title=\"Yıllara Göre Dağılımlar\", color_discrete_sequence=px.colors.qualitative.Set2_r, width=800, height=600)\n",
    "piechart2.show()"
   ]
  },
  {
   "cell_type": "code",
   "execution_count": 10,
   "metadata": {},
   "outputs": [
    {
     "data": {
      "application/vnd.plotly.v1+json": {
       "config": {
        "plotlyServerURL": "https://plot.ly"
       },
       "data": [
        {
         "alignmentgroup": "True",
         "hovertemplate": "Total Content=%{x}<br>Director=%{y}<extra></extra>",
         "legendgroup": "",
         "marker": {
          "color": "#636efa",
          "pattern": {
           "shape": ""
          }
         },
         "name": "",
         "offsetgroup": "",
         "orientation": "h",
         "showlegend": false,
         "textposition": "auto",
         "type": "bar",
         "x": [
          16,
          16,
          18,
          18,
          22
         ],
         "xaxis": "x",
         "y": [
          "Suhas Kadav",
          "Marcus Raboy",
          "Raúl Campos",
          " Jan Suter",
          "Rajiv Chilaka"
         ],
         "yaxis": "y"
        },
        {
         "alignmentgroup": "True",
         "hovertemplate": "Total Content=%{x}<br>Actor=%{y}<extra></extra>",
         "legendgroup": "",
         "marker": {
          "color": "#636efa",
          "pattern": {
           "shape": ""
          }
         },
         "name": "",
         "offsetgroup": "",
         "orientation": "h",
         "showlegend": false,
         "textposition": "auto",
         "type": "bar",
         "x": [
          27,
          28,
          30,
          31,
          39
         ],
         "xaxis": "x2",
         "y": [
          " Om Puri",
          " Julie Tejwani",
          " Takahiro Sakurai",
          " Rupa Bhimani",
          " Anupam Kher"
         ],
         "yaxis": "y2"
        }
       ],
       "layout": {
        "annotations": [
         {
          "font": {
           "size": 16
          },
          "showarrow": false,
          "text": "En iyi 5 Yapımcı",
          "x": 0.225,
          "xanchor": "center",
          "xref": "paper",
          "y": 1,
          "yanchor": "bottom",
          "yref": "paper"
         },
         {
          "font": {
           "size": 16
          },
          "showarrow": false,
          "text": "En iyi 5 Aktör",
          "x": 0.775,
          "xanchor": "center",
          "xref": "paper",
          "y": 1,
          "yanchor": "bottom",
          "yref": "paper"
         }
        ],
        "template": {
         "data": {
          "bar": [
           {
            "error_x": {
             "color": "#2a3f5f"
            },
            "error_y": {
             "color": "#2a3f5f"
            },
            "marker": {
             "line": {
              "color": "#E5ECF6",
              "width": 0.5
             },
             "pattern": {
              "fillmode": "overlay",
              "size": 10,
              "solidity": 0.2
             }
            },
            "type": "bar"
           }
          ],
          "barpolar": [
           {
            "marker": {
             "line": {
              "color": "#E5ECF6",
              "width": 0.5
             },
             "pattern": {
              "fillmode": "overlay",
              "size": 10,
              "solidity": 0.2
             }
            },
            "type": "barpolar"
           }
          ],
          "carpet": [
           {
            "aaxis": {
             "endlinecolor": "#2a3f5f",
             "gridcolor": "white",
             "linecolor": "white",
             "minorgridcolor": "white",
             "startlinecolor": "#2a3f5f"
            },
            "baxis": {
             "endlinecolor": "#2a3f5f",
             "gridcolor": "white",
             "linecolor": "white",
             "minorgridcolor": "white",
             "startlinecolor": "#2a3f5f"
            },
            "type": "carpet"
           }
          ],
          "choropleth": [
           {
            "colorbar": {
             "outlinewidth": 0,
             "ticks": ""
            },
            "type": "choropleth"
           }
          ],
          "contour": [
           {
            "colorbar": {
             "outlinewidth": 0,
             "ticks": ""
            },
            "colorscale": [
             [
              0,
              "#0d0887"
             ],
             [
              0.1111111111111111,
              "#46039f"
             ],
             [
              0.2222222222222222,
              "#7201a8"
             ],
             [
              0.3333333333333333,
              "#9c179e"
             ],
             [
              0.4444444444444444,
              "#bd3786"
             ],
             [
              0.5555555555555556,
              "#d8576b"
             ],
             [
              0.6666666666666666,
              "#ed7953"
             ],
             [
              0.7777777777777778,
              "#fb9f3a"
             ],
             [
              0.8888888888888888,
              "#fdca26"
             ],
             [
              1,
              "#f0f921"
             ]
            ],
            "type": "contour"
           }
          ],
          "contourcarpet": [
           {
            "colorbar": {
             "outlinewidth": 0,
             "ticks": ""
            },
            "type": "contourcarpet"
           }
          ],
          "heatmap": [
           {
            "colorbar": {
             "outlinewidth": 0,
             "ticks": ""
            },
            "colorscale": [
             [
              0,
              "#0d0887"
             ],
             [
              0.1111111111111111,
              "#46039f"
             ],
             [
              0.2222222222222222,
              "#7201a8"
             ],
             [
              0.3333333333333333,
              "#9c179e"
             ],
             [
              0.4444444444444444,
              "#bd3786"
             ],
             [
              0.5555555555555556,
              "#d8576b"
             ],
             [
              0.6666666666666666,
              "#ed7953"
             ],
             [
              0.7777777777777778,
              "#fb9f3a"
             ],
             [
              0.8888888888888888,
              "#fdca26"
             ],
             [
              1,
              "#f0f921"
             ]
            ],
            "type": "heatmap"
           }
          ],
          "heatmapgl": [
           {
            "colorbar": {
             "outlinewidth": 0,
             "ticks": ""
            },
            "colorscale": [
             [
              0,
              "#0d0887"
             ],
             [
              0.1111111111111111,
              "#46039f"
             ],
             [
              0.2222222222222222,
              "#7201a8"
             ],
             [
              0.3333333333333333,
              "#9c179e"
             ],
             [
              0.4444444444444444,
              "#bd3786"
             ],
             [
              0.5555555555555556,
              "#d8576b"
             ],
             [
              0.6666666666666666,
              "#ed7953"
             ],
             [
              0.7777777777777778,
              "#fb9f3a"
             ],
             [
              0.8888888888888888,
              "#fdca26"
             ],
             [
              1,
              "#f0f921"
             ]
            ],
            "type": "heatmapgl"
           }
          ],
          "histogram": [
           {
            "marker": {
             "pattern": {
              "fillmode": "overlay",
              "size": 10,
              "solidity": 0.2
             }
            },
            "type": "histogram"
           }
          ],
          "histogram2d": [
           {
            "colorbar": {
             "outlinewidth": 0,
             "ticks": ""
            },
            "colorscale": [
             [
              0,
              "#0d0887"
             ],
             [
              0.1111111111111111,
              "#46039f"
             ],
             [
              0.2222222222222222,
              "#7201a8"
             ],
             [
              0.3333333333333333,
              "#9c179e"
             ],
             [
              0.4444444444444444,
              "#bd3786"
             ],
             [
              0.5555555555555556,
              "#d8576b"
             ],
             [
              0.6666666666666666,
              "#ed7953"
             ],
             [
              0.7777777777777778,
              "#fb9f3a"
             ],
             [
              0.8888888888888888,
              "#fdca26"
             ],
             [
              1,
              "#f0f921"
             ]
            ],
            "type": "histogram2d"
           }
          ],
          "histogram2dcontour": [
           {
            "colorbar": {
             "outlinewidth": 0,
             "ticks": ""
            },
            "colorscale": [
             [
              0,
              "#0d0887"
             ],
             [
              0.1111111111111111,
              "#46039f"
             ],
             [
              0.2222222222222222,
              "#7201a8"
             ],
             [
              0.3333333333333333,
              "#9c179e"
             ],
             [
              0.4444444444444444,
              "#bd3786"
             ],
             [
              0.5555555555555556,
              "#d8576b"
             ],
             [
              0.6666666666666666,
              "#ed7953"
             ],
             [
              0.7777777777777778,
              "#fb9f3a"
             ],
             [
              0.8888888888888888,
              "#fdca26"
             ],
             [
              1,
              "#f0f921"
             ]
            ],
            "type": "histogram2dcontour"
           }
          ],
          "mesh3d": [
           {
            "colorbar": {
             "outlinewidth": 0,
             "ticks": ""
            },
            "type": "mesh3d"
           }
          ],
          "parcoords": [
           {
            "line": {
             "colorbar": {
              "outlinewidth": 0,
              "ticks": ""
             }
            },
            "type": "parcoords"
           }
          ],
          "pie": [
           {
            "automargin": true,
            "type": "pie"
           }
          ],
          "scatter": [
           {
            "fillpattern": {
             "fillmode": "overlay",
             "size": 10,
             "solidity": 0.2
            },
            "type": "scatter"
           }
          ],
          "scatter3d": [
           {
            "line": {
             "colorbar": {
              "outlinewidth": 0,
              "ticks": ""
             }
            },
            "marker": {
             "colorbar": {
              "outlinewidth": 0,
              "ticks": ""
             }
            },
            "type": "scatter3d"
           }
          ],
          "scattercarpet": [
           {
            "marker": {
             "colorbar": {
              "outlinewidth": 0,
              "ticks": ""
             }
            },
            "type": "scattercarpet"
           }
          ],
          "scattergeo": [
           {
            "marker": {
             "colorbar": {
              "outlinewidth": 0,
              "ticks": ""
             }
            },
            "type": "scattergeo"
           }
          ],
          "scattergl": [
           {
            "marker": {
             "colorbar": {
              "outlinewidth": 0,
              "ticks": ""
             }
            },
            "type": "scattergl"
           }
          ],
          "scattermapbox": [
           {
            "marker": {
             "colorbar": {
              "outlinewidth": 0,
              "ticks": ""
             }
            },
            "type": "scattermapbox"
           }
          ],
          "scatterpolar": [
           {
            "marker": {
             "colorbar": {
              "outlinewidth": 0,
              "ticks": ""
             }
            },
            "type": "scatterpolar"
           }
          ],
          "scatterpolargl": [
           {
            "marker": {
             "colorbar": {
              "outlinewidth": 0,
              "ticks": ""
             }
            },
            "type": "scatterpolargl"
           }
          ],
          "scatterternary": [
           {
            "marker": {
             "colorbar": {
              "outlinewidth": 0,
              "ticks": ""
             }
            },
            "type": "scatterternary"
           }
          ],
          "surface": [
           {
            "colorbar": {
             "outlinewidth": 0,
             "ticks": ""
            },
            "colorscale": [
             [
              0,
              "#0d0887"
             ],
             [
              0.1111111111111111,
              "#46039f"
             ],
             [
              0.2222222222222222,
              "#7201a8"
             ],
             [
              0.3333333333333333,
              "#9c179e"
             ],
             [
              0.4444444444444444,
              "#bd3786"
             ],
             [
              0.5555555555555556,
              "#d8576b"
             ],
             [
              0.6666666666666666,
              "#ed7953"
             ],
             [
              0.7777777777777778,
              "#fb9f3a"
             ],
             [
              0.8888888888888888,
              "#fdca26"
             ],
             [
              1,
              "#f0f921"
             ]
            ],
            "type": "surface"
           }
          ],
          "table": [
           {
            "cells": {
             "fill": {
              "color": "#EBF0F8"
             },
             "line": {
              "color": "white"
             }
            },
            "header": {
             "fill": {
              "color": "#C8D4E3"
             },
             "line": {
              "color": "white"
             }
            },
            "type": "table"
           }
          ]
         },
         "layout": {
          "annotationdefaults": {
           "arrowcolor": "#2a3f5f",
           "arrowhead": 0,
           "arrowwidth": 1
          },
          "autotypenumbers": "strict",
          "coloraxis": {
           "colorbar": {
            "outlinewidth": 0,
            "ticks": ""
           }
          },
          "colorscale": {
           "diverging": [
            [
             0,
             "#8e0152"
            ],
            [
             0.1,
             "#c51b7d"
            ],
            [
             0.2,
             "#de77ae"
            ],
            [
             0.3,
             "#f1b6da"
            ],
            [
             0.4,
             "#fde0ef"
            ],
            [
             0.5,
             "#f7f7f7"
            ],
            [
             0.6,
             "#e6f5d0"
            ],
            [
             0.7,
             "#b8e186"
            ],
            [
             0.8,
             "#7fbc41"
            ],
            [
             0.9,
             "#4d9221"
            ],
            [
             1,
             "#276419"
            ]
           ],
           "sequential": [
            [
             0,
             "#0d0887"
            ],
            [
             0.1111111111111111,
             "#46039f"
            ],
            [
             0.2222222222222222,
             "#7201a8"
            ],
            [
             0.3333333333333333,
             "#9c179e"
            ],
            [
             0.4444444444444444,
             "#bd3786"
            ],
            [
             0.5555555555555556,
             "#d8576b"
            ],
            [
             0.6666666666666666,
             "#ed7953"
            ],
            [
             0.7777777777777778,
             "#fb9f3a"
            ],
            [
             0.8888888888888888,
             "#fdca26"
            ],
            [
             1,
             "#f0f921"
            ]
           ],
           "sequentialminus": [
            [
             0,
             "#0d0887"
            ],
            [
             0.1111111111111111,
             "#46039f"
            ],
            [
             0.2222222222222222,
             "#7201a8"
            ],
            [
             0.3333333333333333,
             "#9c179e"
            ],
            [
             0.4444444444444444,
             "#bd3786"
            ],
            [
             0.5555555555555556,
             "#d8576b"
            ],
            [
             0.6666666666666666,
             "#ed7953"
            ],
            [
             0.7777777777777778,
             "#fb9f3a"
            ],
            [
             0.8888888888888888,
             "#fdca26"
            ],
            [
             1,
             "#f0f921"
            ]
           ]
          },
          "colorway": [
           "#636efa",
           "#EF553B",
           "#00cc96",
           "#ab63fa",
           "#FFA15A",
           "#19d3f3",
           "#FF6692",
           "#B6E880",
           "#FF97FF",
           "#FECB52"
          ],
          "font": {
           "color": "#2a3f5f"
          },
          "geo": {
           "bgcolor": "white",
           "lakecolor": "white",
           "landcolor": "#E5ECF6",
           "showlakes": true,
           "showland": true,
           "subunitcolor": "white"
          },
          "hoverlabel": {
           "align": "left"
          },
          "hovermode": "closest",
          "mapbox": {
           "style": "light"
          },
          "paper_bgcolor": "white",
          "plot_bgcolor": "#E5ECF6",
          "polar": {
           "angularaxis": {
            "gridcolor": "white",
            "linecolor": "white",
            "ticks": ""
           },
           "bgcolor": "#E5ECF6",
           "radialaxis": {
            "gridcolor": "white",
            "linecolor": "white",
            "ticks": ""
           }
          },
          "scene": {
           "xaxis": {
            "backgroundcolor": "#E5ECF6",
            "gridcolor": "white",
            "gridwidth": 2,
            "linecolor": "white",
            "showbackground": true,
            "ticks": "",
            "zerolinecolor": "white"
           },
           "yaxis": {
            "backgroundcolor": "#E5ECF6",
            "gridcolor": "white",
            "gridwidth": 2,
            "linecolor": "white",
            "showbackground": true,
            "ticks": "",
            "zerolinecolor": "white"
           },
           "zaxis": {
            "backgroundcolor": "#E5ECF6",
            "gridcolor": "white",
            "gridwidth": 2,
            "linecolor": "white",
            "showbackground": true,
            "ticks": "",
            "zerolinecolor": "white"
           }
          },
          "shapedefaults": {
           "line": {
            "color": "#2a3f5f"
           }
          },
          "ternary": {
           "aaxis": {
            "gridcolor": "white",
            "linecolor": "white",
            "ticks": ""
           },
           "baxis": {
            "gridcolor": "white",
            "linecolor": "white",
            "ticks": ""
           },
           "bgcolor": "#E5ECF6",
           "caxis": {
            "gridcolor": "white",
            "linecolor": "white",
            "ticks": ""
           }
          },
          "title": {
           "x": 0.05
          },
          "xaxis": {
           "automargin": true,
           "gridcolor": "white",
           "linecolor": "white",
           "ticks": "",
           "title": {
            "standoff": 15
           },
           "zerolinecolor": "white",
           "zerolinewidth": 2
          },
          "yaxis": {
           "automargin": true,
           "gridcolor": "white",
           "linecolor": "white",
           "ticks": "",
           "title": {
            "standoff": 15
           },
           "zerolinecolor": "white",
           "zerolinewidth": 2
          }
         }
        },
        "xaxis": {
         "anchor": "y",
         "domain": [
          0,
          0.45
         ]
        },
        "xaxis2": {
         "anchor": "y2",
         "domain": [
          0.55,
          1
         ]
        },
        "yaxis": {
         "anchor": "x",
         "domain": [
          0,
          1
         ]
        },
        "yaxis2": {
         "anchor": "x2",
         "domain": [
          0,
          1
         ]
        }
       }
      }
     },
     "metadata": {},
     "output_type": "display_data"
    }
   ],
   "source": [
    "dff['director']=dff['director'].fillna('Bilinmiyor')\n",
    "filtered_directors=pd.DataFrame()\n",
    "filtered_directors=dff['director'].str.split(',',expand=True).stack()\n",
    "filtered_directors=filtered_directors.to_frame()\n",
    "filtered_directors.columns=['Director']\n",
    "directors=filtered_directors.groupby(['Director']).size().reset_index(name='Total Content')\n",
    "directors=directors[directors.Director !='Bilinmiyor']\n",
    "directors=directors.sort_values(by=['Total Content'],ascending=False)\n",
    "directorsTop5=directors.head()\n",
    "directorsTop5=directorsTop5.sort_values(by=['Total Content'])\n",
    "fig1=px.bar(directorsTop5,x='Total Content',y='Director')\n",
    "\n",
    "dff['cast']=dff['cast'].fillna('Bilinmiyor')\n",
    "filtered_cast=pd.DataFrame()\n",
    "filtered_cast=dff['cast'].str.split(',',expand=True).stack()\n",
    "filtered_cast=filtered_cast.to_frame()\n",
    "filtered_cast.columns=['Actor']\n",
    "actors=filtered_cast.groupby(['Actor']).size().reset_index(name='Total Content')\n",
    "actors=actors[actors.Actor !='Bilinmiyor']\n",
    "actors=actors.sort_values(by=['Total Content'],ascending=False)\n",
    "actorsTop5=actors.head()\n",
    "actorsTop5=actorsTop5.sort_values(by=['Total Content'])\n",
    "fig2=px.bar(actorsTop5,x='Total Content',y='Actor')\n",
    "\n",
    "fig = make_subplots(rows=1, cols=2, subplot_titles=('En iyi 5 Yapımcı',  'En iyi 5 Aktör'))\n",
    "fig.add_trace(fig1['data'][0], row=1, col=1)\n",
    "fig.add_trace(fig2['data'][0], row=1, col=2)\n",
    "\n",
    "fig.show()"
   ]
  },
  {
   "cell_type": "code",
   "execution_count": 11,
   "metadata": {},
   "outputs": [
    {
     "data": {
      "application/vnd.plotly.v1+json": {
       "config": {
        "plotlyServerURL": "https://plot.ly"
       },
       "data": [
        {
         "hovertemplate": "Tip=Movie<br>Yayın Tarihi=%{x}<br>İçerik Adedi=%{y}<extra></extra>",
         "legendgroup": "Movie",
         "line": {
          "color": "#636efa",
          "dash": "solid"
         },
         "marker": {
          "symbol": "circle"
         },
         "mode": "lines",
         "name": "Movie",
         "orientation": "v",
         "showlegend": true,
         "type": "scatter",
         "x": [
          2010,
          2011,
          2012,
          2013,
          2014,
          2015,
          2016,
          2017,
          2018,
          2019,
          2020,
          2021
         ],
         "xaxis": "x",
         "y": [
          154,
          145,
          173,
          225,
          264,
          398,
          658,
          767,
          767,
          633,
          517,
          277
         ],
         "yaxis": "y"
        },
        {
         "hovertemplate": "Tip=TV Show<br>Yayın Tarihi=%{x}<br>İçerik Adedi=%{y}<extra></extra>",
         "legendgroup": "TV Show",
         "line": {
          "color": "#EF553B",
          "dash": "solid"
         },
         "marker": {
          "symbol": "circle"
         },
         "mode": "lines",
         "name": "TV Show",
         "orientation": "v",
         "showlegend": true,
         "type": "scatter",
         "x": [
          2010,
          2011,
          2012,
          2013,
          2014,
          2015,
          2016,
          2017,
          2018,
          2019,
          2020,
          2021
         ],
         "xaxis": "x",
         "y": [
          40,
          40,
          64,
          63,
          88,
          162,
          244,
          265,
          380,
          397,
          436,
          315
         ],
         "yaxis": "y"
        }
       ],
       "layout": {
        "legend": {
         "title": {
          "text": "Tip"
         },
         "tracegroupgap": 0
        },
        "template": {
         "data": {
          "bar": [
           {
            "error_x": {
             "color": "#2a3f5f"
            },
            "error_y": {
             "color": "#2a3f5f"
            },
            "marker": {
             "line": {
              "color": "#E5ECF6",
              "width": 0.5
             },
             "pattern": {
              "fillmode": "overlay",
              "size": 10,
              "solidity": 0.2
             }
            },
            "type": "bar"
           }
          ],
          "barpolar": [
           {
            "marker": {
             "line": {
              "color": "#E5ECF6",
              "width": 0.5
             },
             "pattern": {
              "fillmode": "overlay",
              "size": 10,
              "solidity": 0.2
             }
            },
            "type": "barpolar"
           }
          ],
          "carpet": [
           {
            "aaxis": {
             "endlinecolor": "#2a3f5f",
             "gridcolor": "white",
             "linecolor": "white",
             "minorgridcolor": "white",
             "startlinecolor": "#2a3f5f"
            },
            "baxis": {
             "endlinecolor": "#2a3f5f",
             "gridcolor": "white",
             "linecolor": "white",
             "minorgridcolor": "white",
             "startlinecolor": "#2a3f5f"
            },
            "type": "carpet"
           }
          ],
          "choropleth": [
           {
            "colorbar": {
             "outlinewidth": 0,
             "ticks": ""
            },
            "type": "choropleth"
           }
          ],
          "contour": [
           {
            "colorbar": {
             "outlinewidth": 0,
             "ticks": ""
            },
            "colorscale": [
             [
              0,
              "#0d0887"
             ],
             [
              0.1111111111111111,
              "#46039f"
             ],
             [
              0.2222222222222222,
              "#7201a8"
             ],
             [
              0.3333333333333333,
              "#9c179e"
             ],
             [
              0.4444444444444444,
              "#bd3786"
             ],
             [
              0.5555555555555556,
              "#d8576b"
             ],
             [
              0.6666666666666666,
              "#ed7953"
             ],
             [
              0.7777777777777778,
              "#fb9f3a"
             ],
             [
              0.8888888888888888,
              "#fdca26"
             ],
             [
              1,
              "#f0f921"
             ]
            ],
            "type": "contour"
           }
          ],
          "contourcarpet": [
           {
            "colorbar": {
             "outlinewidth": 0,
             "ticks": ""
            },
            "type": "contourcarpet"
           }
          ],
          "heatmap": [
           {
            "colorbar": {
             "outlinewidth": 0,
             "ticks": ""
            },
            "colorscale": [
             [
              0,
              "#0d0887"
             ],
             [
              0.1111111111111111,
              "#46039f"
             ],
             [
              0.2222222222222222,
              "#7201a8"
             ],
             [
              0.3333333333333333,
              "#9c179e"
             ],
             [
              0.4444444444444444,
              "#bd3786"
             ],
             [
              0.5555555555555556,
              "#d8576b"
             ],
             [
              0.6666666666666666,
              "#ed7953"
             ],
             [
              0.7777777777777778,
              "#fb9f3a"
             ],
             [
              0.8888888888888888,
              "#fdca26"
             ],
             [
              1,
              "#f0f921"
             ]
            ],
            "type": "heatmap"
           }
          ],
          "heatmapgl": [
           {
            "colorbar": {
             "outlinewidth": 0,
             "ticks": ""
            },
            "colorscale": [
             [
              0,
              "#0d0887"
             ],
             [
              0.1111111111111111,
              "#46039f"
             ],
             [
              0.2222222222222222,
              "#7201a8"
             ],
             [
              0.3333333333333333,
              "#9c179e"
             ],
             [
              0.4444444444444444,
              "#bd3786"
             ],
             [
              0.5555555555555556,
              "#d8576b"
             ],
             [
              0.6666666666666666,
              "#ed7953"
             ],
             [
              0.7777777777777778,
              "#fb9f3a"
             ],
             [
              0.8888888888888888,
              "#fdca26"
             ],
             [
              1,
              "#f0f921"
             ]
            ],
            "type": "heatmapgl"
           }
          ],
          "histogram": [
           {
            "marker": {
             "pattern": {
              "fillmode": "overlay",
              "size": 10,
              "solidity": 0.2
             }
            },
            "type": "histogram"
           }
          ],
          "histogram2d": [
           {
            "colorbar": {
             "outlinewidth": 0,
             "ticks": ""
            },
            "colorscale": [
             [
              0,
              "#0d0887"
             ],
             [
              0.1111111111111111,
              "#46039f"
             ],
             [
              0.2222222222222222,
              "#7201a8"
             ],
             [
              0.3333333333333333,
              "#9c179e"
             ],
             [
              0.4444444444444444,
              "#bd3786"
             ],
             [
              0.5555555555555556,
              "#d8576b"
             ],
             [
              0.6666666666666666,
              "#ed7953"
             ],
             [
              0.7777777777777778,
              "#fb9f3a"
             ],
             [
              0.8888888888888888,
              "#fdca26"
             ],
             [
              1,
              "#f0f921"
             ]
            ],
            "type": "histogram2d"
           }
          ],
          "histogram2dcontour": [
           {
            "colorbar": {
             "outlinewidth": 0,
             "ticks": ""
            },
            "colorscale": [
             [
              0,
              "#0d0887"
             ],
             [
              0.1111111111111111,
              "#46039f"
             ],
             [
              0.2222222222222222,
              "#7201a8"
             ],
             [
              0.3333333333333333,
              "#9c179e"
             ],
             [
              0.4444444444444444,
              "#bd3786"
             ],
             [
              0.5555555555555556,
              "#d8576b"
             ],
             [
              0.6666666666666666,
              "#ed7953"
             ],
             [
              0.7777777777777778,
              "#fb9f3a"
             ],
             [
              0.8888888888888888,
              "#fdca26"
             ],
             [
              1,
              "#f0f921"
             ]
            ],
            "type": "histogram2dcontour"
           }
          ],
          "mesh3d": [
           {
            "colorbar": {
             "outlinewidth": 0,
             "ticks": ""
            },
            "type": "mesh3d"
           }
          ],
          "parcoords": [
           {
            "line": {
             "colorbar": {
              "outlinewidth": 0,
              "ticks": ""
             }
            },
            "type": "parcoords"
           }
          ],
          "pie": [
           {
            "automargin": true,
            "type": "pie"
           }
          ],
          "scatter": [
           {
            "fillpattern": {
             "fillmode": "overlay",
             "size": 10,
             "solidity": 0.2
            },
            "type": "scatter"
           }
          ],
          "scatter3d": [
           {
            "line": {
             "colorbar": {
              "outlinewidth": 0,
              "ticks": ""
             }
            },
            "marker": {
             "colorbar": {
              "outlinewidth": 0,
              "ticks": ""
             }
            },
            "type": "scatter3d"
           }
          ],
          "scattercarpet": [
           {
            "marker": {
             "colorbar": {
              "outlinewidth": 0,
              "ticks": ""
             }
            },
            "type": "scattercarpet"
           }
          ],
          "scattergeo": [
           {
            "marker": {
             "colorbar": {
              "outlinewidth": 0,
              "ticks": ""
             }
            },
            "type": "scattergeo"
           }
          ],
          "scattergl": [
           {
            "marker": {
             "colorbar": {
              "outlinewidth": 0,
              "ticks": ""
             }
            },
            "type": "scattergl"
           }
          ],
          "scattermapbox": [
           {
            "marker": {
             "colorbar": {
              "outlinewidth": 0,
              "ticks": ""
             }
            },
            "type": "scattermapbox"
           }
          ],
          "scatterpolar": [
           {
            "marker": {
             "colorbar": {
              "outlinewidth": 0,
              "ticks": ""
             }
            },
            "type": "scatterpolar"
           }
          ],
          "scatterpolargl": [
           {
            "marker": {
             "colorbar": {
              "outlinewidth": 0,
              "ticks": ""
             }
            },
            "type": "scatterpolargl"
           }
          ],
          "scatterternary": [
           {
            "marker": {
             "colorbar": {
              "outlinewidth": 0,
              "ticks": ""
             }
            },
            "type": "scatterternary"
           }
          ],
          "surface": [
           {
            "colorbar": {
             "outlinewidth": 0,
             "ticks": ""
            },
            "colorscale": [
             [
              0,
              "#0d0887"
             ],
             [
              0.1111111111111111,
              "#46039f"
             ],
             [
              0.2222222222222222,
              "#7201a8"
             ],
             [
              0.3333333333333333,
              "#9c179e"
             ],
             [
              0.4444444444444444,
              "#bd3786"
             ],
             [
              0.5555555555555556,
              "#d8576b"
             ],
             [
              0.6666666666666666,
              "#ed7953"
             ],
             [
              0.7777777777777778,
              "#fb9f3a"
             ],
             [
              0.8888888888888888,
              "#fdca26"
             ],
             [
              1,
              "#f0f921"
             ]
            ],
            "type": "surface"
           }
          ],
          "table": [
           {
            "cells": {
             "fill": {
              "color": "#EBF0F8"
             },
             "line": {
              "color": "white"
             }
            },
            "header": {
             "fill": {
              "color": "#C8D4E3"
             },
             "line": {
              "color": "white"
             }
            },
            "type": "table"
           }
          ]
         },
         "layout": {
          "annotationdefaults": {
           "arrowcolor": "#2a3f5f",
           "arrowhead": 0,
           "arrowwidth": 1
          },
          "autotypenumbers": "strict",
          "coloraxis": {
           "colorbar": {
            "outlinewidth": 0,
            "ticks": ""
           }
          },
          "colorscale": {
           "diverging": [
            [
             0,
             "#8e0152"
            ],
            [
             0.1,
             "#c51b7d"
            ],
            [
             0.2,
             "#de77ae"
            ],
            [
             0.3,
             "#f1b6da"
            ],
            [
             0.4,
             "#fde0ef"
            ],
            [
             0.5,
             "#f7f7f7"
            ],
            [
             0.6,
             "#e6f5d0"
            ],
            [
             0.7,
             "#b8e186"
            ],
            [
             0.8,
             "#7fbc41"
            ],
            [
             0.9,
             "#4d9221"
            ],
            [
             1,
             "#276419"
            ]
           ],
           "sequential": [
            [
             0,
             "#0d0887"
            ],
            [
             0.1111111111111111,
             "#46039f"
            ],
            [
             0.2222222222222222,
             "#7201a8"
            ],
            [
             0.3333333333333333,
             "#9c179e"
            ],
            [
             0.4444444444444444,
             "#bd3786"
            ],
            [
             0.5555555555555556,
             "#d8576b"
            ],
            [
             0.6666666666666666,
             "#ed7953"
            ],
            [
             0.7777777777777778,
             "#fb9f3a"
            ],
            [
             0.8888888888888888,
             "#fdca26"
            ],
            [
             1,
             "#f0f921"
            ]
           ],
           "sequentialminus": [
            [
             0,
             "#0d0887"
            ],
            [
             0.1111111111111111,
             "#46039f"
            ],
            [
             0.2222222222222222,
             "#7201a8"
            ],
            [
             0.3333333333333333,
             "#9c179e"
            ],
            [
             0.4444444444444444,
             "#bd3786"
            ],
            [
             0.5555555555555556,
             "#d8576b"
            ],
            [
             0.6666666666666666,
             "#ed7953"
            ],
            [
             0.7777777777777778,
             "#fb9f3a"
            ],
            [
             0.8888888888888888,
             "#fdca26"
            ],
            [
             1,
             "#f0f921"
            ]
           ]
          },
          "colorway": [
           "#636efa",
           "#EF553B",
           "#00cc96",
           "#ab63fa",
           "#FFA15A",
           "#19d3f3",
           "#FF6692",
           "#B6E880",
           "#FF97FF",
           "#FECB52"
          ],
          "font": {
           "color": "#2a3f5f"
          },
          "geo": {
           "bgcolor": "white",
           "lakecolor": "white",
           "landcolor": "#E5ECF6",
           "showlakes": true,
           "showland": true,
           "subunitcolor": "white"
          },
          "hoverlabel": {
           "align": "left"
          },
          "hovermode": "closest",
          "mapbox": {
           "style": "light"
          },
          "paper_bgcolor": "white",
          "plot_bgcolor": "#E5ECF6",
          "polar": {
           "angularaxis": {
            "gridcolor": "white",
            "linecolor": "white",
            "ticks": ""
           },
           "bgcolor": "#E5ECF6",
           "radialaxis": {
            "gridcolor": "white",
            "linecolor": "white",
            "ticks": ""
           }
          },
          "scene": {
           "xaxis": {
            "backgroundcolor": "#E5ECF6",
            "gridcolor": "white",
            "gridwidth": 2,
            "linecolor": "white",
            "showbackground": true,
            "ticks": "",
            "zerolinecolor": "white"
           },
           "yaxis": {
            "backgroundcolor": "#E5ECF6",
            "gridcolor": "white",
            "gridwidth": 2,
            "linecolor": "white",
            "showbackground": true,
            "ticks": "",
            "zerolinecolor": "white"
           },
           "zaxis": {
            "backgroundcolor": "#E5ECF6",
            "gridcolor": "white",
            "gridwidth": 2,
            "linecolor": "white",
            "showbackground": true,
            "ticks": "",
            "zerolinecolor": "white"
           }
          },
          "shapedefaults": {
           "line": {
            "color": "#2a3f5f"
           }
          },
          "ternary": {
           "aaxis": {
            "gridcolor": "white",
            "linecolor": "white",
            "ticks": ""
           },
           "baxis": {
            "gridcolor": "white",
            "linecolor": "white",
            "ticks": ""
           },
           "bgcolor": "#E5ECF6",
           "caxis": {
            "gridcolor": "white",
            "linecolor": "white",
            "ticks": ""
           }
          },
          "title": {
           "x": 0.05
          },
          "xaxis": {
           "automargin": true,
           "gridcolor": "white",
           "linecolor": "white",
           "ticks": "",
           "title": {
            "standoff": 15
           },
           "zerolinecolor": "white",
           "zerolinewidth": 2
          },
          "yaxis": {
           "automargin": true,
           "gridcolor": "white",
           "linecolor": "white",
           "ticks": "",
           "title": {
            "standoff": 15
           },
           "zerolinecolor": "white",
           "zerolinewidth": 2
          }
         }
        },
        "title": {
         "text": "Yıllara göre üretilen içerikler"
        },
        "xaxis": {
         "anchor": "y",
         "domain": [
          0,
          1
         ],
         "title": {
          "text": "Yayın Tarihi"
         }
        },
        "yaxis": {
         "anchor": "x",
         "domain": [
          0,
          1
         ],
         "title": {
          "text": "İçerik Adedi"
         }
        }
       }
      }
     },
     "metadata": {},
     "output_type": "display_data"
    }
   ],
   "source": [
    "df1=dff[['type','release_year']]\n",
    "df1=df1.rename(columns={\"release_year\": \"Yayın Tarihi\"})\n",
    "df1=df1.rename(columns={\"type\": \"Tip\"})\n",
    "df1=df1.rename(columns={\"Total Content\": \"İçerik Adedi\"})\n",
    "df2=df1.groupby(['Yayın Tarihi','Tip']).size().reset_index(name='İçerik Adedi')\n",
    "df2=df2[df2['Yayın Tarihi']>=2010]\n",
    "fig3 = px.line(df2, x=\"Yayın Tarihi\", y=\"İçerik Adedi\", color='Tip',title='Yıllara göre üretilen içerikler')\n",
    "fig3.show()"
   ]
  },
  {
   "cell_type": "code",
   "execution_count": 12,
   "metadata": {},
   "outputs": [
    {
     "data": {
      "application/vnd.plotly.v1+json": {
       "config": {
        "plotlyServerURL": "https://plot.ly"
       },
       "data": [
        {
         "branchvalues": "total",
         "customdata": [
          [
           1
          ],
          [
           1
          ],
          [
           1
          ],
          [
           1
          ],
          [
           1
          ],
          [
           1
          ],
          [
           1
          ],
          [
           1
          ],
          [
           2
          ],
          [
           1
          ],
          [
           1
          ],
          [
           1
          ],
          [
           1
          ],
          [
           1
          ],
          [
           1
          ],
          [
           1
          ],
          [
           2
          ],
          [
           2
          ],
          [
           2
          ],
          [
           3
          ],
          [
           2
          ],
          [
           1
          ],
          [
           4
          ],
          [
           1
          ],
          [
           2
          ],
          [
           3
          ],
          [
           1
          ],
          [
           2
          ],
          [
           1
          ],
          [
           1
          ],
          [
           1
          ],
          [
           1
          ],
          [
           1
          ],
          [
           1
          ],
          [
           1
          ],
          [
           1
          ],
          [
           1
          ],
          [
           1
          ],
          [
           2
          ],
          [
           1
          ],
          [
           1
          ],
          [
           1
          ],
          [
           2
          ],
          [
           4
          ],
          [
           2
          ],
          [
           5
          ],
          [
           6
          ],
          [
           3
          ],
          [
           7
          ],
          [
           17
          ],
          [
           1
          ],
          [
           20
          ],
          [
           2
          ],
          [
           1
          ],
          [
           1
          ],
          [
           1
          ],
          [
           2
          ],
          [
           4
          ],
          [
           2
          ],
          [
           2
          ],
          [
           1
          ],
          [
           1
          ],
          [
           2
          ],
          [
           2
          ],
          [
           1
          ],
          [
           4
          ],
          [
           1
          ],
          [
           2
          ],
          [
           3
          ],
          [
           1
          ],
          [
           1
          ],
          [
           3
          ],
          [
           4
          ],
          [
           3
          ],
          [
           2
          ],
          [
           1
          ],
          [
           1
          ],
          [
           2
          ],
          [
           4
          ],
          [
           5
          ],
          [
           4
          ],
          [
           5
          ],
          [
           8
          ],
          [
           5
          ],
          [
           8
          ],
          [
           10
          ],
          [
           10
          ],
          [
           10
          ],
          [
           8
          ],
          [
           18
          ],
          [
           7
          ],
          [
           14
          ],
          [
           15
          ],
          [
           11
          ],
          [
           14
          ],
          [
           15
          ],
          [
           31
          ],
          [
           12
          ],
          [
           15
          ],
          [
           11
          ],
          [
           1
          ],
          [
           1
          ],
          [
           1
          ],
          [
           1
          ],
          [
           1
          ],
          [
           2
          ],
          [
           2
          ],
          [
           3
          ],
          [
           2
          ],
          [
           4
          ],
          [
           2
          ],
          [
           1
          ],
          [
           4
          ],
          [
           4
          ],
          [
           10
          ],
          [
           6
          ],
          [
           9
          ],
          [
           7
          ],
          [
           8
          ],
          [
           10
          ],
          [
           8
          ],
          [
           14
          ],
          [
           10
          ],
          [
           7
          ],
          [
           16
          ],
          [
           15
          ],
          [
           15
          ],
          [
           24
          ],
          [
           25
          ],
          [
           26
          ],
          [
           23
          ],
          [
           19
          ],
          [
           15
          ],
          [
           19
          ],
          [
           25
          ],
          [
           34
          ],
          [
           32
          ],
          [
           30
          ],
          [
           19
          ],
          [
           21
          ],
          [
           14
          ],
          [
           1
          ],
          [
           2
          ],
          [
           1
          ],
          [
           1
          ],
          [
           1
          ],
          [
           3
          ],
          [
           2
          ],
          [
           1
          ],
          [
           1
          ],
          [
           2
          ],
          [
           5
          ],
          [
           2
          ],
          [
           3
          ],
          [
           1
          ],
          [
           2
          ],
          [
           2
          ],
          [
           5
          ],
          [
           1
          ],
          [
           4
          ],
          [
           2
          ],
          [
           11
          ],
          [
           6
          ],
          [
           4
          ],
          [
           4
          ],
          [
           9
          ],
          [
           16
          ],
          [
           9
          ],
          [
           10
          ],
          [
           8
          ],
          [
           14
          ],
          [
           12
          ],
          [
           16
          ],
          [
           7
          ],
          [
           10
          ],
          [
           12
          ],
          [
           14
          ],
          [
           19
          ],
          [
           25
          ],
          [
           26
          ],
          [
           20
          ],
          [
           29
          ],
          [
           41
          ],
          [
           49
          ],
          [
           66
          ],
          [
           1
          ],
          [
           85
          ],
          [
           1
          ],
          [
           73
          ],
          [
           52
          ],
          [
           39
          ],
          [
           48
          ],
          [
           21
          ],
          [
           1
          ],
          [
           2
          ],
          [
           2
          ],
          [
           2
          ],
          [
           1
          ],
          [
           1
          ],
          [
           1
          ],
          [
           1
          ],
          [
           1
          ],
          [
           1
          ],
          [
           2
          ],
          [
           1
          ],
          [
           1
          ],
          [
           1
          ],
          [
           1
          ],
          [
           1
          ],
          [
           2
          ],
          [
           1
          ],
          [
           3
          ],
          [
           1
          ],
          [
           1
          ],
          [
           2
          ],
          [
           1
          ],
          [
           1
          ],
          [
           3
          ],
          [
           4
          ],
          [
           5
          ],
          [
           8
          ],
          [
           6
          ],
          [
           5
          ],
          [
           5
          ],
          [
           3
          ],
          [
           2
          ],
          [
           1
          ],
          [
           3
          ],
          [
           4
          ],
          [
           7
          ],
          [
           2
          ],
          [
           2
          ],
          [
           2
          ],
          [
           6
          ],
          [
           7
          ],
          [
           4
          ],
          [
           4
          ],
          [
           4
          ],
          [
           7
          ],
          [
           1
          ],
          [
           2
          ],
          [
           4
          ],
          [
           5
          ],
          [
           6
          ],
          [
           3
          ],
          [
           8
          ],
          [
           3
          ],
          [
           10
          ],
          [
           6
          ],
          [
           12
          ],
          [
           3
          ],
          [
           21
          ],
          [
           5
          ],
          [
           24
          ],
          [
           7
          ],
          [
           14
          ],
          [
           4
          ],
          [
           29
          ],
          [
           9
          ],
          [
           33
          ],
          [
           15
          ],
          [
           35
          ],
          [
           15
          ],
          [
           37
          ],
          [
           18
          ],
          [
           46
          ],
          [
           27
          ],
          [
           53
          ],
          [
           22
          ],
          [
           65
          ],
          [
           34
          ],
          [
           87
          ],
          [
           57
          ],
          [
           140
          ],
          [
           78
          ],
          [
           182
          ],
          [
           69
          ],
          [
           176
          ],
          [
           92
          ],
          [
           160
          ],
          [
           92
          ],
          [
           91
          ],
          [
           83
          ],
          [
           73
          ],
          [
           78
          ],
          [
           1
          ],
          [
           1
          ],
          [
           1
          ],
          [
           1
          ],
          [
           1
          ],
          [
           1
          ],
          [
           1
          ],
          [
           2
          ],
          [
           1
          ],
          [
           2
          ],
          [
           1
          ],
          [
           1
          ],
          [
           3
          ],
          [
           1
          ],
          [
           3
          ],
          [
           1
          ],
          [
           1
          ],
          [
           2
          ],
          [
           1
          ],
          [
           5
          ],
          [
           8
          ],
          [
           3
          ],
          [
           4
          ],
          [
           6
          ],
          [
           5
          ],
          [
           13
          ],
          [
           9
          ],
          [
           20
          ],
          [
           6
          ],
          [
           18
          ],
          [
           8
          ],
          [
           15
          ],
          [
           8
          ],
          [
           26
          ],
          [
           19
          ],
          [
           9
          ],
          [
           12
          ],
          [
           1
          ],
          [
           1
          ],
          [
           1
          ],
          [
           1
          ],
          [
           1
          ],
          [
           1
          ],
          [
           1
          ],
          [
           1
          ],
          [
           2
          ],
          [
           1
          ],
          [
           1
          ],
          [
           2
          ],
          [
           2
          ],
          [
           1
          ],
          [
           2
          ],
          [
           4
          ],
          [
           1
          ],
          [
           2
          ],
          [
           1
          ],
          [
           1
          ],
          [
           1
          ],
          [
           1
          ],
          [
           2
          ],
          [
           3
          ],
          [
           5
          ],
          [
           3
          ],
          [
           3
          ],
          [
           1
          ],
          [
           1
          ],
          [
           1
          ],
          [
           3
          ],
          [
           7
          ],
          [
           4
          ],
          [
           1
          ],
          [
           1
          ],
          [
           2
          ],
          [
           5
          ],
          [
           2
          ],
          [
           8
          ],
          [
           8
          ],
          [
           2
          ],
          [
           4
          ],
          [
           4
          ],
          [
           13
          ],
          [
           4
          ],
          [
           12
          ],
          [
           5
          ],
          [
           20
          ],
          [
           5
          ],
          [
           8
          ],
          [
           10
          ],
          [
           33
          ],
          [
           9
          ],
          [
           20
          ],
          [
           7
          ],
          [
           41
          ],
          [
           13
          ],
          [
           48
          ],
          [
           16
          ],
          [
           62
          ],
          [
           17
          ],
          [
           135
          ],
          [
           49
          ],
          [
           273
          ],
          [
           68
          ],
          [
           337
          ],
          [
           114
          ],
          [
           358
          ],
          [
           191
          ],
          [
           286
          ],
          [
           214
          ],
          [
           220
          ],
          [
           249
          ],
          [
           110
          ],
          [
           160
          ],
          [
           3
          ],
          [
           1
          ],
          [
           1
          ],
          [
           1
          ],
          [
           1
          ],
          [
           2
          ],
          [
           2
          ],
          [
           1
          ],
          [
           1
          ],
          [
           1
          ],
          [
           1
          ],
          [
           1
          ],
          [
           1
          ],
          [
           2
          ],
          [
           1
          ],
          [
           1
          ],
          [
           1
          ],
          [
           1
          ],
          [
           1
          ],
          [
           1
          ],
          [
           1
          ],
          [
           2
          ],
          [
           1
          ],
          [
           4
          ],
          [
           2
          ],
          [
           2
          ],
          [
           1
          ],
          [
           1
          ],
          [
           2
          ],
          [
           1
          ],
          [
           1
          ],
          [
           1
          ],
          [
           1
          ],
          [
           2
          ],
          [
           1
          ],
          [
           1
          ],
          [
           1
          ],
          [
           1
          ],
          [
           1
          ],
          [
           2
          ],
          [
           3
          ],
          [
           2
          ],
          [
           2
          ],
          [
           1
          ],
          [
           1
          ],
          [
           1
          ],
          [
           2
          ],
          [
           9
          ],
          [
           1
          ],
          [
           9
          ],
          [
           1
          ],
          [
           8
          ],
          [
           2
          ],
          [
           5
          ],
          [
           1
          ],
          [
           6
          ],
          [
           3
          ],
          [
           10
          ],
          [
           6
          ],
          [
           10
          ],
          [
           10
          ],
          [
           11
          ],
          [
           7
          ],
          [
           10
          ],
          [
           13
          ],
          [
           20
          ],
          [
           9
          ],
          [
           26
          ],
          [
           21
          ],
          [
           35
          ],
          [
           28
          ],
          [
           52
          ],
          [
           45
          ],
          [
           80
          ],
          [
           31
          ],
          [
           71
          ],
          [
           34
          ],
          [
           62
          ],
          [
           36
          ],
          [
           46
          ],
          [
           34
          ],
          [
           20
          ],
          [
           25
          ],
          [
           1
          ],
          [
           1
          ],
          [
           1
          ],
          [
           1
          ],
          [
           1
          ],
          [
           1
          ],
          [
           1
          ],
          [
           1
          ],
          [
           2
          ],
          [
           4
          ],
          [
           4
          ],
          [
           4
          ],
          [
           2
          ],
          [
           6
          ],
          [
           5
          ],
          [
           6
          ],
          [
           8
          ],
          [
           10
          ],
          [
           10
          ],
          [
           8
          ],
          [
           23
          ],
          [
           13
          ],
          [
           18
          ],
          [
           13
          ],
          [
           28
          ],
          [
           25
          ],
          [
           25
          ],
          [
           34
          ],
          [
           25
          ],
          [
           6
          ],
          [
           20
          ],
          [
           1
          ],
          [
           1
          ],
          [
           1
          ],
          [
           2
          ],
          [
           1
          ],
          [
           1
          ],
          [
           2
          ],
          [
           2
          ],
          [
           1
          ],
          [
           1
          ],
          [
           1
          ],
          [
           2
          ],
          [
           1
          ],
          [
           3
          ],
          [
           1
          ],
          [
           1
          ],
          [
           3
          ],
          [
           2
          ],
          [
           2
          ],
          [
           3
          ],
          [
           2
          ],
          [
           6
          ],
          [
           2
          ],
          [
           8
          ],
          [
           3
          ],
          [
           11
          ],
          [
           4
          ],
          [
           16
          ],
          [
           4
          ],
          [
           9
          ],
          [
           3
          ],
          [
           4
          ],
          [
           10
          ],
          [
           13
          ],
          [
           20
          ],
          [
           10
          ],
          [
           27
          ],
          [
           13
          ],
          [
           27
          ],
          [
           14
          ],
          [
           22
          ],
          [
           15
          ],
          [
           26
          ],
          [
           13
          ],
          [
           20
          ],
          [
           1
          ],
          [
           1
          ],
          [
           1
          ],
          [
           2
          ],
          [
           1
          ],
          [
           1
          ],
          [
           1
          ],
          [
           1
          ],
          [
           1
          ],
          [
           2
          ],
          [
           3
          ],
          [
           1.6666666666666667
          ],
          [
           1.6666666666666667
          ],
          [
           1
          ],
          [
           1
          ],
          [
           1
          ],
          [
           1
          ],
          [
           1
          ],
          [
           1
          ],
          [
           1
          ],
          [
           1
          ],
          [
           1
          ],
          [
           2
          ],
          [
           1
          ],
          [
           1.6666666666666667
          ],
          [
           1
          ],
          [
           1
          ],
          [
           1
          ],
          [
           1
          ],
          [
           1
          ],
          [
           1.5
          ],
          [
           1
          ],
          [
           1
          ],
          [
           1
          ],
          [
           1
          ],
          [
           1.8
          ],
          [
           1
          ],
          [
           1
          ],
          [
           2.2
          ],
          [
           1.3333333333333333
          ],
          [
           1
          ],
          [
           1.8571428571428572
          ],
          [
           2.5555555555555554
          ],
          [
           1.3333333333333333
          ],
          [
           1
          ],
          [
           1.5714285714285714
          ],
          [
           2
          ],
          [
           1
          ],
          [
           3.909090909090909
          ],
          [
           3
          ],
          [
           1
          ],
          [
           5
          ],
          [
           4.818181818181818
          ],
          [
           3.6666666666666665
          ],
          [
           3.4444444444444446
          ],
          [
           1
          ],
          [
           2.090909090909091
          ],
          [
           2
          ],
          [
           1.5
          ],
          [
           3.75
          ],
          [
           2
          ],
          [
           2.6
          ],
          [
           1
          ],
          [
           4.7894736842105265
          ],
          [
           1.6666666666666667
          ],
          [
           2.75
          ],
          [
           1
          ],
          [
           7.2
          ],
          [
           1.6666666666666667
          ],
          [
           4.75
          ],
          [
           1
          ],
          [
           4.6
          ],
          [
           1
          ],
          [
           6.130434782608695
          ],
          [
           1
          ],
          [
           6.428571428571429
          ],
          [
           1.6666666666666667
          ],
          [
           10.705882352941176
          ],
          [
           1.5
          ],
          [
           7.1875
          ],
          [
           1
          ],
          [
           6.25
          ],
          [
           3
          ],
          [
           6.636363636363637
          ],
          [
           2
          ],
          [
           8.35
          ],
          [
           2.2
          ],
          [
           10.136363636363637
          ],
          [
           2.142857142857143
          ],
          [
           10.72549019607843
          ],
          [
           4.4
          ],
          [
           8.381818181818181
          ],
          [
           1.8888888888888888
          ],
          [
           13.776119402985074
          ],
          [
           3.923076923076923
          ],
          [
           15.170731707317072
          ],
          [
           5
          ],
          [
           12.054054054054054
          ],
          [
           3.7142857142857144
          ],
          [
           20.539823008849556
          ],
          [
           5.608695652173913
          ],
          [
           22.271186440677965
          ],
          [
           10.764705882352942
          ],
          [
           25.2987012987013
          ],
          [
           10.65
          ],
          [
           22.26896551724138
          ],
          [
           11.2
          ],
          [
           30.653179190751445
          ],
          [
           17.5
          ],
          [
           35.373333333333335
          ],
          [
           14.67741935483871
          ],
          [
           45.121212121212125
          ],
          [
           22.454545454545453
          ],
          [
           82.02267002518892
          ],
          [
           41.37267080745342
          ],
          [
           161.43768996960486
          ],
          [
           56.32786885245902
          ],
          [
           209.3289817232376
          ],
          [
           74.7433962264151
          ],
          [
           220.8800521512386
          ],
          [
           125.46842105263158
          ],
          [
           180.58925750394945
          ],
          [
           142.8942065491184
          ],
          [
           123.45261121856866
          ],
          [
           164.4678899082569
          ],
          [
           68.13357400722022
          ],
          [
           105.56507936507937
          ],
          [
           115.84973078805677
          ],
          [
           95.47419596110696
          ]
         ],
         "domain": {
          "x": [
           0,
           1
          ],
          "y": [
           0,
           1
          ]
         },
         "hovertemplate": "labels=%{label}<br>counts_sum=%{value}<br>parent=%{parent}<br>id=%{id}<br>counts=%{color}<extra></extra>",
         "ids": [
          "Movie/2015/66 min",
          "Movie/2017/74 min",
          "Movie/2010/84 min",
          "Movie/1956/G",
          "Movie/1958/G",
          "Movie/1964/G",
          "Movie/1968/G",
          "Movie/1969/G",
          "Movie/1971/G",
          "Movie/1973/G",
          "Movie/1977/G",
          "Movie/1986/G",
          "Movie/1989/G",
          "Movie/1991/G",
          "Movie/1995/G",
          "Movie/1998/G",
          "Movie/1999/G",
          "Movie/2000/G",
          "Movie/2001/G",
          "Movie/2004/G",
          "Movie/2005/G",
          "Movie/2007/G",
          "Movie/2009/G",
          "Movie/2011/G",
          "Movie/2014/G",
          "Movie/2016/G",
          "Movie/2017/G",
          "Movie/2018/G",
          "Movie/2019/G",
          "Movie/2020/G",
          "Movie/2013/NC-17",
          "Movie/2014/NC-17",
          "Movie/2018/NC-17",
          "Movie/1958/NR",
          "Movie/1973/NR",
          "Movie/1981/NR",
          "Movie/1985/NR",
          "Movie/1987/NR",
          "Movie/1991/NR",
          "Movie/2004/NR",
          "TV Show/2004/NR",
          "Movie/2006/NR",
          "Movie/2007/NR",
          "Movie/2010/NR",
          "Movie/2011/NR",
          "Movie/2012/NR",
          "Movie/2013/NR",
          "TV Show/2013/NR",
          "Movie/2014/NR",
          "Movie/2015/NR",
          "TV Show/2015/NR",
          "Movie/2016/NR",
          "Movie/2017/NR",
          "Movie/2018/NR",
          "Movie/1973/PG",
          "Movie/1974/PG",
          "Movie/1975/PG",
          "Movie/1976/PG",
          "Movie/1977/PG",
          "Movie/1978/PG",
          "Movie/1979/PG",
          "Movie/1980/PG",
          "Movie/1981/PG",
          "Movie/1982/PG",
          "Movie/1983/PG",
          "Movie/1984/PG",
          "Movie/1985/PG",
          "Movie/1986/PG",
          "Movie/1989/PG",
          "Movie/1990/PG",
          "Movie/1991/PG",
          "Movie/1992/PG",
          "Movie/1993/PG",
          "Movie/1994/PG",
          "Movie/1995/PG",
          "Movie/1996/PG",
          "Movie/1997/PG",
          "Movie/1999/PG",
          "Movie/2000/PG",
          "Movie/2001/PG",
          "Movie/2002/PG",
          "Movie/2003/PG",
          "Movie/2004/PG",
          "Movie/2005/PG",
          "Movie/2006/PG",
          "Movie/2007/PG",
          "Movie/2008/PG",
          "Movie/2009/PG",
          "Movie/2010/PG",
          "Movie/2011/PG",
          "Movie/2012/PG",
          "Movie/2013/PG",
          "Movie/2014/PG",
          "Movie/2015/PG",
          "Movie/2016/PG",
          "Movie/2017/PG",
          "Movie/2018/PG",
          "Movie/2019/PG",
          "Movie/2020/PG",
          "Movie/2021/PG",
          "Movie/1955/PG-13",
          "Movie/1965/PG-13",
          "Movie/1968/PG-13",
          "Movie/1979/PG-13",
          "Movie/1984/PG-13",
          "Movie/1986/PG-13",
          "Movie/1987/PG-13",
          "Movie/1988/PG-13",
          "Movie/1989/PG-13",
          "Movie/1990/PG-13",
          "Movie/1991/PG-13",
          "Movie/1992/PG-13",
          "Movie/1993/PG-13",
          "Movie/1994/PG-13",
          "Movie/1995/PG-13",
          "Movie/1996/PG-13",
          "Movie/1997/PG-13",
          "Movie/1998/PG-13",
          "Movie/1999/PG-13",
          "Movie/2000/PG-13",
          "Movie/2001/PG-13",
          "Movie/2002/PG-13",
          "Movie/2003/PG-13",
          "Movie/2004/PG-13",
          "Movie/2005/PG-13",
          "Movie/2006/PG-13",
          "Movie/2007/PG-13",
          "Movie/2008/PG-13",
          "Movie/2009/PG-13",
          "Movie/2010/PG-13",
          "Movie/2011/PG-13",
          "Movie/2012/PG-13",
          "Movie/2013/PG-13",
          "Movie/2014/PG-13",
          "Movie/2015/PG-13",
          "Movie/2016/PG-13",
          "Movie/2017/PG-13",
          "Movie/2018/PG-13",
          "Movie/2019/PG-13",
          "Movie/2020/PG-13",
          "Movie/2021/PG-13",
          "Movie/1962/R",
          "Movie/1967/R",
          "Movie/1968/R",
          "Movie/1971/R",
          "Movie/1972/R",
          "Movie/1973/R",
          "Movie/1974/R",
          "Movie/1976/R",
          "Movie/1978/R",
          "Movie/1979/R",
          "Movie/1980/R",
          "Movie/1981/R",
          "Movie/1982/R",
          "Movie/1984/R",
          "Movie/1986/R",
          "Movie/1987/R",
          "Movie/1988/R",
          "Movie/1989/R",
          "Movie/1990/R",
          "Movie/1991/R",
          "Movie/1992/R",
          "Movie/1993/R",
          "Movie/1994/R",
          "Movie/1995/R",
          "Movie/1996/R",
          "Movie/1997/R",
          "Movie/1998/R",
          "Movie/1999/R",
          "Movie/2000/R",
          "Movie/2001/R",
          "Movie/2002/R",
          "Movie/2003/R",
          "Movie/2004/R",
          "Movie/2005/R",
          "Movie/2006/R",
          "Movie/2007/R",
          "Movie/2008/R",
          "Movie/2009/R",
          "Movie/2010/R",
          "Movie/2011/R",
          "Movie/2012/R",
          "Movie/2013/R",
          "Movie/2014/R",
          "Movie/2015/R",
          "TV Show/2015/R",
          "Movie/2016/R",
          "TV Show/2016/R",
          "Movie/2017/R",
          "Movie/2018/R",
          "Movie/2019/R",
          "Movie/2020/R",
          "Movie/2021/R",
          "TV Show/1925/TV-14",
          "Movie/1942/TV-14",
          "Movie/1944/TV-14",
          "Movie/1945/TV-14",
          "TV Show/1946/TV-14",
          "Movie/1954/TV-14",
          "Movie/1955/TV-14",
          "Movie/1956/TV-14",
          "Movie/1958/TV-14",
          "Movie/1959/TV-14",
          "Movie/1960/TV-14",
          "Movie/1961/TV-14",
          "TV Show/1963/TV-14",
          "Movie/1964/TV-14",
          "Movie/1965/TV-14",
          "Movie/1967/TV-14",
          "Movie/1971/TV-14",
          "Movie/1972/TV-14",
          "Movie/1973/TV-14",
          "Movie/1974/TV-14",
          "TV Show/1974/TV-14",
          "Movie/1975/TV-14",
          "Movie/1976/TV-14",
          "Movie/1977/TV-14",
          "Movie/1979/TV-14",
          "Movie/1980/TV-14",
          "Movie/1981/TV-14",
          "Movie/1982/TV-14",
          "Movie/1983/TV-14",
          "Movie/1984/TV-14",
          "Movie/1985/TV-14",
          "Movie/1986/TV-14",
          "TV Show/1986/TV-14",
          "Movie/1987/TV-14",
          "Movie/1988/TV-14",
          "Movie/1989/TV-14",
          "Movie/1990/TV-14",
          "TV Show/1990/TV-14",
          "Movie/1991/TV-14",
          "Movie/1992/TV-14",
          "Movie/1993/TV-14",
          "Movie/1994/TV-14",
          "Movie/1995/TV-14",
          "Movie/1996/TV-14",
          "Movie/1997/TV-14",
          "Movie/1998/TV-14",
          "TV Show/1998/TV-14",
          "Movie/1999/TV-14",
          "TV Show/1999/TV-14",
          "Movie/2000/TV-14",
          "Movie/2001/TV-14",
          "TV Show/2001/TV-14",
          "Movie/2002/TV-14",
          "TV Show/2002/TV-14",
          "Movie/2003/TV-14",
          "TV Show/2003/TV-14",
          "Movie/2004/TV-14",
          "TV Show/2004/TV-14",
          "Movie/2005/TV-14",
          "TV Show/2005/TV-14",
          "Movie/2006/TV-14",
          "TV Show/2006/TV-14",
          "Movie/2007/TV-14",
          "TV Show/2007/TV-14",
          "Movie/2008/TV-14",
          "TV Show/2008/TV-14",
          "Movie/2009/TV-14",
          "TV Show/2009/TV-14",
          "Movie/2010/TV-14",
          "TV Show/2010/TV-14",
          "Movie/2011/TV-14",
          "TV Show/2011/TV-14",
          "Movie/2012/TV-14",
          "TV Show/2012/TV-14",
          "Movie/2013/TV-14",
          "TV Show/2013/TV-14",
          "Movie/2014/TV-14",
          "TV Show/2014/TV-14",
          "Movie/2015/TV-14",
          "TV Show/2015/TV-14",
          "Movie/2016/TV-14",
          "TV Show/2016/TV-14",
          "Movie/2017/TV-14",
          "TV Show/2017/TV-14",
          "Movie/2018/TV-14",
          "TV Show/2018/TV-14",
          "Movie/2019/TV-14",
          "TV Show/2019/TV-14",
          "Movie/2020/TV-14",
          "TV Show/2020/TV-14",
          "Movie/2021/TV-14",
          "TV Show/2021/TV-14",
          "Movie/1954/TV-G",
          "TV Show/1967/TV-G",
          "Movie/1978/TV-G",
          "TV Show/1991/TV-G",
          "TV Show/1993/TV-G",
          "TV Show/1994/TV-G",
          "TV Show/1995/TV-G",
          "TV Show/1997/TV-G",
          "TV Show/1998/TV-G",
          "Movie/1999/TV-G",
          "TV Show/2001/TV-G",
          "Movie/2008/TV-G",
          "TV Show/2008/TV-G",
          "TV Show/2009/TV-G",
          "Movie/2010/TV-G",
          "Movie/2011/TV-G",
          "TV Show/2011/TV-G",
          "Movie/2012/TV-G",
          "TV Show/2012/TV-G",
          "Movie/2013/TV-G",
          "TV Show/2013/TV-G",
          "Movie/2014/TV-G",
          "TV Show/2014/TV-G",
          "Movie/2015/TV-G",
          "TV Show/2015/TV-G",
          "Movie/2016/TV-G",
          "TV Show/2016/TV-G",
          "Movie/2017/TV-G",
          "TV Show/2017/TV-G",
          "Movie/2018/TV-G",
          "TV Show/2018/TV-G",
          "Movie/2019/TV-G",
          "TV Show/2019/TV-G",
          "Movie/2020/TV-G",
          "TV Show/2020/TV-G",
          "Movie/2021/TV-G",
          "TV Show/2021/TV-G",
          "Movie/1945/TV-MA",
          "TV Show/1945/TV-MA",
          "Movie/1963/TV-MA",
          "Movie/1967/TV-MA",
          "Movie/1970/TV-MA",
          "Movie/1972/TV-MA",
          "TV Show/1972/TV-MA",
          "Movie/1973/TV-MA",
          "Movie/1975/TV-MA",
          "Movie/1976/TV-MA",
          "Movie/1977/TV-MA",
          "Movie/1978/TV-MA",
          "Movie/1979/TV-MA",
          "Movie/1981/TV-MA",
          "Movie/1982/TV-MA",
          "Movie/1983/TV-MA",
          "Movie/1984/TV-MA",
          "Movie/1985/TV-MA",
          "TV Show/1985/TV-MA",
          "Movie/1986/TV-MA",
          "Movie/1987/TV-MA",
          "Movie/1988/TV-MA",
          "Movie/1989/TV-MA",
          "Movie/1990/TV-MA",
          "Movie/1991/TV-MA",
          "Movie/1992/TV-MA",
          "Movie/1993/TV-MA",
          "TV Show/1993/TV-MA",
          "Movie/1994/TV-MA",
          "TV Show/1995/TV-MA",
          "Movie/1997/TV-MA",
          "Movie/1998/TV-MA",
          "Movie/1999/TV-MA",
          "TV Show/1999/TV-MA",
          "Movie/2000/TV-MA",
          "Movie/2001/TV-MA",
          "Movie/2002/TV-MA",
          "TV Show/2002/TV-MA",
          "Movie/2003/TV-MA",
          "Movie/2004/TV-MA",
          "TV Show/2004/TV-MA",
          "Movie/2005/TV-MA",
          "TV Show/2005/TV-MA",
          "Movie/2006/TV-MA",
          "TV Show/2006/TV-MA",
          "Movie/2007/TV-MA",
          "TV Show/2007/TV-MA",
          "Movie/2008/TV-MA",
          "TV Show/2008/TV-MA",
          "Movie/2009/TV-MA",
          "TV Show/2009/TV-MA",
          "Movie/2010/TV-MA",
          "TV Show/2010/TV-MA",
          "Movie/2011/TV-MA",
          "TV Show/2011/TV-MA",
          "Movie/2012/TV-MA",
          "TV Show/2012/TV-MA",
          "Movie/2013/TV-MA",
          "TV Show/2013/TV-MA",
          "Movie/2014/TV-MA",
          "TV Show/2014/TV-MA",
          "Movie/2015/TV-MA",
          "TV Show/2015/TV-MA",
          "Movie/2016/TV-MA",
          "TV Show/2016/TV-MA",
          "Movie/2017/TV-MA",
          "TV Show/2017/TV-MA",
          "Movie/2018/TV-MA",
          "TV Show/2018/TV-MA",
          "Movie/2019/TV-MA",
          "TV Show/2019/TV-MA",
          "Movie/2020/TV-MA",
          "TV Show/2020/TV-MA",
          "Movie/2021/TV-MA",
          "TV Show/2021/TV-MA",
          "Movie/1943/TV-PG",
          "Movie/1944/TV-PG",
          "Movie/1946/TV-PG",
          "Movie/1947/TV-PG",
          "Movie/1955/TV-PG",
          "Movie/1960/TV-PG",
          "Movie/1962/TV-PG",
          "Movie/1966/TV-PG",
          "Movie/1969/TV-PG",
          "Movie/1970/TV-PG",
          "Movie/1972/TV-PG",
          "Movie/1974/TV-PG",
          "Movie/1975/TV-PG",
          "Movie/1976/TV-PG",
          "Movie/1977/TV-PG",
          "TV Show/1977/TV-PG",
          "Movie/1978/TV-PG",
          "Movie/1979/TV-PG",
          "TV Show/1979/TV-PG",
          "Movie/1980/TV-PG",
          "Movie/1981/TV-PG",
          "Movie/1982/TV-PG",
          "Movie/1987/TV-PG",
          "Movie/1988/TV-PG",
          "TV Show/1988/TV-PG",
          "Movie/1989/TV-PG",
          "TV Show/1990/TV-PG",
          "Movie/1991/TV-PG",
          "TV Show/1992/TV-PG",
          "Movie/1993/TV-PG",
          "TV Show/1993/TV-PG",
          "Movie/1994/TV-PG",
          "TV Show/1994/TV-PG",
          "Movie/1995/TV-PG",
          "Movie/1996/TV-PG",
          "TV Show/1996/TV-PG",
          "Movie/1997/TV-PG",
          "Movie/1998/TV-PG",
          "TV Show/1998/TV-PG",
          "Movie/1999/TV-PG",
          "Movie/2000/TV-PG",
          "TV Show/2000/TV-PG",
          "Movie/2001/TV-PG",
          "Movie/2002/TV-PG",
          "TV Show/2002/TV-PG",
          "Movie/2003/TV-PG",
          "TV Show/2003/TV-PG",
          "Movie/2004/TV-PG",
          "TV Show/2004/TV-PG",
          "Movie/2005/TV-PG",
          "TV Show/2005/TV-PG",
          "Movie/2006/TV-PG",
          "TV Show/2006/TV-PG",
          "Movie/2007/TV-PG",
          "TV Show/2007/TV-PG",
          "Movie/2008/TV-PG",
          "TV Show/2008/TV-PG",
          "Movie/2009/TV-PG",
          "TV Show/2009/TV-PG",
          "Movie/2010/TV-PG",
          "TV Show/2010/TV-PG",
          "Movie/2011/TV-PG",
          "TV Show/2011/TV-PG",
          "Movie/2012/TV-PG",
          "TV Show/2012/TV-PG",
          "Movie/2013/TV-PG",
          "TV Show/2013/TV-PG",
          "Movie/2014/TV-PG",
          "TV Show/2014/TV-PG",
          "Movie/2015/TV-PG",
          "TV Show/2015/TV-PG",
          "Movie/2016/TV-PG",
          "TV Show/2016/TV-PG",
          "Movie/2017/TV-PG",
          "TV Show/2017/TV-PG",
          "Movie/2018/TV-PG",
          "TV Show/2018/TV-PG",
          "Movie/2019/TV-PG",
          "TV Show/2019/TV-PG",
          "Movie/2020/TV-PG",
          "TV Show/2020/TV-PG",
          "Movie/2021/TV-PG",
          "TV Show/2021/TV-PG",
          "TV Show/1992/TV-Y",
          "TV Show/1997/TV-Y",
          "Movie/2003/TV-Y",
          "TV Show/2004/TV-Y",
          "Movie/2007/TV-Y",
          "TV Show/2007/TV-Y",
          "Movie/2008/TV-Y",
          "TV Show/2008/TV-Y",
          "Movie/2010/TV-Y",
          "TV Show/2010/TV-Y",
          "Movie/2011/TV-Y",
          "TV Show/2011/TV-Y",
          "Movie/2012/TV-Y",
          "TV Show/2012/TV-Y",
          "Movie/2013/TV-Y",
          "Movie/2014/TV-Y",
          "TV Show/2014/TV-Y",
          "Movie/2015/TV-Y",
          "TV Show/2015/TV-Y",
          "Movie/2016/TV-Y",
          "TV Show/2016/TV-Y",
          "Movie/2017/TV-Y",
          "TV Show/2017/TV-Y",
          "Movie/2018/TV-Y",
          "TV Show/2018/TV-Y",
          "Movie/2019/TV-Y",
          "TV Show/2019/TV-Y",
          "Movie/2020/TV-Y",
          "TV Show/2020/TV-Y",
          "Movie/2021/TV-Y",
          "TV Show/2021/TV-Y",
          "TV Show/1981/TV-Y7",
          "TV Show/1989/TV-Y7",
          "TV Show/1993/TV-Y7",
          "TV Show/1996/TV-Y7",
          "TV Show/1997/TV-Y7",
          "TV Show/1998/TV-Y7",
          "TV Show/1999/TV-Y7",
          "TV Show/2000/TV-Y7",
          "Movie/2001/TV-Y7",
          "TV Show/2001/TV-Y7",
          "TV Show/2002/TV-Y7",
          "TV Show/2003/TV-Y7",
          "TV Show/2004/TV-Y7",
          "TV Show/2005/TV-Y7",
          "Movie/2006/TV-Y7",
          "TV Show/2006/TV-Y7",
          "TV Show/2007/TV-Y7",
          "Movie/2008/TV-Y7",
          "TV Show/2008/TV-Y7",
          "Movie/2009/TV-Y7",
          "TV Show/2009/TV-Y7",
          "Movie/2010/TV-Y7",
          "TV Show/2010/TV-Y7",
          "Movie/2011/TV-Y7",
          "TV Show/2011/TV-Y7",
          "Movie/2012/TV-Y7",
          "TV Show/2012/TV-Y7",
          "Movie/2013/TV-Y7",
          "TV Show/2013/TV-Y7",
          "Movie/2014/TV-Y7",
          "TV Show/2014/TV-Y7",
          "Movie/2015/TV-Y7",
          "TV Show/2015/TV-Y7",
          "Movie/2016/TV-Y7",
          "TV Show/2016/TV-Y7",
          "Movie/2017/TV-Y7",
          "TV Show/2017/TV-Y7",
          "Movie/2018/TV-Y7",
          "TV Show/2018/TV-Y7",
          "Movie/2019/TV-Y7",
          "TV Show/2019/TV-Y7",
          "Movie/2020/TV-Y7",
          "TV Show/2020/TV-Y7",
          "Movie/2021/TV-Y7",
          "TV Show/2021/TV-Y7",
          "Movie/2012/TV-Y7-FV",
          "Movie/2013/TV-Y7-FV",
          "TV Show/2014/TV-Y7-FV",
          "Movie/2016/TV-Y7-FV",
          "Movie/2018/TV-Y7-FV",
          "Movie/1974/UR",
          "Movie/2008/UR",
          "Movie/2016/UR",
          "TV Show/1925",
          "Movie/1942",
          "Movie/1943",
          "Movie/1944",
          "Movie/1945",
          "TV Show/1945",
          "Movie/1946",
          "TV Show/1946",
          "Movie/1947",
          "Movie/1954",
          "Movie/1955",
          "Movie/1956",
          "Movie/1958",
          "Movie/1959",
          "Movie/1960",
          "Movie/1961",
          "Movie/1962",
          "Movie/1963",
          "TV Show/1963",
          "Movie/1964",
          "Movie/1965",
          "Movie/1966",
          "Movie/1967",
          "TV Show/1967",
          "Movie/1968",
          "Movie/1969",
          "Movie/1970",
          "Movie/1971",
          "Movie/1972",
          "TV Show/1972",
          "Movie/1973",
          "Movie/1974",
          "TV Show/1974",
          "Movie/1975",
          "Movie/1976",
          "Movie/1977",
          "TV Show/1977",
          "Movie/1978",
          "Movie/1979",
          "TV Show/1979",
          "Movie/1980",
          "Movie/1981",
          "TV Show/1981",
          "Movie/1982",
          "Movie/1983",
          "Movie/1984",
          "Movie/1985",
          "TV Show/1985",
          "Movie/1986",
          "TV Show/1986",
          "Movie/1987",
          "Movie/1988",
          "TV Show/1988",
          "Movie/1989",
          "TV Show/1989",
          "Movie/1990",
          "TV Show/1990",
          "Movie/1991",
          "TV Show/1991",
          "Movie/1992",
          "TV Show/1992",
          "Movie/1993",
          "TV Show/1993",
          "Movie/1994",
          "TV Show/1994",
          "Movie/1995",
          "TV Show/1995",
          "Movie/1996",
          "TV Show/1996",
          "Movie/1997",
          "TV Show/1997",
          "Movie/1998",
          "TV Show/1998",
          "Movie/1999",
          "TV Show/1999",
          "Movie/2000",
          "TV Show/2000",
          "Movie/2001",
          "TV Show/2001",
          "Movie/2002",
          "TV Show/2002",
          "Movie/2003",
          "TV Show/2003",
          "Movie/2004",
          "TV Show/2004",
          "Movie/2005",
          "TV Show/2005",
          "Movie/2006",
          "TV Show/2006",
          "Movie/2007",
          "TV Show/2007",
          "Movie/2008",
          "TV Show/2008",
          "Movie/2009",
          "TV Show/2009",
          "Movie/2010",
          "TV Show/2010",
          "Movie/2011",
          "TV Show/2011",
          "Movie/2012",
          "TV Show/2012",
          "Movie/2013",
          "TV Show/2013",
          "Movie/2014",
          "TV Show/2014",
          "Movie/2015",
          "TV Show/2015",
          "Movie/2016",
          "TV Show/2016",
          "Movie/2017",
          "TV Show/2017",
          "Movie/2018",
          "TV Show/2018",
          "Movie/2019",
          "TV Show/2019",
          "Movie/2020",
          "TV Show/2020",
          "Movie/2021",
          "TV Show/2021",
          "Movie",
          "TV Show"
         ],
         "labels": [
          "66 min",
          "74 min",
          "84 min",
          "G",
          "G",
          "G",
          "G",
          "G",
          "G",
          "G",
          "G",
          "G",
          "G",
          "G",
          "G",
          "G",
          "G",
          "G",
          "G",
          "G",
          "G",
          "G",
          "G",
          "G",
          "G",
          "G",
          "G",
          "G",
          "G",
          "G",
          "NC-17",
          "NC-17",
          "NC-17",
          "NR",
          "NR",
          "NR",
          "NR",
          "NR",
          "NR",
          "NR",
          "NR",
          "NR",
          "NR",
          "NR",
          "NR",
          "NR",
          "NR",
          "NR",
          "NR",
          "NR",
          "NR",
          "NR",
          "NR",
          "NR",
          "PG",
          "PG",
          "PG",
          "PG",
          "PG",
          "PG",
          "PG",
          "PG",
          "PG",
          "PG",
          "PG",
          "PG",
          "PG",
          "PG",
          "PG",
          "PG",
          "PG",
          "PG",
          "PG",
          "PG",
          "PG",
          "PG",
          "PG",
          "PG",
          "PG",
          "PG",
          "PG",
          "PG",
          "PG",
          "PG",
          "PG",
          "PG",
          "PG",
          "PG",
          "PG",
          "PG",
          "PG",
          "PG",
          "PG",
          "PG",
          "PG",
          "PG",
          "PG",
          "PG",
          "PG",
          "PG",
          "PG-13",
          "PG-13",
          "PG-13",
          "PG-13",
          "PG-13",
          "PG-13",
          "PG-13",
          "PG-13",
          "PG-13",
          "PG-13",
          "PG-13",
          "PG-13",
          "PG-13",
          "PG-13",
          "PG-13",
          "PG-13",
          "PG-13",
          "PG-13",
          "PG-13",
          "PG-13",
          "PG-13",
          "PG-13",
          "PG-13",
          "PG-13",
          "PG-13",
          "PG-13",
          "PG-13",
          "PG-13",
          "PG-13",
          "PG-13",
          "PG-13",
          "PG-13",
          "PG-13",
          "PG-13",
          "PG-13",
          "PG-13",
          "PG-13",
          "PG-13",
          "PG-13",
          "PG-13",
          "PG-13",
          "R",
          "R",
          "R",
          "R",
          "R",
          "R",
          "R",
          "R",
          "R",
          "R",
          "R",
          "R",
          "R",
          "R",
          "R",
          "R",
          "R",
          "R",
          "R",
          "R",
          "R",
          "R",
          "R",
          "R",
          "R",
          "R",
          "R",
          "R",
          "R",
          "R",
          "R",
          "R",
          "R",
          "R",
          "R",
          "R",
          "R",
          "R",
          "R",
          "R",
          "R",
          "R",
          "R",
          "R",
          "R",
          "R",
          "R",
          "R",
          "R",
          "R",
          "R",
          "R",
          "TV-14",
          "TV-14",
          "TV-14",
          "TV-14",
          "TV-14",
          "TV-14",
          "TV-14",
          "TV-14",
          "TV-14",
          "TV-14",
          "TV-14",
          "TV-14",
          "TV-14",
          "TV-14",
          "TV-14",
          "TV-14",
          "TV-14",
          "TV-14",
          "TV-14",
          "TV-14",
          "TV-14",
          "TV-14",
          "TV-14",
          "TV-14",
          "TV-14",
          "TV-14",
          "TV-14",
          "TV-14",
          "TV-14",
          "TV-14",
          "TV-14",
          "TV-14",
          "TV-14",
          "TV-14",
          "TV-14",
          "TV-14",
          "TV-14",
          "TV-14",
          "TV-14",
          "TV-14",
          "TV-14",
          "TV-14",
          "TV-14",
          "TV-14",
          "TV-14",
          "TV-14",
          "TV-14",
          "TV-14",
          "TV-14",
          "TV-14",
          "TV-14",
          "TV-14",
          "TV-14",
          "TV-14",
          "TV-14",
          "TV-14",
          "TV-14",
          "TV-14",
          "TV-14",
          "TV-14",
          "TV-14",
          "TV-14",
          "TV-14",
          "TV-14",
          "TV-14",
          "TV-14",
          "TV-14",
          "TV-14",
          "TV-14",
          "TV-14",
          "TV-14",
          "TV-14",
          "TV-14",
          "TV-14",
          "TV-14",
          "TV-14",
          "TV-14",
          "TV-14",
          "TV-14",
          "TV-14",
          "TV-14",
          "TV-14",
          "TV-14",
          "TV-14",
          "TV-14",
          "TV-14",
          "TV-14",
          "TV-14",
          "TV-14",
          "TV-14",
          "TV-14",
          "TV-14",
          "TV-G",
          "TV-G",
          "TV-G",
          "TV-G",
          "TV-G",
          "TV-G",
          "TV-G",
          "TV-G",
          "TV-G",
          "TV-G",
          "TV-G",
          "TV-G",
          "TV-G",
          "TV-G",
          "TV-G",
          "TV-G",
          "TV-G",
          "TV-G",
          "TV-G",
          "TV-G",
          "TV-G",
          "TV-G",
          "TV-G",
          "TV-G",
          "TV-G",
          "TV-G",
          "TV-G",
          "TV-G",
          "TV-G",
          "TV-G",
          "TV-G",
          "TV-G",
          "TV-G",
          "TV-G",
          "TV-G",
          "TV-G",
          "TV-G",
          "TV-MA",
          "TV-MA",
          "TV-MA",
          "TV-MA",
          "TV-MA",
          "TV-MA",
          "TV-MA",
          "TV-MA",
          "TV-MA",
          "TV-MA",
          "TV-MA",
          "TV-MA",
          "TV-MA",
          "TV-MA",
          "TV-MA",
          "TV-MA",
          "TV-MA",
          "TV-MA",
          "TV-MA",
          "TV-MA",
          "TV-MA",
          "TV-MA",
          "TV-MA",
          "TV-MA",
          "TV-MA",
          "TV-MA",
          "TV-MA",
          "TV-MA",
          "TV-MA",
          "TV-MA",
          "TV-MA",
          "TV-MA",
          "TV-MA",
          "TV-MA",
          "TV-MA",
          "TV-MA",
          "TV-MA",
          "TV-MA",
          "TV-MA",
          "TV-MA",
          "TV-MA",
          "TV-MA",
          "TV-MA",
          "TV-MA",
          "TV-MA",
          "TV-MA",
          "TV-MA",
          "TV-MA",
          "TV-MA",
          "TV-MA",
          "TV-MA",
          "TV-MA",
          "TV-MA",
          "TV-MA",
          "TV-MA",
          "TV-MA",
          "TV-MA",
          "TV-MA",
          "TV-MA",
          "TV-MA",
          "TV-MA",
          "TV-MA",
          "TV-MA",
          "TV-MA",
          "TV-MA",
          "TV-MA",
          "TV-MA",
          "TV-MA",
          "TV-MA",
          "TV-MA",
          "TV-MA",
          "TV-MA",
          "TV-MA",
          "TV-MA",
          "TV-MA",
          "TV-PG",
          "TV-PG",
          "TV-PG",
          "TV-PG",
          "TV-PG",
          "TV-PG",
          "TV-PG",
          "TV-PG",
          "TV-PG",
          "TV-PG",
          "TV-PG",
          "TV-PG",
          "TV-PG",
          "TV-PG",
          "TV-PG",
          "TV-PG",
          "TV-PG",
          "TV-PG",
          "TV-PG",
          "TV-PG",
          "TV-PG",
          "TV-PG",
          "TV-PG",
          "TV-PG",
          "TV-PG",
          "TV-PG",
          "TV-PG",
          "TV-PG",
          "TV-PG",
          "TV-PG",
          "TV-PG",
          "TV-PG",
          "TV-PG",
          "TV-PG",
          "TV-PG",
          "TV-PG",
          "TV-PG",
          "TV-PG",
          "TV-PG",
          "TV-PG",
          "TV-PG",
          "TV-PG",
          "TV-PG",
          "TV-PG",
          "TV-PG",
          "TV-PG",
          "TV-PG",
          "TV-PG",
          "TV-PG",
          "TV-PG",
          "TV-PG",
          "TV-PG",
          "TV-PG",
          "TV-PG",
          "TV-PG",
          "TV-PG",
          "TV-PG",
          "TV-PG",
          "TV-PG",
          "TV-PG",
          "TV-PG",
          "TV-PG",
          "TV-PG",
          "TV-PG",
          "TV-PG",
          "TV-PG",
          "TV-PG",
          "TV-PG",
          "TV-PG",
          "TV-PG",
          "TV-PG",
          "TV-PG",
          "TV-PG",
          "TV-PG",
          "TV-PG",
          "TV-PG",
          "TV-PG",
          "TV-PG",
          "TV-PG",
          "TV-PG",
          "TV-PG",
          "TV-PG",
          "TV-PG",
          "TV-Y",
          "TV-Y",
          "TV-Y",
          "TV-Y",
          "TV-Y",
          "TV-Y",
          "TV-Y",
          "TV-Y",
          "TV-Y",
          "TV-Y",
          "TV-Y",
          "TV-Y",
          "TV-Y",
          "TV-Y",
          "TV-Y",
          "TV-Y",
          "TV-Y",
          "TV-Y",
          "TV-Y",
          "TV-Y",
          "TV-Y",
          "TV-Y",
          "TV-Y",
          "TV-Y",
          "TV-Y",
          "TV-Y",
          "TV-Y",
          "TV-Y",
          "TV-Y",
          "TV-Y",
          "TV-Y",
          "TV-Y7",
          "TV-Y7",
          "TV-Y7",
          "TV-Y7",
          "TV-Y7",
          "TV-Y7",
          "TV-Y7",
          "TV-Y7",
          "TV-Y7",
          "TV-Y7",
          "TV-Y7",
          "TV-Y7",
          "TV-Y7",
          "TV-Y7",
          "TV-Y7",
          "TV-Y7",
          "TV-Y7",
          "TV-Y7",
          "TV-Y7",
          "TV-Y7",
          "TV-Y7",
          "TV-Y7",
          "TV-Y7",
          "TV-Y7",
          "TV-Y7",
          "TV-Y7",
          "TV-Y7",
          "TV-Y7",
          "TV-Y7",
          "TV-Y7",
          "TV-Y7",
          "TV-Y7",
          "TV-Y7",
          "TV-Y7",
          "TV-Y7",
          "TV-Y7",
          "TV-Y7",
          "TV-Y7",
          "TV-Y7",
          "TV-Y7",
          "TV-Y7",
          "TV-Y7",
          "TV-Y7",
          "TV-Y7",
          "TV-Y7",
          "TV-Y7-FV",
          "TV-Y7-FV",
          "TV-Y7-FV",
          "TV-Y7-FV",
          "TV-Y7-FV",
          "UR",
          "UR",
          "UR",
          "1925",
          "1942",
          "1943",
          "1944",
          "1945",
          "1945",
          "1946",
          "1946",
          "1947",
          "1954",
          "1955",
          "1956",
          "1958",
          "1959",
          "1960",
          "1961",
          "1962",
          "1963",
          "1963",
          "1964",
          "1965",
          "1966",
          "1967",
          "1967",
          "1968",
          "1969",
          "1970",
          "1971",
          "1972",
          "1972",
          "1973",
          "1974",
          "1974",
          "1975",
          "1976",
          "1977",
          "1977",
          "1978",
          "1979",
          "1979",
          "1980",
          "1981",
          "1981",
          "1982",
          "1983",
          "1984",
          "1985",
          "1985",
          "1986",
          "1986",
          "1987",
          "1988",
          "1988",
          "1989",
          "1989",
          "1990",
          "1990",
          "1991",
          "1991",
          "1992",
          "1992",
          "1993",
          "1993",
          "1994",
          "1994",
          "1995",
          "1995",
          "1996",
          "1996",
          "1997",
          "1997",
          "1998",
          "1998",
          "1999",
          "1999",
          "2000",
          "2000",
          "2001",
          "2001",
          "2002",
          "2002",
          "2003",
          "2003",
          "2004",
          "2004",
          "2005",
          "2005",
          "2006",
          "2006",
          "2007",
          "2007",
          "2008",
          "2008",
          "2009",
          "2009",
          "2010",
          "2010",
          "2011",
          "2011",
          "2012",
          "2012",
          "2013",
          "2013",
          "2014",
          "2014",
          "2015",
          "2015",
          "2016",
          "2016",
          "2017",
          "2017",
          "2018",
          "2018",
          "2019",
          "2019",
          "2020",
          "2020",
          "2021",
          "2021",
          "Movie",
          "TV Show"
         ],
         "marker": {
          "coloraxis": "coloraxis",
          "colors": [
           1,
           1,
           1,
           1,
           1,
           1,
           1,
           1,
           2,
           1,
           1,
           1,
           1,
           1,
           1,
           1,
           2,
           2,
           2,
           3,
           2,
           1,
           4,
           1,
           2,
           3,
           1,
           2,
           1,
           1,
           1,
           1,
           1,
           1,
           1,
           1,
           1,
           1,
           2,
           1,
           1,
           1,
           2,
           4,
           2,
           5,
           6,
           3,
           7,
           17,
           1,
           20,
           2,
           1,
           1,
           1,
           2,
           4,
           2,
           2,
           1,
           1,
           2,
           2,
           1,
           4,
           1,
           2,
           3,
           1,
           1,
           3,
           4,
           3,
           2,
           1,
           1,
           2,
           4,
           5,
           4,
           5,
           8,
           5,
           8,
           10,
           10,
           10,
           8,
           18,
           7,
           14,
           15,
           11,
           14,
           15,
           31,
           12,
           15,
           11,
           1,
           1,
           1,
           1,
           1,
           2,
           2,
           3,
           2,
           4,
           2,
           1,
           4,
           4,
           10,
           6,
           9,
           7,
           8,
           10,
           8,
           14,
           10,
           7,
           16,
           15,
           15,
           24,
           25,
           26,
           23,
           19,
           15,
           19,
           25,
           34,
           32,
           30,
           19,
           21,
           14,
           1,
           2,
           1,
           1,
           1,
           3,
           2,
           1,
           1,
           2,
           5,
           2,
           3,
           1,
           2,
           2,
           5,
           1,
           4,
           2,
           11,
           6,
           4,
           4,
           9,
           16,
           9,
           10,
           8,
           14,
           12,
           16,
           7,
           10,
           12,
           14,
           19,
           25,
           26,
           20,
           29,
           41,
           49,
           66,
           1,
           85,
           1,
           73,
           52,
           39,
           48,
           21,
           1,
           2,
           2,
           2,
           1,
           1,
           1,
           1,
           1,
           1,
           2,
           1,
           1,
           1,
           1,
           1,
           2,
           1,
           3,
           1,
           1,
           2,
           1,
           1,
           3,
           4,
           5,
           8,
           6,
           5,
           5,
           3,
           2,
           1,
           3,
           4,
           7,
           2,
           2,
           2,
           6,
           7,
           4,
           4,
           4,
           7,
           1,
           2,
           4,
           5,
           6,
           3,
           8,
           3,
           10,
           6,
           12,
           3,
           21,
           5,
           24,
           7,
           14,
           4,
           29,
           9,
           33,
           15,
           35,
           15,
           37,
           18,
           46,
           27,
           53,
           22,
           65,
           34,
           87,
           57,
           140,
           78,
           182,
           69,
           176,
           92,
           160,
           92,
           91,
           83,
           73,
           78,
           1,
           1,
           1,
           1,
           1,
           1,
           1,
           2,
           1,
           2,
           1,
           1,
           3,
           1,
           3,
           1,
           1,
           2,
           1,
           5,
           8,
           3,
           4,
           6,
           5,
           13,
           9,
           20,
           6,
           18,
           8,
           15,
           8,
           26,
           19,
           9,
           12,
           1,
           1,
           1,
           1,
           1,
           1,
           1,
           1,
           2,
           1,
           1,
           2,
           2,
           1,
           2,
           4,
           1,
           2,
           1,
           1,
           1,
           1,
           2,
           3,
           5,
           3,
           3,
           1,
           1,
           1,
           3,
           7,
           4,
           1,
           1,
           2,
           5,
           2,
           8,
           8,
           2,
           4,
           4,
           13,
           4,
           12,
           5,
           20,
           5,
           8,
           10,
           33,
           9,
           20,
           7,
           41,
           13,
           48,
           16,
           62,
           17,
           135,
           49,
           273,
           68,
           337,
           114,
           358,
           191,
           286,
           214,
           220,
           249,
           110,
           160,
           3,
           1,
           1,
           1,
           1,
           2,
           2,
           1,
           1,
           1,
           1,
           1,
           1,
           2,
           1,
           1,
           1,
           1,
           1,
           1,
           1,
           2,
           1,
           4,
           2,
           2,
           1,
           1,
           2,
           1,
           1,
           1,
           1,
           2,
           1,
           1,
           1,
           1,
           1,
           2,
           3,
           2,
           2,
           1,
           1,
           1,
           2,
           9,
           1,
           9,
           1,
           8,
           2,
           5,
           1,
           6,
           3,
           10,
           6,
           10,
           10,
           11,
           7,
           10,
           13,
           20,
           9,
           26,
           21,
           35,
           28,
           52,
           45,
           80,
           31,
           71,
           34,
           62,
           36,
           46,
           34,
           20,
           25,
           1,
           1,
           1,
           1,
           1,
           1,
           1,
           1,
           2,
           4,
           4,
           4,
           2,
           6,
           5,
           6,
           8,
           10,
           10,
           8,
           23,
           13,
           18,
           13,
           28,
           25,
           25,
           34,
           25,
           6,
           20,
           1,
           1,
           1,
           2,
           1,
           1,
           2,
           2,
           1,
           1,
           1,
           2,
           1,
           3,
           1,
           1,
           3,
           2,
           2,
           3,
           2,
           6,
           2,
           8,
           3,
           11,
           4,
           16,
           4,
           9,
           3,
           4,
           10,
           13,
           20,
           10,
           27,
           13,
           27,
           14,
           22,
           15,
           26,
           13,
           20,
           1,
           1,
           1,
           2,
           1,
           1,
           1,
           1,
           1,
           2,
           3,
           1.6666666666666667,
           1.6666666666666667,
           1,
           1,
           1,
           1,
           1,
           1,
           1,
           1,
           1,
           2,
           1,
           1.6666666666666667,
           1,
           1,
           1,
           1,
           1,
           1.5,
           1,
           1,
           1,
           1,
           1.8,
           1,
           1,
           2.2,
           1.3333333333333333,
           1,
           1.8571428571428572,
           2.5555555555555554,
           1.3333333333333333,
           1,
           1.5714285714285714,
           2,
           1,
           3.909090909090909,
           3,
           1,
           5,
           4.818181818181818,
           3.6666666666666665,
           3.4444444444444446,
           1,
           2.090909090909091,
           2,
           1.5,
           3.75,
           2,
           2.6,
           1,
           4.7894736842105265,
           1.6666666666666667,
           2.75,
           1,
           7.2,
           1.6666666666666667,
           4.75,
           1,
           4.6,
           1,
           6.130434782608695,
           1,
           6.428571428571429,
           1.6666666666666667,
           10.705882352941176,
           1.5,
           7.1875,
           1,
           6.25,
           3,
           6.636363636363637,
           2,
           8.35,
           2.2,
           10.136363636363637,
           2.142857142857143,
           10.72549019607843,
           4.4,
           8.381818181818181,
           1.8888888888888888,
           13.776119402985074,
           3.923076923076923,
           15.170731707317072,
           5,
           12.054054054054054,
           3.7142857142857144,
           20.539823008849556,
           5.608695652173913,
           22.271186440677965,
           10.764705882352942,
           25.2987012987013,
           10.65,
           22.26896551724138,
           11.2,
           30.653179190751445,
           17.5,
           35.373333333333335,
           14.67741935483871,
           45.121212121212125,
           22.454545454545453,
           82.02267002518892,
           41.37267080745342,
           161.43768996960486,
           56.32786885245902,
           209.3289817232376,
           74.7433962264151,
           220.8800521512386,
           125.46842105263158,
           180.58925750394945,
           142.8942065491184,
           123.45261121856866,
           164.4678899082569,
           68.13357400722022,
           105.56507936507937,
           115.84973078805677,
           95.47419596110696
          ]
         },
         "name": "",
         "parents": [
          "Movie/2015",
          "Movie/2017",
          "Movie/2010",
          "Movie/1956",
          "Movie/1958",
          "Movie/1964",
          "Movie/1968",
          "Movie/1969",
          "Movie/1971",
          "Movie/1973",
          "Movie/1977",
          "Movie/1986",
          "Movie/1989",
          "Movie/1991",
          "Movie/1995",
          "Movie/1998",
          "Movie/1999",
          "Movie/2000",
          "Movie/2001",
          "Movie/2004",
          "Movie/2005",
          "Movie/2007",
          "Movie/2009",
          "Movie/2011",
          "Movie/2014",
          "Movie/2016",
          "Movie/2017",
          "Movie/2018",
          "Movie/2019",
          "Movie/2020",
          "Movie/2013",
          "Movie/2014",
          "Movie/2018",
          "Movie/1958",
          "Movie/1973",
          "Movie/1981",
          "Movie/1985",
          "Movie/1987",
          "Movie/1991",
          "Movie/2004",
          "TV Show/2004",
          "Movie/2006",
          "Movie/2007",
          "Movie/2010",
          "Movie/2011",
          "Movie/2012",
          "Movie/2013",
          "TV Show/2013",
          "Movie/2014",
          "Movie/2015",
          "TV Show/2015",
          "Movie/2016",
          "Movie/2017",
          "Movie/2018",
          "Movie/1973",
          "Movie/1974",
          "Movie/1975",
          "Movie/1976",
          "Movie/1977",
          "Movie/1978",
          "Movie/1979",
          "Movie/1980",
          "Movie/1981",
          "Movie/1982",
          "Movie/1983",
          "Movie/1984",
          "Movie/1985",
          "Movie/1986",
          "Movie/1989",
          "Movie/1990",
          "Movie/1991",
          "Movie/1992",
          "Movie/1993",
          "Movie/1994",
          "Movie/1995",
          "Movie/1996",
          "Movie/1997",
          "Movie/1999",
          "Movie/2000",
          "Movie/2001",
          "Movie/2002",
          "Movie/2003",
          "Movie/2004",
          "Movie/2005",
          "Movie/2006",
          "Movie/2007",
          "Movie/2008",
          "Movie/2009",
          "Movie/2010",
          "Movie/2011",
          "Movie/2012",
          "Movie/2013",
          "Movie/2014",
          "Movie/2015",
          "Movie/2016",
          "Movie/2017",
          "Movie/2018",
          "Movie/2019",
          "Movie/2020",
          "Movie/2021",
          "Movie/1955",
          "Movie/1965",
          "Movie/1968",
          "Movie/1979",
          "Movie/1984",
          "Movie/1986",
          "Movie/1987",
          "Movie/1988",
          "Movie/1989",
          "Movie/1990",
          "Movie/1991",
          "Movie/1992",
          "Movie/1993",
          "Movie/1994",
          "Movie/1995",
          "Movie/1996",
          "Movie/1997",
          "Movie/1998",
          "Movie/1999",
          "Movie/2000",
          "Movie/2001",
          "Movie/2002",
          "Movie/2003",
          "Movie/2004",
          "Movie/2005",
          "Movie/2006",
          "Movie/2007",
          "Movie/2008",
          "Movie/2009",
          "Movie/2010",
          "Movie/2011",
          "Movie/2012",
          "Movie/2013",
          "Movie/2014",
          "Movie/2015",
          "Movie/2016",
          "Movie/2017",
          "Movie/2018",
          "Movie/2019",
          "Movie/2020",
          "Movie/2021",
          "Movie/1962",
          "Movie/1967",
          "Movie/1968",
          "Movie/1971",
          "Movie/1972",
          "Movie/1973",
          "Movie/1974",
          "Movie/1976",
          "Movie/1978",
          "Movie/1979",
          "Movie/1980",
          "Movie/1981",
          "Movie/1982",
          "Movie/1984",
          "Movie/1986",
          "Movie/1987",
          "Movie/1988",
          "Movie/1989",
          "Movie/1990",
          "Movie/1991",
          "Movie/1992",
          "Movie/1993",
          "Movie/1994",
          "Movie/1995",
          "Movie/1996",
          "Movie/1997",
          "Movie/1998",
          "Movie/1999",
          "Movie/2000",
          "Movie/2001",
          "Movie/2002",
          "Movie/2003",
          "Movie/2004",
          "Movie/2005",
          "Movie/2006",
          "Movie/2007",
          "Movie/2008",
          "Movie/2009",
          "Movie/2010",
          "Movie/2011",
          "Movie/2012",
          "Movie/2013",
          "Movie/2014",
          "Movie/2015",
          "TV Show/2015",
          "Movie/2016",
          "TV Show/2016",
          "Movie/2017",
          "Movie/2018",
          "Movie/2019",
          "Movie/2020",
          "Movie/2021",
          "TV Show/1925",
          "Movie/1942",
          "Movie/1944",
          "Movie/1945",
          "TV Show/1946",
          "Movie/1954",
          "Movie/1955",
          "Movie/1956",
          "Movie/1958",
          "Movie/1959",
          "Movie/1960",
          "Movie/1961",
          "TV Show/1963",
          "Movie/1964",
          "Movie/1965",
          "Movie/1967",
          "Movie/1971",
          "Movie/1972",
          "Movie/1973",
          "Movie/1974",
          "TV Show/1974",
          "Movie/1975",
          "Movie/1976",
          "Movie/1977",
          "Movie/1979",
          "Movie/1980",
          "Movie/1981",
          "Movie/1982",
          "Movie/1983",
          "Movie/1984",
          "Movie/1985",
          "Movie/1986",
          "TV Show/1986",
          "Movie/1987",
          "Movie/1988",
          "Movie/1989",
          "Movie/1990",
          "TV Show/1990",
          "Movie/1991",
          "Movie/1992",
          "Movie/1993",
          "Movie/1994",
          "Movie/1995",
          "Movie/1996",
          "Movie/1997",
          "Movie/1998",
          "TV Show/1998",
          "Movie/1999",
          "TV Show/1999",
          "Movie/2000",
          "Movie/2001",
          "TV Show/2001",
          "Movie/2002",
          "TV Show/2002",
          "Movie/2003",
          "TV Show/2003",
          "Movie/2004",
          "TV Show/2004",
          "Movie/2005",
          "TV Show/2005",
          "Movie/2006",
          "TV Show/2006",
          "Movie/2007",
          "TV Show/2007",
          "Movie/2008",
          "TV Show/2008",
          "Movie/2009",
          "TV Show/2009",
          "Movie/2010",
          "TV Show/2010",
          "Movie/2011",
          "TV Show/2011",
          "Movie/2012",
          "TV Show/2012",
          "Movie/2013",
          "TV Show/2013",
          "Movie/2014",
          "TV Show/2014",
          "Movie/2015",
          "TV Show/2015",
          "Movie/2016",
          "TV Show/2016",
          "Movie/2017",
          "TV Show/2017",
          "Movie/2018",
          "TV Show/2018",
          "Movie/2019",
          "TV Show/2019",
          "Movie/2020",
          "TV Show/2020",
          "Movie/2021",
          "TV Show/2021",
          "Movie/1954",
          "TV Show/1967",
          "Movie/1978",
          "TV Show/1991",
          "TV Show/1993",
          "TV Show/1994",
          "TV Show/1995",
          "TV Show/1997",
          "TV Show/1998",
          "Movie/1999",
          "TV Show/2001",
          "Movie/2008",
          "TV Show/2008",
          "TV Show/2009",
          "Movie/2010",
          "Movie/2011",
          "TV Show/2011",
          "Movie/2012",
          "TV Show/2012",
          "Movie/2013",
          "TV Show/2013",
          "Movie/2014",
          "TV Show/2014",
          "Movie/2015",
          "TV Show/2015",
          "Movie/2016",
          "TV Show/2016",
          "Movie/2017",
          "TV Show/2017",
          "Movie/2018",
          "TV Show/2018",
          "Movie/2019",
          "TV Show/2019",
          "Movie/2020",
          "TV Show/2020",
          "Movie/2021",
          "TV Show/2021",
          "Movie/1945",
          "TV Show/1945",
          "Movie/1963",
          "Movie/1967",
          "Movie/1970",
          "Movie/1972",
          "TV Show/1972",
          "Movie/1973",
          "Movie/1975",
          "Movie/1976",
          "Movie/1977",
          "Movie/1978",
          "Movie/1979",
          "Movie/1981",
          "Movie/1982",
          "Movie/1983",
          "Movie/1984",
          "Movie/1985",
          "TV Show/1985",
          "Movie/1986",
          "Movie/1987",
          "Movie/1988",
          "Movie/1989",
          "Movie/1990",
          "Movie/1991",
          "Movie/1992",
          "Movie/1993",
          "TV Show/1993",
          "Movie/1994",
          "TV Show/1995",
          "Movie/1997",
          "Movie/1998",
          "Movie/1999",
          "TV Show/1999",
          "Movie/2000",
          "Movie/2001",
          "Movie/2002",
          "TV Show/2002",
          "Movie/2003",
          "Movie/2004",
          "TV Show/2004",
          "Movie/2005",
          "TV Show/2005",
          "Movie/2006",
          "TV Show/2006",
          "Movie/2007",
          "TV Show/2007",
          "Movie/2008",
          "TV Show/2008",
          "Movie/2009",
          "TV Show/2009",
          "Movie/2010",
          "TV Show/2010",
          "Movie/2011",
          "TV Show/2011",
          "Movie/2012",
          "TV Show/2012",
          "Movie/2013",
          "TV Show/2013",
          "Movie/2014",
          "TV Show/2014",
          "Movie/2015",
          "TV Show/2015",
          "Movie/2016",
          "TV Show/2016",
          "Movie/2017",
          "TV Show/2017",
          "Movie/2018",
          "TV Show/2018",
          "Movie/2019",
          "TV Show/2019",
          "Movie/2020",
          "TV Show/2020",
          "Movie/2021",
          "TV Show/2021",
          "Movie/1943",
          "Movie/1944",
          "Movie/1946",
          "Movie/1947",
          "Movie/1955",
          "Movie/1960",
          "Movie/1962",
          "Movie/1966",
          "Movie/1969",
          "Movie/1970",
          "Movie/1972",
          "Movie/1974",
          "Movie/1975",
          "Movie/1976",
          "Movie/1977",
          "TV Show/1977",
          "Movie/1978",
          "Movie/1979",
          "TV Show/1979",
          "Movie/1980",
          "Movie/1981",
          "Movie/1982",
          "Movie/1987",
          "Movie/1988",
          "TV Show/1988",
          "Movie/1989",
          "TV Show/1990",
          "Movie/1991",
          "TV Show/1992",
          "Movie/1993",
          "TV Show/1993",
          "Movie/1994",
          "TV Show/1994",
          "Movie/1995",
          "Movie/1996",
          "TV Show/1996",
          "Movie/1997",
          "Movie/1998",
          "TV Show/1998",
          "Movie/1999",
          "Movie/2000",
          "TV Show/2000",
          "Movie/2001",
          "Movie/2002",
          "TV Show/2002",
          "Movie/2003",
          "TV Show/2003",
          "Movie/2004",
          "TV Show/2004",
          "Movie/2005",
          "TV Show/2005",
          "Movie/2006",
          "TV Show/2006",
          "Movie/2007",
          "TV Show/2007",
          "Movie/2008",
          "TV Show/2008",
          "Movie/2009",
          "TV Show/2009",
          "Movie/2010",
          "TV Show/2010",
          "Movie/2011",
          "TV Show/2011",
          "Movie/2012",
          "TV Show/2012",
          "Movie/2013",
          "TV Show/2013",
          "Movie/2014",
          "TV Show/2014",
          "Movie/2015",
          "TV Show/2015",
          "Movie/2016",
          "TV Show/2016",
          "Movie/2017",
          "TV Show/2017",
          "Movie/2018",
          "TV Show/2018",
          "Movie/2019",
          "TV Show/2019",
          "Movie/2020",
          "TV Show/2020",
          "Movie/2021",
          "TV Show/2021",
          "TV Show/1992",
          "TV Show/1997",
          "Movie/2003",
          "TV Show/2004",
          "Movie/2007",
          "TV Show/2007",
          "Movie/2008",
          "TV Show/2008",
          "Movie/2010",
          "TV Show/2010",
          "Movie/2011",
          "TV Show/2011",
          "Movie/2012",
          "TV Show/2012",
          "Movie/2013",
          "Movie/2014",
          "TV Show/2014",
          "Movie/2015",
          "TV Show/2015",
          "Movie/2016",
          "TV Show/2016",
          "Movie/2017",
          "TV Show/2017",
          "Movie/2018",
          "TV Show/2018",
          "Movie/2019",
          "TV Show/2019",
          "Movie/2020",
          "TV Show/2020",
          "Movie/2021",
          "TV Show/2021",
          "TV Show/1981",
          "TV Show/1989",
          "TV Show/1993",
          "TV Show/1996",
          "TV Show/1997",
          "TV Show/1998",
          "TV Show/1999",
          "TV Show/2000",
          "Movie/2001",
          "TV Show/2001",
          "TV Show/2002",
          "TV Show/2003",
          "TV Show/2004",
          "TV Show/2005",
          "Movie/2006",
          "TV Show/2006",
          "TV Show/2007",
          "Movie/2008",
          "TV Show/2008",
          "Movie/2009",
          "TV Show/2009",
          "Movie/2010",
          "TV Show/2010",
          "Movie/2011",
          "TV Show/2011",
          "Movie/2012",
          "TV Show/2012",
          "Movie/2013",
          "TV Show/2013",
          "Movie/2014",
          "TV Show/2014",
          "Movie/2015",
          "TV Show/2015",
          "Movie/2016",
          "TV Show/2016",
          "Movie/2017",
          "TV Show/2017",
          "Movie/2018",
          "TV Show/2018",
          "Movie/2019",
          "TV Show/2019",
          "Movie/2020",
          "TV Show/2020",
          "Movie/2021",
          "TV Show/2021",
          "Movie/2012",
          "Movie/2013",
          "TV Show/2014",
          "Movie/2016",
          "Movie/2018",
          "Movie/1974",
          "Movie/2008",
          "Movie/2016",
          "TV Show",
          "Movie",
          "Movie",
          "Movie",
          "Movie",
          "TV Show",
          "Movie",
          "TV Show",
          "Movie",
          "Movie",
          "Movie",
          "Movie",
          "Movie",
          "Movie",
          "Movie",
          "Movie",
          "Movie",
          "Movie",
          "TV Show",
          "Movie",
          "Movie",
          "Movie",
          "Movie",
          "TV Show",
          "Movie",
          "Movie",
          "Movie",
          "Movie",
          "Movie",
          "TV Show",
          "Movie",
          "Movie",
          "TV Show",
          "Movie",
          "Movie",
          "Movie",
          "TV Show",
          "Movie",
          "Movie",
          "TV Show",
          "Movie",
          "Movie",
          "TV Show",
          "Movie",
          "Movie",
          "Movie",
          "Movie",
          "TV Show",
          "Movie",
          "TV Show",
          "Movie",
          "Movie",
          "TV Show",
          "Movie",
          "TV Show",
          "Movie",
          "TV Show",
          "Movie",
          "TV Show",
          "Movie",
          "TV Show",
          "Movie",
          "TV Show",
          "Movie",
          "TV Show",
          "Movie",
          "TV Show",
          "Movie",
          "TV Show",
          "Movie",
          "TV Show",
          "Movie",
          "TV Show",
          "Movie",
          "TV Show",
          "Movie",
          "TV Show",
          "Movie",
          "TV Show",
          "Movie",
          "TV Show",
          "Movie",
          "TV Show",
          "Movie",
          "TV Show",
          "Movie",
          "TV Show",
          "Movie",
          "TV Show",
          "Movie",
          "TV Show",
          "Movie",
          "TV Show",
          "Movie",
          "TV Show",
          "Movie",
          "TV Show",
          "Movie",
          "TV Show",
          "Movie",
          "TV Show",
          "Movie",
          "TV Show",
          "Movie",
          "TV Show",
          "Movie",
          "TV Show",
          "Movie",
          "TV Show",
          "Movie",
          "TV Show",
          "Movie",
          "TV Show",
          "Movie",
          "TV Show",
          "Movie",
          "TV Show",
          "Movie",
          "TV Show",
          "",
          ""
         ],
         "type": "sunburst",
         "values": [
          1,
          1,
          1,
          1,
          1,
          1,
          1,
          1,
          2,
          1,
          1,
          1,
          1,
          1,
          1,
          1,
          2,
          2,
          2,
          3,
          2,
          1,
          4,
          1,
          2,
          3,
          1,
          2,
          1,
          1,
          1,
          1,
          1,
          1,
          1,
          1,
          1,
          1,
          2,
          1,
          1,
          1,
          2,
          4,
          2,
          5,
          6,
          3,
          7,
          17,
          1,
          20,
          2,
          1,
          1,
          1,
          2,
          4,
          2,
          2,
          1,
          1,
          2,
          2,
          1,
          4,
          1,
          2,
          3,
          1,
          1,
          3,
          4,
          3,
          2,
          1,
          1,
          2,
          4,
          5,
          4,
          5,
          8,
          5,
          8,
          10,
          10,
          10,
          8,
          18,
          7,
          14,
          15,
          11,
          14,
          15,
          31,
          12,
          15,
          11,
          1,
          1,
          1,
          1,
          1,
          2,
          2,
          3,
          2,
          4,
          2,
          1,
          4,
          4,
          10,
          6,
          9,
          7,
          8,
          10,
          8,
          14,
          10,
          7,
          16,
          15,
          15,
          24,
          25,
          26,
          23,
          19,
          15,
          19,
          25,
          34,
          32,
          30,
          19,
          21,
          14,
          1,
          2,
          1,
          1,
          1,
          3,
          2,
          1,
          1,
          2,
          5,
          2,
          3,
          1,
          2,
          2,
          5,
          1,
          4,
          2,
          11,
          6,
          4,
          4,
          9,
          16,
          9,
          10,
          8,
          14,
          12,
          16,
          7,
          10,
          12,
          14,
          19,
          25,
          26,
          20,
          29,
          41,
          49,
          66,
          1,
          85,
          1,
          73,
          52,
          39,
          48,
          21,
          1,
          2,
          2,
          2,
          1,
          1,
          1,
          1,
          1,
          1,
          2,
          1,
          1,
          1,
          1,
          1,
          2,
          1,
          3,
          1,
          1,
          2,
          1,
          1,
          3,
          4,
          5,
          8,
          6,
          5,
          5,
          3,
          2,
          1,
          3,
          4,
          7,
          2,
          2,
          2,
          6,
          7,
          4,
          4,
          4,
          7,
          1,
          2,
          4,
          5,
          6,
          3,
          8,
          3,
          10,
          6,
          12,
          3,
          21,
          5,
          24,
          7,
          14,
          4,
          29,
          9,
          33,
          15,
          35,
          15,
          37,
          18,
          46,
          27,
          53,
          22,
          65,
          34,
          87,
          57,
          140,
          78,
          182,
          69,
          176,
          92,
          160,
          92,
          91,
          83,
          73,
          78,
          1,
          1,
          1,
          1,
          1,
          1,
          1,
          2,
          1,
          2,
          1,
          1,
          3,
          1,
          3,
          1,
          1,
          2,
          1,
          5,
          8,
          3,
          4,
          6,
          5,
          13,
          9,
          20,
          6,
          18,
          8,
          15,
          8,
          26,
          19,
          9,
          12,
          1,
          1,
          1,
          1,
          1,
          1,
          1,
          1,
          2,
          1,
          1,
          2,
          2,
          1,
          2,
          4,
          1,
          2,
          1,
          1,
          1,
          1,
          2,
          3,
          5,
          3,
          3,
          1,
          1,
          1,
          3,
          7,
          4,
          1,
          1,
          2,
          5,
          2,
          8,
          8,
          2,
          4,
          4,
          13,
          4,
          12,
          5,
          20,
          5,
          8,
          10,
          33,
          9,
          20,
          7,
          41,
          13,
          48,
          16,
          62,
          17,
          135,
          49,
          273,
          68,
          337,
          114,
          358,
          191,
          286,
          214,
          220,
          249,
          110,
          160,
          3,
          1,
          1,
          1,
          1,
          2,
          2,
          1,
          1,
          1,
          1,
          1,
          1,
          2,
          1,
          1,
          1,
          1,
          1,
          1,
          1,
          2,
          1,
          4,
          2,
          2,
          1,
          1,
          2,
          1,
          1,
          1,
          1,
          2,
          1,
          1,
          1,
          1,
          1,
          2,
          3,
          2,
          2,
          1,
          1,
          1,
          2,
          9,
          1,
          9,
          1,
          8,
          2,
          5,
          1,
          6,
          3,
          10,
          6,
          10,
          10,
          11,
          7,
          10,
          13,
          20,
          9,
          26,
          21,
          35,
          28,
          52,
          45,
          80,
          31,
          71,
          34,
          62,
          36,
          46,
          34,
          20,
          25,
          1,
          1,
          1,
          1,
          1,
          1,
          1,
          1,
          2,
          4,
          4,
          4,
          2,
          6,
          5,
          6,
          8,
          10,
          10,
          8,
          23,
          13,
          18,
          13,
          28,
          25,
          25,
          34,
          25,
          6,
          20,
          1,
          1,
          1,
          2,
          1,
          1,
          2,
          2,
          1,
          1,
          1,
          2,
          1,
          3,
          1,
          1,
          3,
          2,
          2,
          3,
          2,
          6,
          2,
          8,
          3,
          11,
          4,
          16,
          4,
          9,
          3,
          4,
          10,
          13,
          20,
          10,
          27,
          13,
          27,
          14,
          22,
          15,
          26,
          13,
          20,
          1,
          1,
          1,
          2,
          1,
          1,
          1,
          1,
          1,
          2,
          3,
          3,
          3,
          1,
          1,
          1,
          1,
          2,
          3,
          2,
          3,
          1,
          4,
          1,
          3,
          1,
          1,
          2,
          2,
          1,
          4,
          1,
          3,
          2,
          2,
          5,
          4,
          1,
          10,
          6,
          1,
          7,
          9,
          6,
          1,
          7,
          10,
          1,
          11,
          12,
          1,
          17,
          11,
          12,
          9,
          1,
          11,
          2,
          8,
          16,
          2,
          15,
          1,
          19,
          3,
          16,
          1,
          20,
          3,
          24,
          4,
          20,
          2,
          23,
          2,
          21,
          3,
          34,
          4,
          32,
          4,
          32,
          7,
          33,
          4,
          40,
          5,
          44,
          7,
          51,
          10,
          55,
          9,
          67,
          13,
          82,
          14,
          74,
          14,
          113,
          23,
          118,
          34,
          154,
          40,
          145,
          40,
          173,
          64,
          225,
          62,
          264,
          88,
          397,
          161,
          658,
          244,
          766,
          265,
          767,
          380,
          633,
          397,
          517,
          436,
          277,
          315,
          6129,
          2674
         ]
        }
       ],
       "layout": {
        "coloraxis": {
         "colorbar": {
          "title": {
           "text": "counts"
          }
         },
         "colorscale": [
          [
           0,
           "#0d0887"
          ],
          [
           0.1111111111111111,
           "#46039f"
          ],
          [
           0.2222222222222222,
           "#7201a8"
          ],
          [
           0.3333333333333333,
           "#9c179e"
          ],
          [
           0.4444444444444444,
           "#bd3786"
          ],
          [
           0.5555555555555556,
           "#d8576b"
          ],
          [
           0.6666666666666666,
           "#ed7953"
          ],
          [
           0.7777777777777778,
           "#fb9f3a"
          ],
          [
           0.8888888888888888,
           "#fdca26"
          ],
          [
           1,
           "#f0f921"
          ]
         ]
        },
        "height": 600,
        "legend": {
         "tracegroupgap": 0
        },
        "margin": {
         "t": 60
        },
        "template": {
         "data": {
          "bar": [
           {
            "error_x": {
             "color": "#2a3f5f"
            },
            "error_y": {
             "color": "#2a3f5f"
            },
            "marker": {
             "line": {
              "color": "#E5ECF6",
              "width": 0.5
             },
             "pattern": {
              "fillmode": "overlay",
              "size": 10,
              "solidity": 0.2
             }
            },
            "type": "bar"
           }
          ],
          "barpolar": [
           {
            "marker": {
             "line": {
              "color": "#E5ECF6",
              "width": 0.5
             },
             "pattern": {
              "fillmode": "overlay",
              "size": 10,
              "solidity": 0.2
             }
            },
            "type": "barpolar"
           }
          ],
          "carpet": [
           {
            "aaxis": {
             "endlinecolor": "#2a3f5f",
             "gridcolor": "white",
             "linecolor": "white",
             "minorgridcolor": "white",
             "startlinecolor": "#2a3f5f"
            },
            "baxis": {
             "endlinecolor": "#2a3f5f",
             "gridcolor": "white",
             "linecolor": "white",
             "minorgridcolor": "white",
             "startlinecolor": "#2a3f5f"
            },
            "type": "carpet"
           }
          ],
          "choropleth": [
           {
            "colorbar": {
             "outlinewidth": 0,
             "ticks": ""
            },
            "type": "choropleth"
           }
          ],
          "contour": [
           {
            "colorbar": {
             "outlinewidth": 0,
             "ticks": ""
            },
            "colorscale": [
             [
              0,
              "#0d0887"
             ],
             [
              0.1111111111111111,
              "#46039f"
             ],
             [
              0.2222222222222222,
              "#7201a8"
             ],
             [
              0.3333333333333333,
              "#9c179e"
             ],
             [
              0.4444444444444444,
              "#bd3786"
             ],
             [
              0.5555555555555556,
              "#d8576b"
             ],
             [
              0.6666666666666666,
              "#ed7953"
             ],
             [
              0.7777777777777778,
              "#fb9f3a"
             ],
             [
              0.8888888888888888,
              "#fdca26"
             ],
             [
              1,
              "#f0f921"
             ]
            ],
            "type": "contour"
           }
          ],
          "contourcarpet": [
           {
            "colorbar": {
             "outlinewidth": 0,
             "ticks": ""
            },
            "type": "contourcarpet"
           }
          ],
          "heatmap": [
           {
            "colorbar": {
             "outlinewidth": 0,
             "ticks": ""
            },
            "colorscale": [
             [
              0,
              "#0d0887"
             ],
             [
              0.1111111111111111,
              "#46039f"
             ],
             [
              0.2222222222222222,
              "#7201a8"
             ],
             [
              0.3333333333333333,
              "#9c179e"
             ],
             [
              0.4444444444444444,
              "#bd3786"
             ],
             [
              0.5555555555555556,
              "#d8576b"
             ],
             [
              0.6666666666666666,
              "#ed7953"
             ],
             [
              0.7777777777777778,
              "#fb9f3a"
             ],
             [
              0.8888888888888888,
              "#fdca26"
             ],
             [
              1,
              "#f0f921"
             ]
            ],
            "type": "heatmap"
           }
          ],
          "heatmapgl": [
           {
            "colorbar": {
             "outlinewidth": 0,
             "ticks": ""
            },
            "colorscale": [
             [
              0,
              "#0d0887"
             ],
             [
              0.1111111111111111,
              "#46039f"
             ],
             [
              0.2222222222222222,
              "#7201a8"
             ],
             [
              0.3333333333333333,
              "#9c179e"
             ],
             [
              0.4444444444444444,
              "#bd3786"
             ],
             [
              0.5555555555555556,
              "#d8576b"
             ],
             [
              0.6666666666666666,
              "#ed7953"
             ],
             [
              0.7777777777777778,
              "#fb9f3a"
             ],
             [
              0.8888888888888888,
              "#fdca26"
             ],
             [
              1,
              "#f0f921"
             ]
            ],
            "type": "heatmapgl"
           }
          ],
          "histogram": [
           {
            "marker": {
             "pattern": {
              "fillmode": "overlay",
              "size": 10,
              "solidity": 0.2
             }
            },
            "type": "histogram"
           }
          ],
          "histogram2d": [
           {
            "colorbar": {
             "outlinewidth": 0,
             "ticks": ""
            },
            "colorscale": [
             [
              0,
              "#0d0887"
             ],
             [
              0.1111111111111111,
              "#46039f"
             ],
             [
              0.2222222222222222,
              "#7201a8"
             ],
             [
              0.3333333333333333,
              "#9c179e"
             ],
             [
              0.4444444444444444,
              "#bd3786"
             ],
             [
              0.5555555555555556,
              "#d8576b"
             ],
             [
              0.6666666666666666,
              "#ed7953"
             ],
             [
              0.7777777777777778,
              "#fb9f3a"
             ],
             [
              0.8888888888888888,
              "#fdca26"
             ],
             [
              1,
              "#f0f921"
             ]
            ],
            "type": "histogram2d"
           }
          ],
          "histogram2dcontour": [
           {
            "colorbar": {
             "outlinewidth": 0,
             "ticks": ""
            },
            "colorscale": [
             [
              0,
              "#0d0887"
             ],
             [
              0.1111111111111111,
              "#46039f"
             ],
             [
              0.2222222222222222,
              "#7201a8"
             ],
             [
              0.3333333333333333,
              "#9c179e"
             ],
             [
              0.4444444444444444,
              "#bd3786"
             ],
             [
              0.5555555555555556,
              "#d8576b"
             ],
             [
              0.6666666666666666,
              "#ed7953"
             ],
             [
              0.7777777777777778,
              "#fb9f3a"
             ],
             [
              0.8888888888888888,
              "#fdca26"
             ],
             [
              1,
              "#f0f921"
             ]
            ],
            "type": "histogram2dcontour"
           }
          ],
          "mesh3d": [
           {
            "colorbar": {
             "outlinewidth": 0,
             "ticks": ""
            },
            "type": "mesh3d"
           }
          ],
          "parcoords": [
           {
            "line": {
             "colorbar": {
              "outlinewidth": 0,
              "ticks": ""
             }
            },
            "type": "parcoords"
           }
          ],
          "pie": [
           {
            "automargin": true,
            "type": "pie"
           }
          ],
          "scatter": [
           {
            "fillpattern": {
             "fillmode": "overlay",
             "size": 10,
             "solidity": 0.2
            },
            "type": "scatter"
           }
          ],
          "scatter3d": [
           {
            "line": {
             "colorbar": {
              "outlinewidth": 0,
              "ticks": ""
             }
            },
            "marker": {
             "colorbar": {
              "outlinewidth": 0,
              "ticks": ""
             }
            },
            "type": "scatter3d"
           }
          ],
          "scattercarpet": [
           {
            "marker": {
             "colorbar": {
              "outlinewidth": 0,
              "ticks": ""
             }
            },
            "type": "scattercarpet"
           }
          ],
          "scattergeo": [
           {
            "marker": {
             "colorbar": {
              "outlinewidth": 0,
              "ticks": ""
             }
            },
            "type": "scattergeo"
           }
          ],
          "scattergl": [
           {
            "marker": {
             "colorbar": {
              "outlinewidth": 0,
              "ticks": ""
             }
            },
            "type": "scattergl"
           }
          ],
          "scattermapbox": [
           {
            "marker": {
             "colorbar": {
              "outlinewidth": 0,
              "ticks": ""
             }
            },
            "type": "scattermapbox"
           }
          ],
          "scatterpolar": [
           {
            "marker": {
             "colorbar": {
              "outlinewidth": 0,
              "ticks": ""
             }
            },
            "type": "scatterpolar"
           }
          ],
          "scatterpolargl": [
           {
            "marker": {
             "colorbar": {
              "outlinewidth": 0,
              "ticks": ""
             }
            },
            "type": "scatterpolargl"
           }
          ],
          "scatterternary": [
           {
            "marker": {
             "colorbar": {
              "outlinewidth": 0,
              "ticks": ""
             }
            },
            "type": "scatterternary"
           }
          ],
          "surface": [
           {
            "colorbar": {
             "outlinewidth": 0,
             "ticks": ""
            },
            "colorscale": [
             [
              0,
              "#0d0887"
             ],
             [
              0.1111111111111111,
              "#46039f"
             ],
             [
              0.2222222222222222,
              "#7201a8"
             ],
             [
              0.3333333333333333,
              "#9c179e"
             ],
             [
              0.4444444444444444,
              "#bd3786"
             ],
             [
              0.5555555555555556,
              "#d8576b"
             ],
             [
              0.6666666666666666,
              "#ed7953"
             ],
             [
              0.7777777777777778,
              "#fb9f3a"
             ],
             [
              0.8888888888888888,
              "#fdca26"
             ],
             [
              1,
              "#f0f921"
             ]
            ],
            "type": "surface"
           }
          ],
          "table": [
           {
            "cells": {
             "fill": {
              "color": "#EBF0F8"
             },
             "line": {
              "color": "white"
             }
            },
            "header": {
             "fill": {
              "color": "#C8D4E3"
             },
             "line": {
              "color": "white"
             }
            },
            "type": "table"
           }
          ]
         },
         "layout": {
          "annotationdefaults": {
           "arrowcolor": "#2a3f5f",
           "arrowhead": 0,
           "arrowwidth": 1
          },
          "autotypenumbers": "strict",
          "coloraxis": {
           "colorbar": {
            "outlinewidth": 0,
            "ticks": ""
           }
          },
          "colorscale": {
           "diverging": [
            [
             0,
             "#8e0152"
            ],
            [
             0.1,
             "#c51b7d"
            ],
            [
             0.2,
             "#de77ae"
            ],
            [
             0.3,
             "#f1b6da"
            ],
            [
             0.4,
             "#fde0ef"
            ],
            [
             0.5,
             "#f7f7f7"
            ],
            [
             0.6,
             "#e6f5d0"
            ],
            [
             0.7,
             "#b8e186"
            ],
            [
             0.8,
             "#7fbc41"
            ],
            [
             0.9,
             "#4d9221"
            ],
            [
             1,
             "#276419"
            ]
           ],
           "sequential": [
            [
             0,
             "#0d0887"
            ],
            [
             0.1111111111111111,
             "#46039f"
            ],
            [
             0.2222222222222222,
             "#7201a8"
            ],
            [
             0.3333333333333333,
             "#9c179e"
            ],
            [
             0.4444444444444444,
             "#bd3786"
            ],
            [
             0.5555555555555556,
             "#d8576b"
            ],
            [
             0.6666666666666666,
             "#ed7953"
            ],
            [
             0.7777777777777778,
             "#fb9f3a"
            ],
            [
             0.8888888888888888,
             "#fdca26"
            ],
            [
             1,
             "#f0f921"
            ]
           ],
           "sequentialminus": [
            [
             0,
             "#0d0887"
            ],
            [
             0.1111111111111111,
             "#46039f"
            ],
            [
             0.2222222222222222,
             "#7201a8"
            ],
            [
             0.3333333333333333,
             "#9c179e"
            ],
            [
             0.4444444444444444,
             "#bd3786"
            ],
            [
             0.5555555555555556,
             "#d8576b"
            ],
            [
             0.6666666666666666,
             "#ed7953"
            ],
            [
             0.7777777777777778,
             "#fb9f3a"
            ],
            [
             0.8888888888888888,
             "#fdca26"
            ],
            [
             1,
             "#f0f921"
            ]
           ]
          },
          "colorway": [
           "#636efa",
           "#EF553B",
           "#00cc96",
           "#ab63fa",
           "#FFA15A",
           "#19d3f3",
           "#FF6692",
           "#B6E880",
           "#FF97FF",
           "#FECB52"
          ],
          "font": {
           "color": "#2a3f5f"
          },
          "geo": {
           "bgcolor": "white",
           "lakecolor": "white",
           "landcolor": "#E5ECF6",
           "showlakes": true,
           "showland": true,
           "subunitcolor": "white"
          },
          "hoverlabel": {
           "align": "left"
          },
          "hovermode": "closest",
          "mapbox": {
           "style": "light"
          },
          "paper_bgcolor": "white",
          "plot_bgcolor": "#E5ECF6",
          "polar": {
           "angularaxis": {
            "gridcolor": "white",
            "linecolor": "white",
            "ticks": ""
           },
           "bgcolor": "#E5ECF6",
           "radialaxis": {
            "gridcolor": "white",
            "linecolor": "white",
            "ticks": ""
           }
          },
          "scene": {
           "xaxis": {
            "backgroundcolor": "#E5ECF6",
            "gridcolor": "white",
            "gridwidth": 2,
            "linecolor": "white",
            "showbackground": true,
            "ticks": "",
            "zerolinecolor": "white"
           },
           "yaxis": {
            "backgroundcolor": "#E5ECF6",
            "gridcolor": "white",
            "gridwidth": 2,
            "linecolor": "white",
            "showbackground": true,
            "ticks": "",
            "zerolinecolor": "white"
           },
           "zaxis": {
            "backgroundcolor": "#E5ECF6",
            "gridcolor": "white",
            "gridwidth": 2,
            "linecolor": "white",
            "showbackground": true,
            "ticks": "",
            "zerolinecolor": "white"
           }
          },
          "shapedefaults": {
           "line": {
            "color": "#2a3f5f"
           }
          },
          "ternary": {
           "aaxis": {
            "gridcolor": "white",
            "linecolor": "white",
            "ticks": ""
           },
           "baxis": {
            "gridcolor": "white",
            "linecolor": "white",
            "ticks": ""
           },
           "bgcolor": "#E5ECF6",
           "caxis": {
            "gridcolor": "white",
            "linecolor": "white",
            "ticks": ""
           }
          },
          "title": {
           "x": 0.05
          },
          "xaxis": {
           "automargin": true,
           "gridcolor": "white",
           "linecolor": "white",
           "ticks": "",
           "title": {
            "standoff": 15
           },
           "zerolinecolor": "white",
           "zerolinewidth": 2
          },
          "yaxis": {
           "automargin": true,
           "gridcolor": "white",
           "linecolor": "white",
           "ticks": "",
           "title": {
            "standoff": 15
           },
           "zerolinecolor": "white",
           "zerolinewidth": 2
          }
         }
        },
        "width": 800
       }
      }
     },
     "metadata": {},
     "output_type": "display_data"
    }
   ],
   "source": [
    "t=dff.groupby([\"type\",\"release_year\",\"rating\"]).size().reset_index(name=\"counts\")\n",
    "fig = px.sunburst(t, path=['type', 'release_year', 'rating'], values='counts', color='counts',width=800,height=600)\n",
    "fig.show()"
   ]
  },
  {
   "cell_type": "code",
   "execution_count": 13,
   "metadata": {},
   "outputs": [
    {
     "data": {
      "application/vnd.plotly.v1+json": {
       "config": {
        "plotlyServerURL": "https://plot.ly"
       },
       "data": [
        {
         "alignmentgroup": "True",
         "hovertemplate": "Total Content=%{x}<br>Category=%{y}<extra></extra>",
         "legendgroup": "",
         "marker": {
          "color": "#636efa",
          "pattern": {
           "shape": ""
          }
         },
         "name": "",
         "offsetgroup": "",
         "orientation": "h",
         "showlegend": false,
         "textposition": "auto",
         "type": "bar",
         "x": [
          461,
          464,
          512,
          577,
          605,
          613,
          696,
          736,
          774,
          827,
          829,
          859,
          1210,
          1600,
          2624
         ],
         "xaxis": "x",
         "y": [
          " TV Comedies",
          " Comedies",
          " Thrillers",
          " International TV Shows",
          "Children & Family Movies",
          " Romantic Movies",
          " TV Dramas",
          " Independent Movies",
          "International TV Shows",
          " Dramas",
          "Documentaries",
          "Action & Adventure",
          "Comedies",
          "Dramas",
          " International Movies"
         ],
         "yaxis": "y"
        }
       ],
       "layout": {
        "barmode": "relative",
        "legend": {
         "tracegroupgap": 0
        },
        "margin": {
         "t": 60
        },
        "template": {
         "data": {
          "bar": [
           {
            "error_x": {
             "color": "#2a3f5f"
            },
            "error_y": {
             "color": "#2a3f5f"
            },
            "marker": {
             "line": {
              "color": "#E5ECF6",
              "width": 0.5
             },
             "pattern": {
              "fillmode": "overlay",
              "size": 10,
              "solidity": 0.2
             }
            },
            "type": "bar"
           }
          ],
          "barpolar": [
           {
            "marker": {
             "line": {
              "color": "#E5ECF6",
              "width": 0.5
             },
             "pattern": {
              "fillmode": "overlay",
              "size": 10,
              "solidity": 0.2
             }
            },
            "type": "barpolar"
           }
          ],
          "carpet": [
           {
            "aaxis": {
             "endlinecolor": "#2a3f5f",
             "gridcolor": "white",
             "linecolor": "white",
             "minorgridcolor": "white",
             "startlinecolor": "#2a3f5f"
            },
            "baxis": {
             "endlinecolor": "#2a3f5f",
             "gridcolor": "white",
             "linecolor": "white",
             "minorgridcolor": "white",
             "startlinecolor": "#2a3f5f"
            },
            "type": "carpet"
           }
          ],
          "choropleth": [
           {
            "colorbar": {
             "outlinewidth": 0,
             "ticks": ""
            },
            "type": "choropleth"
           }
          ],
          "contour": [
           {
            "colorbar": {
             "outlinewidth": 0,
             "ticks": ""
            },
            "colorscale": [
             [
              0,
              "#0d0887"
             ],
             [
              0.1111111111111111,
              "#46039f"
             ],
             [
              0.2222222222222222,
              "#7201a8"
             ],
             [
              0.3333333333333333,
              "#9c179e"
             ],
             [
              0.4444444444444444,
              "#bd3786"
             ],
             [
              0.5555555555555556,
              "#d8576b"
             ],
             [
              0.6666666666666666,
              "#ed7953"
             ],
             [
              0.7777777777777778,
              "#fb9f3a"
             ],
             [
              0.8888888888888888,
              "#fdca26"
             ],
             [
              1,
              "#f0f921"
             ]
            ],
            "type": "contour"
           }
          ],
          "contourcarpet": [
           {
            "colorbar": {
             "outlinewidth": 0,
             "ticks": ""
            },
            "type": "contourcarpet"
           }
          ],
          "heatmap": [
           {
            "colorbar": {
             "outlinewidth": 0,
             "ticks": ""
            },
            "colorscale": [
             [
              0,
              "#0d0887"
             ],
             [
              0.1111111111111111,
              "#46039f"
             ],
             [
              0.2222222222222222,
              "#7201a8"
             ],
             [
              0.3333333333333333,
              "#9c179e"
             ],
             [
              0.4444444444444444,
              "#bd3786"
             ],
             [
              0.5555555555555556,
              "#d8576b"
             ],
             [
              0.6666666666666666,
              "#ed7953"
             ],
             [
              0.7777777777777778,
              "#fb9f3a"
             ],
             [
              0.8888888888888888,
              "#fdca26"
             ],
             [
              1,
              "#f0f921"
             ]
            ],
            "type": "heatmap"
           }
          ],
          "heatmapgl": [
           {
            "colorbar": {
             "outlinewidth": 0,
             "ticks": ""
            },
            "colorscale": [
             [
              0,
              "#0d0887"
             ],
             [
              0.1111111111111111,
              "#46039f"
             ],
             [
              0.2222222222222222,
              "#7201a8"
             ],
             [
              0.3333333333333333,
              "#9c179e"
             ],
             [
              0.4444444444444444,
              "#bd3786"
             ],
             [
              0.5555555555555556,
              "#d8576b"
             ],
             [
              0.6666666666666666,
              "#ed7953"
             ],
             [
              0.7777777777777778,
              "#fb9f3a"
             ],
             [
              0.8888888888888888,
              "#fdca26"
             ],
             [
              1,
              "#f0f921"
             ]
            ],
            "type": "heatmapgl"
           }
          ],
          "histogram": [
           {
            "marker": {
             "pattern": {
              "fillmode": "overlay",
              "size": 10,
              "solidity": 0.2
             }
            },
            "type": "histogram"
           }
          ],
          "histogram2d": [
           {
            "colorbar": {
             "outlinewidth": 0,
             "ticks": ""
            },
            "colorscale": [
             [
              0,
              "#0d0887"
             ],
             [
              0.1111111111111111,
              "#46039f"
             ],
             [
              0.2222222222222222,
              "#7201a8"
             ],
             [
              0.3333333333333333,
              "#9c179e"
             ],
             [
              0.4444444444444444,
              "#bd3786"
             ],
             [
              0.5555555555555556,
              "#d8576b"
             ],
             [
              0.6666666666666666,
              "#ed7953"
             ],
             [
              0.7777777777777778,
              "#fb9f3a"
             ],
             [
              0.8888888888888888,
              "#fdca26"
             ],
             [
              1,
              "#f0f921"
             ]
            ],
            "type": "histogram2d"
           }
          ],
          "histogram2dcontour": [
           {
            "colorbar": {
             "outlinewidth": 0,
             "ticks": ""
            },
            "colorscale": [
             [
              0,
              "#0d0887"
             ],
             [
              0.1111111111111111,
              "#46039f"
             ],
             [
              0.2222222222222222,
              "#7201a8"
             ],
             [
              0.3333333333333333,
              "#9c179e"
             ],
             [
              0.4444444444444444,
              "#bd3786"
             ],
             [
              0.5555555555555556,
              "#d8576b"
             ],
             [
              0.6666666666666666,
              "#ed7953"
             ],
             [
              0.7777777777777778,
              "#fb9f3a"
             ],
             [
              0.8888888888888888,
              "#fdca26"
             ],
             [
              1,
              "#f0f921"
             ]
            ],
            "type": "histogram2dcontour"
           }
          ],
          "mesh3d": [
           {
            "colorbar": {
             "outlinewidth": 0,
             "ticks": ""
            },
            "type": "mesh3d"
           }
          ],
          "parcoords": [
           {
            "line": {
             "colorbar": {
              "outlinewidth": 0,
              "ticks": ""
             }
            },
            "type": "parcoords"
           }
          ],
          "pie": [
           {
            "automargin": true,
            "type": "pie"
           }
          ],
          "scatter": [
           {
            "fillpattern": {
             "fillmode": "overlay",
             "size": 10,
             "solidity": 0.2
            },
            "type": "scatter"
           }
          ],
          "scatter3d": [
           {
            "line": {
             "colorbar": {
              "outlinewidth": 0,
              "ticks": ""
             }
            },
            "marker": {
             "colorbar": {
              "outlinewidth": 0,
              "ticks": ""
             }
            },
            "type": "scatter3d"
           }
          ],
          "scattercarpet": [
           {
            "marker": {
             "colorbar": {
              "outlinewidth": 0,
              "ticks": ""
             }
            },
            "type": "scattercarpet"
           }
          ],
          "scattergeo": [
           {
            "marker": {
             "colorbar": {
              "outlinewidth": 0,
              "ticks": ""
             }
            },
            "type": "scattergeo"
           }
          ],
          "scattergl": [
           {
            "marker": {
             "colorbar": {
              "outlinewidth": 0,
              "ticks": ""
             }
            },
            "type": "scattergl"
           }
          ],
          "scattermapbox": [
           {
            "marker": {
             "colorbar": {
              "outlinewidth": 0,
              "ticks": ""
             }
            },
            "type": "scattermapbox"
           }
          ],
          "scatterpolar": [
           {
            "marker": {
             "colorbar": {
              "outlinewidth": 0,
              "ticks": ""
             }
            },
            "type": "scatterpolar"
           }
          ],
          "scatterpolargl": [
           {
            "marker": {
             "colorbar": {
              "outlinewidth": 0,
              "ticks": ""
             }
            },
            "type": "scatterpolargl"
           }
          ],
          "scatterternary": [
           {
            "marker": {
             "colorbar": {
              "outlinewidth": 0,
              "ticks": ""
             }
            },
            "type": "scatterternary"
           }
          ],
          "surface": [
           {
            "colorbar": {
             "outlinewidth": 0,
             "ticks": ""
            },
            "colorscale": [
             [
              0,
              "#0d0887"
             ],
             [
              0.1111111111111111,
              "#46039f"
             ],
             [
              0.2222222222222222,
              "#7201a8"
             ],
             [
              0.3333333333333333,
              "#9c179e"
             ],
             [
              0.4444444444444444,
              "#bd3786"
             ],
             [
              0.5555555555555556,
              "#d8576b"
             ],
             [
              0.6666666666666666,
              "#ed7953"
             ],
             [
              0.7777777777777778,
              "#fb9f3a"
             ],
             [
              0.8888888888888888,
              "#fdca26"
             ],
             [
              1,
              "#f0f921"
             ]
            ],
            "type": "surface"
           }
          ],
          "table": [
           {
            "cells": {
             "fill": {
              "color": "#EBF0F8"
             },
             "line": {
              "color": "white"
             }
            },
            "header": {
             "fill": {
              "color": "#C8D4E3"
             },
             "line": {
              "color": "white"
             }
            },
            "type": "table"
           }
          ]
         },
         "layout": {
          "annotationdefaults": {
           "arrowcolor": "#2a3f5f",
           "arrowhead": 0,
           "arrowwidth": 1
          },
          "autotypenumbers": "strict",
          "coloraxis": {
           "colorbar": {
            "outlinewidth": 0,
            "ticks": ""
           }
          },
          "colorscale": {
           "diverging": [
            [
             0,
             "#8e0152"
            ],
            [
             0.1,
             "#c51b7d"
            ],
            [
             0.2,
             "#de77ae"
            ],
            [
             0.3,
             "#f1b6da"
            ],
            [
             0.4,
             "#fde0ef"
            ],
            [
             0.5,
             "#f7f7f7"
            ],
            [
             0.6,
             "#e6f5d0"
            ],
            [
             0.7,
             "#b8e186"
            ],
            [
             0.8,
             "#7fbc41"
            ],
            [
             0.9,
             "#4d9221"
            ],
            [
             1,
             "#276419"
            ]
           ],
           "sequential": [
            [
             0,
             "#0d0887"
            ],
            [
             0.1111111111111111,
             "#46039f"
            ],
            [
             0.2222222222222222,
             "#7201a8"
            ],
            [
             0.3333333333333333,
             "#9c179e"
            ],
            [
             0.4444444444444444,
             "#bd3786"
            ],
            [
             0.5555555555555556,
             "#d8576b"
            ],
            [
             0.6666666666666666,
             "#ed7953"
            ],
            [
             0.7777777777777778,
             "#fb9f3a"
            ],
            [
             0.8888888888888888,
             "#fdca26"
            ],
            [
             1,
             "#f0f921"
            ]
           ],
           "sequentialminus": [
            [
             0,
             "#0d0887"
            ],
            [
             0.1111111111111111,
             "#46039f"
            ],
            [
             0.2222222222222222,
             "#7201a8"
            ],
            [
             0.3333333333333333,
             "#9c179e"
            ],
            [
             0.4444444444444444,
             "#bd3786"
            ],
            [
             0.5555555555555556,
             "#d8576b"
            ],
            [
             0.6666666666666666,
             "#ed7953"
            ],
            [
             0.7777777777777778,
             "#fb9f3a"
            ],
            [
             0.8888888888888888,
             "#fdca26"
            ],
            [
             1,
             "#f0f921"
            ]
           ]
          },
          "colorway": [
           "#636efa",
           "#EF553B",
           "#00cc96",
           "#ab63fa",
           "#FFA15A",
           "#19d3f3",
           "#FF6692",
           "#B6E880",
           "#FF97FF",
           "#FECB52"
          ],
          "font": {
           "color": "#2a3f5f"
          },
          "geo": {
           "bgcolor": "white",
           "lakecolor": "white",
           "landcolor": "#E5ECF6",
           "showlakes": true,
           "showland": true,
           "subunitcolor": "white"
          },
          "hoverlabel": {
           "align": "left"
          },
          "hovermode": "closest",
          "mapbox": {
           "style": "light"
          },
          "paper_bgcolor": "white",
          "plot_bgcolor": "#E5ECF6",
          "polar": {
           "angularaxis": {
            "gridcolor": "white",
            "linecolor": "white",
            "ticks": ""
           },
           "bgcolor": "#E5ECF6",
           "radialaxis": {
            "gridcolor": "white",
            "linecolor": "white",
            "ticks": ""
           }
          },
          "scene": {
           "xaxis": {
            "backgroundcolor": "#E5ECF6",
            "gridcolor": "white",
            "gridwidth": 2,
            "linecolor": "white",
            "showbackground": true,
            "ticks": "",
            "zerolinecolor": "white"
           },
           "yaxis": {
            "backgroundcolor": "#E5ECF6",
            "gridcolor": "white",
            "gridwidth": 2,
            "linecolor": "white",
            "showbackground": true,
            "ticks": "",
            "zerolinecolor": "white"
           },
           "zaxis": {
            "backgroundcolor": "#E5ECF6",
            "gridcolor": "white",
            "gridwidth": 2,
            "linecolor": "white",
            "showbackground": true,
            "ticks": "",
            "zerolinecolor": "white"
           }
          },
          "shapedefaults": {
           "line": {
            "color": "#2a3f5f"
           }
          },
          "ternary": {
           "aaxis": {
            "gridcolor": "white",
            "linecolor": "white",
            "ticks": ""
           },
           "baxis": {
            "gridcolor": "white",
            "linecolor": "white",
            "ticks": ""
           },
           "bgcolor": "#E5ECF6",
           "caxis": {
            "gridcolor": "white",
            "linecolor": "white",
            "ticks": ""
           }
          },
          "title": {
           "x": 0.05
          },
          "xaxis": {
           "automargin": true,
           "gridcolor": "white",
           "linecolor": "white",
           "ticks": "",
           "title": {
            "standoff": 15
           },
           "zerolinecolor": "white",
           "zerolinewidth": 2
          },
          "yaxis": {
           "automargin": true,
           "gridcolor": "white",
           "linecolor": "white",
           "ticks": "",
           "title": {
            "standoff": 15
           },
           "zerolinecolor": "white",
           "zerolinewidth": 2
          }
         }
        },
        "xaxis": {
         "anchor": "y",
         "domain": [
          0,
          1
         ],
         "title": {
          "text": "Total Content"
         }
        },
        "yaxis": {
         "anchor": "x",
         "domain": [
          0,
          1
         ],
         "title": {
          "text": "Category"
         }
        }
       }
      }
     },
     "metadata": {},
     "output_type": "display_data"
    }
   ],
   "source": [
    "dff['listed_in']=dff['listed_in'].fillna('Bilinmiyor')\n",
    "filtered_category=pd.DataFrame()\n",
    "filtered_category=dff['listed_in'].str.split(',',expand=True).stack()\n",
    "filtered_category=filtered_category.to_frame()\n",
    "filtered_category.columns=['Category']\n",
    "category=filtered_category.groupby(['Category']).size().reset_index(name='Total Content')\n",
    "category=category[category.Category !='Bilinmiyor']\n",
    "category=category.sort_values(by=['Total Content'],ascending=False)\n",
    "\n",
    "categoryTop5=category.head(15)\n",
    "categoryTop5=categoryTop5.sort_values(by=['Total Content'])\n",
    "fig2=px.bar(categoryTop5,x='Total Content',y='Category')\n",
    "fig2.show()\n",
    "\n"
   ]
  },
  {
   "cell_type": "code",
   "execution_count": 38,
   "metadata": {},
   "outputs": [
    {
     "data": {
      "application/vnd.plotly.v1+json": {
       "config": {
        "plotlyServerURL": "https://plot.ly"
       },
       "data": [
        {
         "hovertemplate": "<b>%{hovertext}</b><br><br>type=Movie<br>release_year=%{x}<br>rating=%{y}<br>counts=%{marker.size}<extra></extra>",
         "hovertext": [
          "Movie",
          "Movie",
          "Movie",
          "Movie",
          "Movie",
          "Movie",
          "Movie",
          "Movie",
          "Movie",
          "Movie",
          "Movie",
          "Movie",
          "Movie",
          "Movie",
          "Movie",
          "Movie",
          "Movie",
          "Movie",
          "Movie",
          "Movie",
          "Movie",
          "Movie",
          "Movie",
          "Movie",
          "Movie",
          "Movie",
          "Movie",
          "Movie",
          "Movie",
          "Movie",
          "Movie",
          "Movie",
          "Movie",
          "Movie",
          "Movie",
          "Movie",
          "Movie",
          "Movie",
          "Movie",
          "Movie",
          "Movie",
          "Movie",
          "Movie",
          "Movie",
          "Movie",
          "Movie",
          "Movie",
          "Movie",
          "Movie",
          "Movie",
          "Movie",
          "Movie",
          "Movie",
          "Movie",
          "Movie",
          "Movie",
          "Movie",
          "Movie",
          "Movie",
          "Movie",
          "Movie",
          "Movie",
          "Movie",
          "Movie",
          "Movie",
          "Movie",
          "Movie",
          "Movie",
          "Movie",
          "Movie",
          "Movie",
          "Movie",
          "Movie",
          "Movie",
          "Movie",
          "Movie",
          "Movie",
          "Movie",
          "Movie",
          "Movie",
          "Movie",
          "Movie",
          "Movie",
          "Movie",
          "Movie",
          "Movie",
          "Movie",
          "Movie",
          "Movie",
          "Movie",
          "Movie",
          "Movie",
          "Movie",
          "Movie",
          "Movie",
          "Movie",
          "Movie",
          "Movie",
          "Movie",
          "Movie",
          "Movie",
          "Movie",
          "Movie",
          "Movie",
          "Movie",
          "Movie",
          "Movie",
          "Movie",
          "Movie",
          "Movie",
          "Movie",
          "Movie",
          "Movie",
          "Movie",
          "Movie",
          "Movie",
          "Movie",
          "Movie",
          "Movie",
          "Movie",
          "Movie",
          "Movie",
          "Movie",
          "Movie",
          "Movie",
          "Movie",
          "Movie",
          "Movie",
          "Movie",
          "Movie",
          "Movie",
          "Movie",
          "Movie",
          "Movie",
          "Movie",
          "Movie",
          "Movie",
          "Movie",
          "Movie",
          "Movie",
          "Movie",
          "Movie",
          "Movie",
          "Movie",
          "Movie",
          "Movie",
          "Movie",
          "Movie",
          "Movie",
          "Movie",
          "Movie",
          "Movie",
          "Movie",
          "Movie",
          "Movie",
          "Movie",
          "Movie",
          "Movie",
          "Movie",
          "Movie",
          "Movie",
          "Movie",
          "Movie",
          "Movie",
          "Movie",
          "Movie",
          "Movie",
          "Movie",
          "Movie",
          "Movie",
          "Movie",
          "Movie",
          "Movie",
          "Movie",
          "Movie",
          "Movie",
          "Movie",
          "Movie",
          "Movie",
          "Movie",
          "Movie",
          "Movie",
          "Movie",
          "Movie",
          "Movie",
          "Movie",
          "Movie",
          "Movie",
          "Movie",
          "Movie",
          "Movie",
          "Movie",
          "Movie",
          "Movie",
          "Movie",
          "Movie",
          "Movie",
          "Movie",
          "Movie",
          "Movie",
          "Movie",
          "Movie",
          "Movie",
          "Movie",
          "Movie",
          "Movie",
          "Movie",
          "Movie",
          "Movie",
          "Movie",
          "Movie",
          "Movie",
          "Movie",
          "Movie",
          "Movie",
          "Movie",
          "Movie",
          "Movie",
          "Movie",
          "Movie",
          "Movie",
          "Movie",
          "Movie",
          "Movie",
          "Movie",
          "Movie",
          "Movie",
          "Movie",
          "Movie",
          "Movie",
          "Movie",
          "Movie",
          "Movie",
          "Movie",
          "Movie",
          "Movie",
          "Movie",
          "Movie",
          "Movie",
          "Movie",
          "Movie",
          "Movie",
          "Movie",
          "Movie",
          "Movie",
          "Movie",
          "Movie",
          "Movie",
          "Movie",
          "Movie",
          "Movie",
          "Movie",
          "Movie",
          "Movie",
          "Movie",
          "Movie",
          "Movie",
          "Movie",
          "Movie",
          "Movie",
          "Movie",
          "Movie",
          "Movie",
          "Movie",
          "Movie",
          "Movie",
          "Movie",
          "Movie",
          "Movie",
          "Movie",
          "Movie",
          "Movie",
          "Movie",
          "Movie",
          "Movie",
          "Movie",
          "Movie",
          "Movie",
          "Movie",
          "Movie",
          "Movie",
          "Movie",
          "Movie",
          "Movie",
          "Movie",
          "Movie",
          "Movie",
          "Movie",
          "Movie",
          "Movie",
          "Movie",
          "Movie",
          "Movie",
          "Movie",
          "Movie",
          "Movie",
          "Movie",
          "Movie",
          "Movie",
          "Movie",
          "Movie",
          "Movie",
          "Movie",
          "Movie",
          "Movie",
          "Movie",
          "Movie",
          "Movie",
          "Movie",
          "Movie",
          "Movie",
          "Movie",
          "Movie",
          "Movie",
          "Movie",
          "Movie",
          "Movie",
          "Movie",
          "Movie",
          "Movie",
          "Movie",
          "Movie",
          "Movie",
          "Movie",
          "Movie",
          "Movie",
          "Movie",
          "Movie",
          "Movie",
          "Movie",
          "Movie",
          "Movie",
          "Movie",
          "Movie",
          "Movie",
          "Movie",
          "Movie",
          "Movie",
          "Movie",
          "Movie",
          "Movie",
          "Movie",
          "Movie",
          "Movie",
          "Movie",
          "Movie",
          "Movie",
          "Movie",
          "Movie",
          "Movie",
          "Movie",
          "Movie",
          "Movie",
          "Movie",
          "Movie",
          "Movie",
          "Movie",
          "Movie",
          "Movie",
          "Movie",
          "Movie",
          "Movie",
          "Movie",
          "Movie",
          "Movie",
          "Movie",
          "Movie",
          "Movie",
          "Movie",
          "Movie",
          "Movie",
          "Movie",
          "Movie",
          "Movie",
          "Movie",
          "Movie",
          "Movie",
          "Movie",
          "Movie",
          "Movie",
          "Movie",
          "Movie",
          "Movie",
          "Movie",
          "Movie",
          "Movie",
          "Movie",
          "Movie",
          "Movie",
          "Movie",
          "Movie",
          "Movie",
          "Movie",
          "Movie",
          "Movie",
          "Movie",
          "Movie",
          "Movie",
          "Movie",
          "Movie",
          "Movie",
          "Movie",
          "Movie",
          "Movie",
          "Movie",
          "Movie",
          "Movie",
          "Movie"
         ],
         "legendgroup": "Movie",
         "marker": {
          "color": "#636efa",
          "size": [
           1,
           1,
           1,
           1,
           1,
           1,
           1,
           1,
           2,
           1,
           1,
           1,
           1,
           1,
           1,
           1,
           2,
           2,
           2,
           3,
           2,
           1,
           4,
           1,
           2,
           3,
           1,
           2,
           1,
           1,
           1,
           1,
           1,
           1,
           1,
           1,
           1,
           1,
           2,
           1,
           1,
           2,
           4,
           2,
           5,
           6,
           7,
           17,
           20,
           2,
           1,
           1,
           1,
           2,
           4,
           2,
           2,
           1,
           1,
           2,
           2,
           1,
           4,
           1,
           2,
           3,
           1,
           1,
           3,
           4,
           3,
           2,
           1,
           1,
           2,
           4,
           5,
           4,
           5,
           8,
           5,
           8,
           10,
           10,
           10,
           8,
           18,
           7,
           14,
           15,
           11,
           14,
           15,
           31,
           12,
           15,
           11,
           1,
           1,
           1,
           1,
           1,
           2,
           2,
           3,
           2,
           4,
           2,
           1,
           4,
           4,
           10,
           6,
           9,
           7,
           8,
           10,
           8,
           14,
           10,
           7,
           16,
           15,
           15,
           24,
           25,
           26,
           23,
           19,
           15,
           19,
           25,
           34,
           32,
           30,
           19,
           21,
           14,
           1,
           2,
           1,
           1,
           1,
           3,
           2,
           1,
           1,
           2,
           5,
           2,
           3,
           1,
           2,
           2,
           5,
           1,
           4,
           2,
           11,
           6,
           4,
           4,
           9,
           16,
           9,
           10,
           8,
           14,
           12,
           16,
           7,
           10,
           12,
           14,
           19,
           25,
           26,
           20,
           29,
           41,
           49,
           66,
           85,
           73,
           52,
           39,
           48,
           21,
           2,
           2,
           2,
           1,
           1,
           1,
           1,
           1,
           2,
           1,
           1,
           1,
           1,
           2,
           1,
           3,
           1,
           2,
           1,
           1,
           3,
           4,
           5,
           8,
           6,
           5,
           5,
           3,
           1,
           3,
           4,
           7,
           2,
           2,
           6,
           7,
           4,
           4,
           4,
           7,
           2,
           5,
           6,
           8,
           10,
           12,
           21,
           24,
           14,
           29,
           33,
           35,
           37,
           46,
           53,
           65,
           87,
           140,
           182,
           176,
           160,
           91,
           73,
           1,
           1,
           2,
           1,
           3,
           1,
           2,
           5,
           3,
           6,
           13,
           20,
           18,
           15,
           26,
           9,
           1,
           1,
           1,
           1,
           1,
           1,
           2,
           1,
           1,
           2,
           2,
           1,
           2,
           4,
           1,
           2,
           1,
           1,
           1,
           2,
           3,
           5,
           3,
           3,
           1,
           3,
           7,
           4,
           1,
           2,
           5,
           8,
           8,
           4,
           13,
           12,
           20,
           8,
           33,
           20,
           41,
           48,
           62,
           135,
           273,
           337,
           358,
           286,
           220,
           110,
           3,
           1,
           1,
           1,
           1,
           2,
           2,
           1,
           1,
           1,
           1,
           1,
           1,
           2,
           1,
           1,
           1,
           1,
           1,
           2,
           1,
           4,
           2,
           1,
           1,
           1,
           2,
           1,
           1,
           1,
           2,
           3,
           2,
           1,
           1,
           9,
           9,
           8,
           5,
           6,
           10,
           10,
           11,
           10,
           20,
           26,
           35,
           52,
           80,
           71,
           62,
           46,
           20,
           1,
           1,
           1,
           2,
           4,
           2,
           5,
           6,
           10,
           8,
           13,
           13,
           25,
           34,
           6,
           1,
           1,
           2,
           3,
           6,
           8,
           11,
           16,
           9,
           4,
           13,
           10,
           13,
           14,
           15,
           13,
           1,
           1,
           2,
           1,
           1,
           1,
           1
          ],
          "sizemode": "area",
          "sizeref": 0.1432,
          "symbol": "circle"
         },
         "mode": "markers",
         "name": "Movie",
         "orientation": "h",
         "showlegend": true,
         "type": "scatter",
         "x": [
          2015,
          2017,
          2010,
          1956,
          1958,
          1964,
          1968,
          1969,
          1971,
          1973,
          1977,
          1986,
          1989,
          1991,
          1995,
          1998,
          1999,
          2000,
          2001,
          2004,
          2005,
          2007,
          2009,
          2011,
          2014,
          2016,
          2017,
          2018,
          2019,
          2020,
          2013,
          2014,
          2018,
          1958,
          1973,
          1981,
          1985,
          1987,
          1991,
          2004,
          2006,
          2007,
          2010,
          2011,
          2012,
          2013,
          2014,
          2015,
          2016,
          2017,
          2018,
          1973,
          1974,
          1975,
          1976,
          1977,
          1978,
          1979,
          1980,
          1981,
          1982,
          1983,
          1984,
          1985,
          1986,
          1989,
          1990,
          1991,
          1992,
          1993,
          1994,
          1995,
          1996,
          1997,
          1999,
          2000,
          2001,
          2002,
          2003,
          2004,
          2005,
          2006,
          2007,
          2008,
          2009,
          2010,
          2011,
          2012,
          2013,
          2014,
          2015,
          2016,
          2017,
          2018,
          2019,
          2020,
          2021,
          1955,
          1965,
          1968,
          1979,
          1984,
          1986,
          1987,
          1988,
          1989,
          1990,
          1991,
          1992,
          1993,
          1994,
          1995,
          1996,
          1997,
          1998,
          1999,
          2000,
          2001,
          2002,
          2003,
          2004,
          2005,
          2006,
          2007,
          2008,
          2009,
          2010,
          2011,
          2012,
          2013,
          2014,
          2015,
          2016,
          2017,
          2018,
          2019,
          2020,
          2021,
          1962,
          1967,
          1968,
          1971,
          1972,
          1973,
          1974,
          1976,
          1978,
          1979,
          1980,
          1981,
          1982,
          1984,
          1986,
          1987,
          1988,
          1989,
          1990,
          1991,
          1992,
          1993,
          1994,
          1995,
          1996,
          1997,
          1998,
          1999,
          2000,
          2001,
          2002,
          2003,
          2004,
          2005,
          2006,
          2007,
          2008,
          2009,
          2010,
          2011,
          2012,
          2013,
          2014,
          2015,
          2016,
          2017,
          2018,
          2019,
          2020,
          2021,
          1942,
          1944,
          1945,
          1954,
          1955,
          1956,
          1958,
          1959,
          1960,
          1961,
          1964,
          1965,
          1967,
          1971,
          1972,
          1973,
          1974,
          1975,
          1976,
          1977,
          1979,
          1980,
          1981,
          1982,
          1983,
          1984,
          1985,
          1986,
          1987,
          1988,
          1989,
          1990,
          1991,
          1992,
          1993,
          1994,
          1995,
          1996,
          1997,
          1998,
          1999,
          2000,
          2001,
          2002,
          2003,
          2004,
          2005,
          2006,
          2007,
          2008,
          2009,
          2010,
          2011,
          2012,
          2013,
          2014,
          2015,
          2016,
          2017,
          2018,
          2019,
          2020,
          2021,
          1954,
          1978,
          1999,
          2008,
          2010,
          2011,
          2012,
          2013,
          2014,
          2015,
          2016,
          2017,
          2018,
          2019,
          2020,
          2021,
          1945,
          1963,
          1967,
          1970,
          1972,
          1973,
          1975,
          1976,
          1977,
          1978,
          1979,
          1981,
          1982,
          1983,
          1984,
          1985,
          1986,
          1987,
          1988,
          1989,
          1990,
          1991,
          1992,
          1993,
          1994,
          1997,
          1998,
          1999,
          2000,
          2001,
          2002,
          2003,
          2004,
          2005,
          2006,
          2007,
          2008,
          2009,
          2010,
          2011,
          2012,
          2013,
          2014,
          2015,
          2016,
          2017,
          2018,
          2019,
          2020,
          2021,
          1943,
          1944,
          1946,
          1947,
          1955,
          1960,
          1962,
          1966,
          1969,
          1970,
          1972,
          1974,
          1975,
          1976,
          1977,
          1978,
          1979,
          1980,
          1981,
          1982,
          1987,
          1988,
          1989,
          1991,
          1993,
          1994,
          1995,
          1996,
          1997,
          1998,
          1999,
          2000,
          2001,
          2002,
          2003,
          2004,
          2005,
          2006,
          2007,
          2008,
          2009,
          2010,
          2011,
          2012,
          2013,
          2014,
          2015,
          2016,
          2017,
          2018,
          2019,
          2020,
          2021,
          2003,
          2007,
          2008,
          2010,
          2011,
          2012,
          2013,
          2014,
          2015,
          2016,
          2017,
          2018,
          2019,
          2020,
          2021,
          2001,
          2006,
          2008,
          2009,
          2010,
          2011,
          2012,
          2013,
          2014,
          2015,
          2016,
          2017,
          2018,
          2019,
          2020,
          2021,
          2012,
          2013,
          2016,
          2018,
          1974,
          2008,
          2016
         ],
         "xaxis": "x",
         "y": [
          "66 min",
          "74 min",
          "84 min",
          "G",
          "G",
          "G",
          "G",
          "G",
          "G",
          "G",
          "G",
          "G",
          "G",
          "G",
          "G",
          "G",
          "G",
          "G",
          "G",
          "G",
          "G",
          "G",
          "G",
          "G",
          "G",
          "G",
          "G",
          "G",
          "G",
          "G",
          "NC-17",
          "NC-17",
          "NC-17",
          "NR",
          "NR",
          "NR",
          "NR",
          "NR",
          "NR",
          "NR",
          "NR",
          "NR",
          "NR",
          "NR",
          "NR",
          "NR",
          "NR",
          "NR",
          "NR",
          "NR",
          "NR",
          "PG",
          "PG",
          "PG",
          "PG",
          "PG",
          "PG",
          "PG",
          "PG",
          "PG",
          "PG",
          "PG",
          "PG",
          "PG",
          "PG",
          "PG",
          "PG",
          "PG",
          "PG",
          "PG",
          "PG",
          "PG",
          "PG",
          "PG",
          "PG",
          "PG",
          "PG",
          "PG",
          "PG",
          "PG",
          "PG",
          "PG",
          "PG",
          "PG",
          "PG",
          "PG",
          "PG",
          "PG",
          "PG",
          "PG",
          "PG",
          "PG",
          "PG",
          "PG",
          "PG",
          "PG",
          "PG",
          "PG-13",
          "PG-13",
          "PG-13",
          "PG-13",
          "PG-13",
          "PG-13",
          "PG-13",
          "PG-13",
          "PG-13",
          "PG-13",
          "PG-13",
          "PG-13",
          "PG-13",
          "PG-13",
          "PG-13",
          "PG-13",
          "PG-13",
          "PG-13",
          "PG-13",
          "PG-13",
          "PG-13",
          "PG-13",
          "PG-13",
          "PG-13",
          "PG-13",
          "PG-13",
          "PG-13",
          "PG-13",
          "PG-13",
          "PG-13",
          "PG-13",
          "PG-13",
          "PG-13",
          "PG-13",
          "PG-13",
          "PG-13",
          "PG-13",
          "PG-13",
          "PG-13",
          "PG-13",
          "PG-13",
          "R",
          "R",
          "R",
          "R",
          "R",
          "R",
          "R",
          "R",
          "R",
          "R",
          "R",
          "R",
          "R",
          "R",
          "R",
          "R",
          "R",
          "R",
          "R",
          "R",
          "R",
          "R",
          "R",
          "R",
          "R",
          "R",
          "R",
          "R",
          "R",
          "R",
          "R",
          "R",
          "R",
          "R",
          "R",
          "R",
          "R",
          "R",
          "R",
          "R",
          "R",
          "R",
          "R",
          "R",
          "R",
          "R",
          "R",
          "R",
          "R",
          "R",
          "TV-14",
          "TV-14",
          "TV-14",
          "TV-14",
          "TV-14",
          "TV-14",
          "TV-14",
          "TV-14",
          "TV-14",
          "TV-14",
          "TV-14",
          "TV-14",
          "TV-14",
          "TV-14",
          "TV-14",
          "TV-14",
          "TV-14",
          "TV-14",
          "TV-14",
          "TV-14",
          "TV-14",
          "TV-14",
          "TV-14",
          "TV-14",
          "TV-14",
          "TV-14",
          "TV-14",
          "TV-14",
          "TV-14",
          "TV-14",
          "TV-14",
          "TV-14",
          "TV-14",
          "TV-14",
          "TV-14",
          "TV-14",
          "TV-14",
          "TV-14",
          "TV-14",
          "TV-14",
          "TV-14",
          "TV-14",
          "TV-14",
          "TV-14",
          "TV-14",
          "TV-14",
          "TV-14",
          "TV-14",
          "TV-14",
          "TV-14",
          "TV-14",
          "TV-14",
          "TV-14",
          "TV-14",
          "TV-14",
          "TV-14",
          "TV-14",
          "TV-14",
          "TV-14",
          "TV-14",
          "TV-14",
          "TV-14",
          "TV-14",
          "TV-G",
          "TV-G",
          "TV-G",
          "TV-G",
          "TV-G",
          "TV-G",
          "TV-G",
          "TV-G",
          "TV-G",
          "TV-G",
          "TV-G",
          "TV-G",
          "TV-G",
          "TV-G",
          "TV-G",
          "TV-G",
          "TV-MA",
          "TV-MA",
          "TV-MA",
          "TV-MA",
          "TV-MA",
          "TV-MA",
          "TV-MA",
          "TV-MA",
          "TV-MA",
          "TV-MA",
          "TV-MA",
          "TV-MA",
          "TV-MA",
          "TV-MA",
          "TV-MA",
          "TV-MA",
          "TV-MA",
          "TV-MA",
          "TV-MA",
          "TV-MA",
          "TV-MA",
          "TV-MA",
          "TV-MA",
          "TV-MA",
          "TV-MA",
          "TV-MA",
          "TV-MA",
          "TV-MA",
          "TV-MA",
          "TV-MA",
          "TV-MA",
          "TV-MA",
          "TV-MA",
          "TV-MA",
          "TV-MA",
          "TV-MA",
          "TV-MA",
          "TV-MA",
          "TV-MA",
          "TV-MA",
          "TV-MA",
          "TV-MA",
          "TV-MA",
          "TV-MA",
          "TV-MA",
          "TV-MA",
          "TV-MA",
          "TV-MA",
          "TV-MA",
          "TV-MA",
          "TV-PG",
          "TV-PG",
          "TV-PG",
          "TV-PG",
          "TV-PG",
          "TV-PG",
          "TV-PG",
          "TV-PG",
          "TV-PG",
          "TV-PG",
          "TV-PG",
          "TV-PG",
          "TV-PG",
          "TV-PG",
          "TV-PG",
          "TV-PG",
          "TV-PG",
          "TV-PG",
          "TV-PG",
          "TV-PG",
          "TV-PG",
          "TV-PG",
          "TV-PG",
          "TV-PG",
          "TV-PG",
          "TV-PG",
          "TV-PG",
          "TV-PG",
          "TV-PG",
          "TV-PG",
          "TV-PG",
          "TV-PG",
          "TV-PG",
          "TV-PG",
          "TV-PG",
          "TV-PG",
          "TV-PG",
          "TV-PG",
          "TV-PG",
          "TV-PG",
          "TV-PG",
          "TV-PG",
          "TV-PG",
          "TV-PG",
          "TV-PG",
          "TV-PG",
          "TV-PG",
          "TV-PG",
          "TV-PG",
          "TV-PG",
          "TV-PG",
          "TV-PG",
          "TV-PG",
          "TV-Y",
          "TV-Y",
          "TV-Y",
          "TV-Y",
          "TV-Y",
          "TV-Y",
          "TV-Y",
          "TV-Y",
          "TV-Y",
          "TV-Y",
          "TV-Y",
          "TV-Y",
          "TV-Y",
          "TV-Y",
          "TV-Y",
          "TV-Y7",
          "TV-Y7",
          "TV-Y7",
          "TV-Y7",
          "TV-Y7",
          "TV-Y7",
          "TV-Y7",
          "TV-Y7",
          "TV-Y7",
          "TV-Y7",
          "TV-Y7",
          "TV-Y7",
          "TV-Y7",
          "TV-Y7",
          "TV-Y7",
          "TV-Y7",
          "TV-Y7-FV",
          "TV-Y7-FV",
          "TV-Y7-FV",
          "TV-Y7-FV",
          "UR",
          "UR",
          "UR"
         ],
         "yaxis": "y"
        },
        {
         "hovertemplate": "<b>%{hovertext}</b><br><br>type=TV Show<br>release_year=%{x}<br>rating=%{y}<br>counts=%{marker.size}<extra></extra>",
         "hovertext": [
          "TV Show",
          "TV Show",
          "TV Show",
          "TV Show",
          "TV Show",
          "TV Show",
          "TV Show",
          "TV Show",
          "TV Show",
          "TV Show",
          "TV Show",
          "TV Show",
          "TV Show",
          "TV Show",
          "TV Show",
          "TV Show",
          "TV Show",
          "TV Show",
          "TV Show",
          "TV Show",
          "TV Show",
          "TV Show",
          "TV Show",
          "TV Show",
          "TV Show",
          "TV Show",
          "TV Show",
          "TV Show",
          "TV Show",
          "TV Show",
          "TV Show",
          "TV Show",
          "TV Show",
          "TV Show",
          "TV Show",
          "TV Show",
          "TV Show",
          "TV Show",
          "TV Show",
          "TV Show",
          "TV Show",
          "TV Show",
          "TV Show",
          "TV Show",
          "TV Show",
          "TV Show",
          "TV Show",
          "TV Show",
          "TV Show",
          "TV Show",
          "TV Show",
          "TV Show",
          "TV Show",
          "TV Show",
          "TV Show",
          "TV Show",
          "TV Show",
          "TV Show",
          "TV Show",
          "TV Show",
          "TV Show",
          "TV Show",
          "TV Show",
          "TV Show",
          "TV Show",
          "TV Show",
          "TV Show",
          "TV Show",
          "TV Show",
          "TV Show",
          "TV Show",
          "TV Show",
          "TV Show",
          "TV Show",
          "TV Show",
          "TV Show",
          "TV Show",
          "TV Show",
          "TV Show",
          "TV Show",
          "TV Show",
          "TV Show",
          "TV Show",
          "TV Show",
          "TV Show",
          "TV Show",
          "TV Show",
          "TV Show",
          "TV Show",
          "TV Show",
          "TV Show",
          "TV Show",
          "TV Show",
          "TV Show",
          "TV Show",
          "TV Show",
          "TV Show",
          "TV Show",
          "TV Show",
          "TV Show",
          "TV Show",
          "TV Show",
          "TV Show",
          "TV Show",
          "TV Show",
          "TV Show",
          "TV Show",
          "TV Show",
          "TV Show",
          "TV Show",
          "TV Show",
          "TV Show",
          "TV Show",
          "TV Show",
          "TV Show",
          "TV Show",
          "TV Show",
          "TV Show",
          "TV Show",
          "TV Show",
          "TV Show",
          "TV Show",
          "TV Show",
          "TV Show",
          "TV Show",
          "TV Show",
          "TV Show",
          "TV Show",
          "TV Show",
          "TV Show",
          "TV Show",
          "TV Show",
          "TV Show",
          "TV Show",
          "TV Show",
          "TV Show",
          "TV Show",
          "TV Show",
          "TV Show",
          "TV Show",
          "TV Show",
          "TV Show",
          "TV Show",
          "TV Show",
          "TV Show",
          "TV Show",
          "TV Show",
          "TV Show",
          "TV Show",
          "TV Show",
          "TV Show",
          "TV Show",
          "TV Show",
          "TV Show",
          "TV Show",
          "TV Show"
         ],
         "legendgroup": "TV Show",
         "marker": {
          "color": "#EF553B",
          "size": [
           1,
           3,
           1,
           1,
           1,
           1,
           1,
           1,
           1,
           2,
           2,
           1,
           4,
           3,
           3,
           6,
           3,
           5,
           7,
           4,
           9,
           15,
           15,
           18,
           27,
           22,
           34,
           57,
           78,
           69,
           92,
           92,
           83,
           78,
           1,
           1,
           1,
           1,
           1,
           2,
           1,
           1,
           3,
           1,
           1,
           1,
           8,
           4,
           5,
           9,
           6,
           8,
           8,
           19,
           12,
           1,
           1,
           1,
           1,
           1,
           1,
           2,
           2,
           4,
           4,
           5,
           5,
           10,
           9,
           7,
           13,
           16,
           17,
           49,
           68,
           114,
           191,
           214,
           249,
           160,
           1,
           1,
           2,
           1,
           2,
           1,
           1,
           1,
           1,
           2,
           1,
           2,
           1,
           1,
           2,
           1,
           3,
           6,
           10,
           7,
           13,
           9,
           21,
           28,
           45,
           31,
           34,
           36,
           34,
           25,
           1,
           1,
           1,
           1,
           1,
           4,
           4,
           6,
           8,
           10,
           23,
           18,
           28,
           25,
           25,
           20,
           1,
           1,
           1,
           2,
           1,
           1,
           2,
           2,
           1,
           1,
           2,
           1,
           3,
           1,
           3,
           2,
           2,
           2,
           3,
           4,
           4,
           3,
           10,
           20,
           27,
           27,
           22,
           26,
           20,
           1
          ],
          "sizemode": "area",
          "sizeref": 0.1432,
          "symbol": "circle"
         },
         "mode": "markers",
         "name": "TV Show",
         "orientation": "h",
         "showlegend": true,
         "type": "scatter",
         "x": [
          2004,
          2013,
          2015,
          2015,
          2016,
          1925,
          1946,
          1963,
          1974,
          1986,
          1990,
          1998,
          1999,
          2001,
          2002,
          2003,
          2004,
          2005,
          2006,
          2007,
          2008,
          2009,
          2010,
          2011,
          2012,
          2013,
          2014,
          2015,
          2016,
          2017,
          2018,
          2019,
          2020,
          2021,
          1967,
          1991,
          1993,
          1994,
          1995,
          1997,
          1998,
          2001,
          2008,
          2009,
          2011,
          2012,
          2013,
          2014,
          2015,
          2016,
          2017,
          2018,
          2019,
          2020,
          2021,
          1945,
          1972,
          1985,
          1993,
          1995,
          1999,
          2002,
          2004,
          2005,
          2006,
          2007,
          2008,
          2009,
          2010,
          2011,
          2012,
          2013,
          2014,
          2015,
          2016,
          2017,
          2018,
          2019,
          2020,
          2021,
          1977,
          1979,
          1988,
          1990,
          1992,
          1993,
          1994,
          1996,
          1998,
          2000,
          2002,
          2003,
          2004,
          2005,
          2006,
          2007,
          2008,
          2009,
          2010,
          2011,
          2012,
          2013,
          2014,
          2015,
          2016,
          2017,
          2018,
          2019,
          2020,
          2021,
          1992,
          1997,
          2004,
          2007,
          2008,
          2010,
          2011,
          2012,
          2014,
          2015,
          2016,
          2017,
          2018,
          2019,
          2020,
          2021,
          1981,
          1989,
          1993,
          1996,
          1997,
          1998,
          1999,
          2000,
          2001,
          2002,
          2003,
          2004,
          2005,
          2006,
          2007,
          2008,
          2009,
          2010,
          2011,
          2012,
          2013,
          2014,
          2015,
          2016,
          2017,
          2018,
          2019,
          2020,
          2021,
          2014
         ],
         "xaxis": "x",
         "y": [
          "NR",
          "NR",
          "NR",
          "R",
          "R",
          "TV-14",
          "TV-14",
          "TV-14",
          "TV-14",
          "TV-14",
          "TV-14",
          "TV-14",
          "TV-14",
          "TV-14",
          "TV-14",
          "TV-14",
          "TV-14",
          "TV-14",
          "TV-14",
          "TV-14",
          "TV-14",
          "TV-14",
          "TV-14",
          "TV-14",
          "TV-14",
          "TV-14",
          "TV-14",
          "TV-14",
          "TV-14",
          "TV-14",
          "TV-14",
          "TV-14",
          "TV-14",
          "TV-14",
          "TV-G",
          "TV-G",
          "TV-G",
          "TV-G",
          "TV-G",
          "TV-G",
          "TV-G",
          "TV-G",
          "TV-G",
          "TV-G",
          "TV-G",
          "TV-G",
          "TV-G",
          "TV-G",
          "TV-G",
          "TV-G",
          "TV-G",
          "TV-G",
          "TV-G",
          "TV-G",
          "TV-G",
          "TV-MA",
          "TV-MA",
          "TV-MA",
          "TV-MA",
          "TV-MA",
          "TV-MA",
          "TV-MA",
          "TV-MA",
          "TV-MA",
          "TV-MA",
          "TV-MA",
          "TV-MA",
          "TV-MA",
          "TV-MA",
          "TV-MA",
          "TV-MA",
          "TV-MA",
          "TV-MA",
          "TV-MA",
          "TV-MA",
          "TV-MA",
          "TV-MA",
          "TV-MA",
          "TV-MA",
          "TV-MA",
          "TV-PG",
          "TV-PG",
          "TV-PG",
          "TV-PG",
          "TV-PG",
          "TV-PG",
          "TV-PG",
          "TV-PG",
          "TV-PG",
          "TV-PG",
          "TV-PG",
          "TV-PG",
          "TV-PG",
          "TV-PG",
          "TV-PG",
          "TV-PG",
          "TV-PG",
          "TV-PG",
          "TV-PG",
          "TV-PG",
          "TV-PG",
          "TV-PG",
          "TV-PG",
          "TV-PG",
          "TV-PG",
          "TV-PG",
          "TV-PG",
          "TV-PG",
          "TV-PG",
          "TV-PG",
          "TV-Y",
          "TV-Y",
          "TV-Y",
          "TV-Y",
          "TV-Y",
          "TV-Y",
          "TV-Y",
          "TV-Y",
          "TV-Y",
          "TV-Y",
          "TV-Y",
          "TV-Y",
          "TV-Y",
          "TV-Y",
          "TV-Y",
          "TV-Y",
          "TV-Y7",
          "TV-Y7",
          "TV-Y7",
          "TV-Y7",
          "TV-Y7",
          "TV-Y7",
          "TV-Y7",
          "TV-Y7",
          "TV-Y7",
          "TV-Y7",
          "TV-Y7",
          "TV-Y7",
          "TV-Y7",
          "TV-Y7",
          "TV-Y7",
          "TV-Y7",
          "TV-Y7",
          "TV-Y7",
          "TV-Y7",
          "TV-Y7",
          "TV-Y7",
          "TV-Y7",
          "TV-Y7",
          "TV-Y7",
          "TV-Y7",
          "TV-Y7",
          "TV-Y7",
          "TV-Y7",
          "TV-Y7",
          "TV-Y7-FV"
         ],
         "yaxis": "y"
        }
       ],
       "layout": {
        "legend": {
         "itemsizing": "constant",
         "title": {
          "text": "type"
         },
         "tracegroupgap": 0
        },
        "margin": {
         "t": 60
        },
        "template": {
         "data": {
          "bar": [
           {
            "error_x": {
             "color": "#2a3f5f"
            },
            "error_y": {
             "color": "#2a3f5f"
            },
            "marker": {
             "line": {
              "color": "#E5ECF6",
              "width": 0.5
             },
             "pattern": {
              "fillmode": "overlay",
              "size": 10,
              "solidity": 0.2
             }
            },
            "type": "bar"
           }
          ],
          "barpolar": [
           {
            "marker": {
             "line": {
              "color": "#E5ECF6",
              "width": 0.5
             },
             "pattern": {
              "fillmode": "overlay",
              "size": 10,
              "solidity": 0.2
             }
            },
            "type": "barpolar"
           }
          ],
          "carpet": [
           {
            "aaxis": {
             "endlinecolor": "#2a3f5f",
             "gridcolor": "white",
             "linecolor": "white",
             "minorgridcolor": "white",
             "startlinecolor": "#2a3f5f"
            },
            "baxis": {
             "endlinecolor": "#2a3f5f",
             "gridcolor": "white",
             "linecolor": "white",
             "minorgridcolor": "white",
             "startlinecolor": "#2a3f5f"
            },
            "type": "carpet"
           }
          ],
          "choropleth": [
           {
            "colorbar": {
             "outlinewidth": 0,
             "ticks": ""
            },
            "type": "choropleth"
           }
          ],
          "contour": [
           {
            "colorbar": {
             "outlinewidth": 0,
             "ticks": ""
            },
            "colorscale": [
             [
              0,
              "#0d0887"
             ],
             [
              0.1111111111111111,
              "#46039f"
             ],
             [
              0.2222222222222222,
              "#7201a8"
             ],
             [
              0.3333333333333333,
              "#9c179e"
             ],
             [
              0.4444444444444444,
              "#bd3786"
             ],
             [
              0.5555555555555556,
              "#d8576b"
             ],
             [
              0.6666666666666666,
              "#ed7953"
             ],
             [
              0.7777777777777778,
              "#fb9f3a"
             ],
             [
              0.8888888888888888,
              "#fdca26"
             ],
             [
              1,
              "#f0f921"
             ]
            ],
            "type": "contour"
           }
          ],
          "contourcarpet": [
           {
            "colorbar": {
             "outlinewidth": 0,
             "ticks": ""
            },
            "type": "contourcarpet"
           }
          ],
          "heatmap": [
           {
            "colorbar": {
             "outlinewidth": 0,
             "ticks": ""
            },
            "colorscale": [
             [
              0,
              "#0d0887"
             ],
             [
              0.1111111111111111,
              "#46039f"
             ],
             [
              0.2222222222222222,
              "#7201a8"
             ],
             [
              0.3333333333333333,
              "#9c179e"
             ],
             [
              0.4444444444444444,
              "#bd3786"
             ],
             [
              0.5555555555555556,
              "#d8576b"
             ],
             [
              0.6666666666666666,
              "#ed7953"
             ],
             [
              0.7777777777777778,
              "#fb9f3a"
             ],
             [
              0.8888888888888888,
              "#fdca26"
             ],
             [
              1,
              "#f0f921"
             ]
            ],
            "type": "heatmap"
           }
          ],
          "heatmapgl": [
           {
            "colorbar": {
             "outlinewidth": 0,
             "ticks": ""
            },
            "colorscale": [
             [
              0,
              "#0d0887"
             ],
             [
              0.1111111111111111,
              "#46039f"
             ],
             [
              0.2222222222222222,
              "#7201a8"
             ],
             [
              0.3333333333333333,
              "#9c179e"
             ],
             [
              0.4444444444444444,
              "#bd3786"
             ],
             [
              0.5555555555555556,
              "#d8576b"
             ],
             [
              0.6666666666666666,
              "#ed7953"
             ],
             [
              0.7777777777777778,
              "#fb9f3a"
             ],
             [
              0.8888888888888888,
              "#fdca26"
             ],
             [
              1,
              "#f0f921"
             ]
            ],
            "type": "heatmapgl"
           }
          ],
          "histogram": [
           {
            "marker": {
             "pattern": {
              "fillmode": "overlay",
              "size": 10,
              "solidity": 0.2
             }
            },
            "type": "histogram"
           }
          ],
          "histogram2d": [
           {
            "colorbar": {
             "outlinewidth": 0,
             "ticks": ""
            },
            "colorscale": [
             [
              0,
              "#0d0887"
             ],
             [
              0.1111111111111111,
              "#46039f"
             ],
             [
              0.2222222222222222,
              "#7201a8"
             ],
             [
              0.3333333333333333,
              "#9c179e"
             ],
             [
              0.4444444444444444,
              "#bd3786"
             ],
             [
              0.5555555555555556,
              "#d8576b"
             ],
             [
              0.6666666666666666,
              "#ed7953"
             ],
             [
              0.7777777777777778,
              "#fb9f3a"
             ],
             [
              0.8888888888888888,
              "#fdca26"
             ],
             [
              1,
              "#f0f921"
             ]
            ],
            "type": "histogram2d"
           }
          ],
          "histogram2dcontour": [
           {
            "colorbar": {
             "outlinewidth": 0,
             "ticks": ""
            },
            "colorscale": [
             [
              0,
              "#0d0887"
             ],
             [
              0.1111111111111111,
              "#46039f"
             ],
             [
              0.2222222222222222,
              "#7201a8"
             ],
             [
              0.3333333333333333,
              "#9c179e"
             ],
             [
              0.4444444444444444,
              "#bd3786"
             ],
             [
              0.5555555555555556,
              "#d8576b"
             ],
             [
              0.6666666666666666,
              "#ed7953"
             ],
             [
              0.7777777777777778,
              "#fb9f3a"
             ],
             [
              0.8888888888888888,
              "#fdca26"
             ],
             [
              1,
              "#f0f921"
             ]
            ],
            "type": "histogram2dcontour"
           }
          ],
          "mesh3d": [
           {
            "colorbar": {
             "outlinewidth": 0,
             "ticks": ""
            },
            "type": "mesh3d"
           }
          ],
          "parcoords": [
           {
            "line": {
             "colorbar": {
              "outlinewidth": 0,
              "ticks": ""
             }
            },
            "type": "parcoords"
           }
          ],
          "pie": [
           {
            "automargin": true,
            "type": "pie"
           }
          ],
          "scatter": [
           {
            "fillpattern": {
             "fillmode": "overlay",
             "size": 10,
             "solidity": 0.2
            },
            "type": "scatter"
           }
          ],
          "scatter3d": [
           {
            "line": {
             "colorbar": {
              "outlinewidth": 0,
              "ticks": ""
             }
            },
            "marker": {
             "colorbar": {
              "outlinewidth": 0,
              "ticks": ""
             }
            },
            "type": "scatter3d"
           }
          ],
          "scattercarpet": [
           {
            "marker": {
             "colorbar": {
              "outlinewidth": 0,
              "ticks": ""
             }
            },
            "type": "scattercarpet"
           }
          ],
          "scattergeo": [
           {
            "marker": {
             "colorbar": {
              "outlinewidth": 0,
              "ticks": ""
             }
            },
            "type": "scattergeo"
           }
          ],
          "scattergl": [
           {
            "marker": {
             "colorbar": {
              "outlinewidth": 0,
              "ticks": ""
             }
            },
            "type": "scattergl"
           }
          ],
          "scattermapbox": [
           {
            "marker": {
             "colorbar": {
              "outlinewidth": 0,
              "ticks": ""
             }
            },
            "type": "scattermapbox"
           }
          ],
          "scatterpolar": [
           {
            "marker": {
             "colorbar": {
              "outlinewidth": 0,
              "ticks": ""
             }
            },
            "type": "scatterpolar"
           }
          ],
          "scatterpolargl": [
           {
            "marker": {
             "colorbar": {
              "outlinewidth": 0,
              "ticks": ""
             }
            },
            "type": "scatterpolargl"
           }
          ],
          "scatterternary": [
           {
            "marker": {
             "colorbar": {
              "outlinewidth": 0,
              "ticks": ""
             }
            },
            "type": "scatterternary"
           }
          ],
          "surface": [
           {
            "colorbar": {
             "outlinewidth": 0,
             "ticks": ""
            },
            "colorscale": [
             [
              0,
              "#0d0887"
             ],
             [
              0.1111111111111111,
              "#46039f"
             ],
             [
              0.2222222222222222,
              "#7201a8"
             ],
             [
              0.3333333333333333,
              "#9c179e"
             ],
             [
              0.4444444444444444,
              "#bd3786"
             ],
             [
              0.5555555555555556,
              "#d8576b"
             ],
             [
              0.6666666666666666,
              "#ed7953"
             ],
             [
              0.7777777777777778,
              "#fb9f3a"
             ],
             [
              0.8888888888888888,
              "#fdca26"
             ],
             [
              1,
              "#f0f921"
             ]
            ],
            "type": "surface"
           }
          ],
          "table": [
           {
            "cells": {
             "fill": {
              "color": "#EBF0F8"
             },
             "line": {
              "color": "white"
             }
            },
            "header": {
             "fill": {
              "color": "#C8D4E3"
             },
             "line": {
              "color": "white"
             }
            },
            "type": "table"
           }
          ]
         },
         "layout": {
          "annotationdefaults": {
           "arrowcolor": "#2a3f5f",
           "arrowhead": 0,
           "arrowwidth": 1
          },
          "autotypenumbers": "strict",
          "coloraxis": {
           "colorbar": {
            "outlinewidth": 0,
            "ticks": ""
           }
          },
          "colorscale": {
           "diverging": [
            [
             0,
             "#8e0152"
            ],
            [
             0.1,
             "#c51b7d"
            ],
            [
             0.2,
             "#de77ae"
            ],
            [
             0.3,
             "#f1b6da"
            ],
            [
             0.4,
             "#fde0ef"
            ],
            [
             0.5,
             "#f7f7f7"
            ],
            [
             0.6,
             "#e6f5d0"
            ],
            [
             0.7,
             "#b8e186"
            ],
            [
             0.8,
             "#7fbc41"
            ],
            [
             0.9,
             "#4d9221"
            ],
            [
             1,
             "#276419"
            ]
           ],
           "sequential": [
            [
             0,
             "#0d0887"
            ],
            [
             0.1111111111111111,
             "#46039f"
            ],
            [
             0.2222222222222222,
             "#7201a8"
            ],
            [
             0.3333333333333333,
             "#9c179e"
            ],
            [
             0.4444444444444444,
             "#bd3786"
            ],
            [
             0.5555555555555556,
             "#d8576b"
            ],
            [
             0.6666666666666666,
             "#ed7953"
            ],
            [
             0.7777777777777778,
             "#fb9f3a"
            ],
            [
             0.8888888888888888,
             "#fdca26"
            ],
            [
             1,
             "#f0f921"
            ]
           ],
           "sequentialminus": [
            [
             0,
             "#0d0887"
            ],
            [
             0.1111111111111111,
             "#46039f"
            ],
            [
             0.2222222222222222,
             "#7201a8"
            ],
            [
             0.3333333333333333,
             "#9c179e"
            ],
            [
             0.4444444444444444,
             "#bd3786"
            ],
            [
             0.5555555555555556,
             "#d8576b"
            ],
            [
             0.6666666666666666,
             "#ed7953"
            ],
            [
             0.7777777777777778,
             "#fb9f3a"
            ],
            [
             0.8888888888888888,
             "#fdca26"
            ],
            [
             1,
             "#f0f921"
            ]
           ]
          },
          "colorway": [
           "#636efa",
           "#EF553B",
           "#00cc96",
           "#ab63fa",
           "#FFA15A",
           "#19d3f3",
           "#FF6692",
           "#B6E880",
           "#FF97FF",
           "#FECB52"
          ],
          "font": {
           "color": "#2a3f5f"
          },
          "geo": {
           "bgcolor": "white",
           "lakecolor": "white",
           "landcolor": "#E5ECF6",
           "showlakes": true,
           "showland": true,
           "subunitcolor": "white"
          },
          "hoverlabel": {
           "align": "left"
          },
          "hovermode": "closest",
          "mapbox": {
           "style": "light"
          },
          "paper_bgcolor": "white",
          "plot_bgcolor": "#E5ECF6",
          "polar": {
           "angularaxis": {
            "gridcolor": "white",
            "linecolor": "white",
            "ticks": ""
           },
           "bgcolor": "#E5ECF6",
           "radialaxis": {
            "gridcolor": "white",
            "linecolor": "white",
            "ticks": ""
           }
          },
          "scene": {
           "xaxis": {
            "backgroundcolor": "#E5ECF6",
            "gridcolor": "white",
            "gridwidth": 2,
            "linecolor": "white",
            "showbackground": true,
            "ticks": "",
            "zerolinecolor": "white"
           },
           "yaxis": {
            "backgroundcolor": "#E5ECF6",
            "gridcolor": "white",
            "gridwidth": 2,
            "linecolor": "white",
            "showbackground": true,
            "ticks": "",
            "zerolinecolor": "white"
           },
           "zaxis": {
            "backgroundcolor": "#E5ECF6",
            "gridcolor": "white",
            "gridwidth": 2,
            "linecolor": "white",
            "showbackground": true,
            "ticks": "",
            "zerolinecolor": "white"
           }
          },
          "shapedefaults": {
           "line": {
            "color": "#2a3f5f"
           }
          },
          "ternary": {
           "aaxis": {
            "gridcolor": "white",
            "linecolor": "white",
            "ticks": ""
           },
           "baxis": {
            "gridcolor": "white",
            "linecolor": "white",
            "ticks": ""
           },
           "bgcolor": "#E5ECF6",
           "caxis": {
            "gridcolor": "white",
            "linecolor": "white",
            "ticks": ""
           }
          },
          "title": {
           "x": 0.05
          },
          "xaxis": {
           "automargin": true,
           "gridcolor": "white",
           "linecolor": "white",
           "ticks": "",
           "title": {
            "standoff": 15
           },
           "zerolinecolor": "white",
           "zerolinewidth": 2
          },
          "yaxis": {
           "automargin": true,
           "gridcolor": "white",
           "linecolor": "white",
           "ticks": "",
           "title": {
            "standoff": 15
           },
           "zerolinecolor": "white",
           "zerolinewidth": 2
          }
         }
        },
        "xaxis": {
         "anchor": "y",
         "domain": [
          0,
          1
         ],
         "title": {
          "text": "release_year"
         },
         "type": "log"
        },
        "yaxis": {
         "anchor": "x",
         "domain": [
          0,
          1
         ],
         "title": {
          "text": "rating"
         }
        }
       }
      }
     },
     "metadata": {},
     "output_type": "display_data"
    }
   ],
   "source": [
    "t=dff.groupby([\"type\",\"rating\",\"release_year\"]).size().reset_index(name=\"counts\")\n",
    "fig = px.scatter(t, x=\"release_year\", y=\"rating\",\n",
    "\t         size=\"counts\", color=\"type\",\n",
    "                 hover_name=\"type\", log_x=True, size_max=50)\n",
    "fig.show()"
   ]
  },
  {
   "cell_type": "code",
   "execution_count": 106,
   "metadata": {},
   "outputs": [
    {
     "name": "stderr",
     "output_type": "stream",
     "text": [
      "C:\\Users\\qqwe\\AppData\\Local\\Temp\\ipykernel_672\\1711614309.py:10: SettingWithCopyWarning:\n",
      "\n",
      "\n",
      "A value is trying to be set on a copy of a slice from a DataFrame.\n",
      "Try using .loc[row_indexer,col_indexer] = value instead\n",
      "\n",
      "See the caveats in the documentation: https://pandas.pydata.org/pandas-docs/stable/user_guide/indexing.html#returning-a-view-versus-a-copy\n",
      "\n"
     ]
    },
    {
     "data": {
      "application/vnd.plotly.v1+json": {
       "config": {
        "plotlyServerURL": "https://plot.ly"
       },
       "data": [
        {
         "alignmentgroup": "True",
         "hovertemplate": "Country=%{x}<br>Total Content=%{y}<extra></extra>",
         "legendgroup": "",
         "marker": {
          "color": "#636efa",
          "pattern": {
           "shape": ""
          }
         },
         "name": "",
         "offsetgroup": "",
         "orientation": "v",
         "showlegend": false,
         "textposition": "auto",
         "type": "bar",
         "x": [
          "United States",
          "India",
          "United Kingdom",
          "Canada",
          "Japan",
          "France",
          "South Korea",
          "Spain",
          "Mexico",
          "Germany",
          "Australia"
         ],
         "xaxis": "x",
         "y": [
          3211,
          1008,
          628,
          271,
          259,
          212,
          211,
          181,
          134,
          123,
          117
         ],
         "yaxis": "y"
        }
       ],
       "layout": {
        "barmode": "relative",
        "legend": {
         "tracegroupgap": 0
        },
        "margin": {
         "t": 60
        },
        "template": {
         "data": {
          "bar": [
           {
            "error_x": {
             "color": "#2a3f5f"
            },
            "error_y": {
             "color": "#2a3f5f"
            },
            "marker": {
             "line": {
              "color": "#E5ECF6",
              "width": 0.5
             },
             "pattern": {
              "fillmode": "overlay",
              "size": 10,
              "solidity": 0.2
             }
            },
            "type": "bar"
           }
          ],
          "barpolar": [
           {
            "marker": {
             "line": {
              "color": "#E5ECF6",
              "width": 0.5
             },
             "pattern": {
              "fillmode": "overlay",
              "size": 10,
              "solidity": 0.2
             }
            },
            "type": "barpolar"
           }
          ],
          "carpet": [
           {
            "aaxis": {
             "endlinecolor": "#2a3f5f",
             "gridcolor": "white",
             "linecolor": "white",
             "minorgridcolor": "white",
             "startlinecolor": "#2a3f5f"
            },
            "baxis": {
             "endlinecolor": "#2a3f5f",
             "gridcolor": "white",
             "linecolor": "white",
             "minorgridcolor": "white",
             "startlinecolor": "#2a3f5f"
            },
            "type": "carpet"
           }
          ],
          "choropleth": [
           {
            "colorbar": {
             "outlinewidth": 0,
             "ticks": ""
            },
            "type": "choropleth"
           }
          ],
          "contour": [
           {
            "colorbar": {
             "outlinewidth": 0,
             "ticks": ""
            },
            "colorscale": [
             [
              0,
              "#0d0887"
             ],
             [
              0.1111111111111111,
              "#46039f"
             ],
             [
              0.2222222222222222,
              "#7201a8"
             ],
             [
              0.3333333333333333,
              "#9c179e"
             ],
             [
              0.4444444444444444,
              "#bd3786"
             ],
             [
              0.5555555555555556,
              "#d8576b"
             ],
             [
              0.6666666666666666,
              "#ed7953"
             ],
             [
              0.7777777777777778,
              "#fb9f3a"
             ],
             [
              0.8888888888888888,
              "#fdca26"
             ],
             [
              1,
              "#f0f921"
             ]
            ],
            "type": "contour"
           }
          ],
          "contourcarpet": [
           {
            "colorbar": {
             "outlinewidth": 0,
             "ticks": ""
            },
            "type": "contourcarpet"
           }
          ],
          "heatmap": [
           {
            "colorbar": {
             "outlinewidth": 0,
             "ticks": ""
            },
            "colorscale": [
             [
              0,
              "#0d0887"
             ],
             [
              0.1111111111111111,
              "#46039f"
             ],
             [
              0.2222222222222222,
              "#7201a8"
             ],
             [
              0.3333333333333333,
              "#9c179e"
             ],
             [
              0.4444444444444444,
              "#bd3786"
             ],
             [
              0.5555555555555556,
              "#d8576b"
             ],
             [
              0.6666666666666666,
              "#ed7953"
             ],
             [
              0.7777777777777778,
              "#fb9f3a"
             ],
             [
              0.8888888888888888,
              "#fdca26"
             ],
             [
              1,
              "#f0f921"
             ]
            ],
            "type": "heatmap"
           }
          ],
          "heatmapgl": [
           {
            "colorbar": {
             "outlinewidth": 0,
             "ticks": ""
            },
            "colorscale": [
             [
              0,
              "#0d0887"
             ],
             [
              0.1111111111111111,
              "#46039f"
             ],
             [
              0.2222222222222222,
              "#7201a8"
             ],
             [
              0.3333333333333333,
              "#9c179e"
             ],
             [
              0.4444444444444444,
              "#bd3786"
             ],
             [
              0.5555555555555556,
              "#d8576b"
             ],
             [
              0.6666666666666666,
              "#ed7953"
             ],
             [
              0.7777777777777778,
              "#fb9f3a"
             ],
             [
              0.8888888888888888,
              "#fdca26"
             ],
             [
              1,
              "#f0f921"
             ]
            ],
            "type": "heatmapgl"
           }
          ],
          "histogram": [
           {
            "marker": {
             "pattern": {
              "fillmode": "overlay",
              "size": 10,
              "solidity": 0.2
             }
            },
            "type": "histogram"
           }
          ],
          "histogram2d": [
           {
            "colorbar": {
             "outlinewidth": 0,
             "ticks": ""
            },
            "colorscale": [
             [
              0,
              "#0d0887"
             ],
             [
              0.1111111111111111,
              "#46039f"
             ],
             [
              0.2222222222222222,
              "#7201a8"
             ],
             [
              0.3333333333333333,
              "#9c179e"
             ],
             [
              0.4444444444444444,
              "#bd3786"
             ],
             [
              0.5555555555555556,
              "#d8576b"
             ],
             [
              0.6666666666666666,
              "#ed7953"
             ],
             [
              0.7777777777777778,
              "#fb9f3a"
             ],
             [
              0.8888888888888888,
              "#fdca26"
             ],
             [
              1,
              "#f0f921"
             ]
            ],
            "type": "histogram2d"
           }
          ],
          "histogram2dcontour": [
           {
            "colorbar": {
             "outlinewidth": 0,
             "ticks": ""
            },
            "colorscale": [
             [
              0,
              "#0d0887"
             ],
             [
              0.1111111111111111,
              "#46039f"
             ],
             [
              0.2222222222222222,
              "#7201a8"
             ],
             [
              0.3333333333333333,
              "#9c179e"
             ],
             [
              0.4444444444444444,
              "#bd3786"
             ],
             [
              0.5555555555555556,
              "#d8576b"
             ],
             [
              0.6666666666666666,
              "#ed7953"
             ],
             [
              0.7777777777777778,
              "#fb9f3a"
             ],
             [
              0.8888888888888888,
              "#fdca26"
             ],
             [
              1,
              "#f0f921"
             ]
            ],
            "type": "histogram2dcontour"
           }
          ],
          "mesh3d": [
           {
            "colorbar": {
             "outlinewidth": 0,
             "ticks": ""
            },
            "type": "mesh3d"
           }
          ],
          "parcoords": [
           {
            "line": {
             "colorbar": {
              "outlinewidth": 0,
              "ticks": ""
             }
            },
            "type": "parcoords"
           }
          ],
          "pie": [
           {
            "automargin": true,
            "type": "pie"
           }
          ],
          "scatter": [
           {
            "fillpattern": {
             "fillmode": "overlay",
             "size": 10,
             "solidity": 0.2
            },
            "type": "scatter"
           }
          ],
          "scatter3d": [
           {
            "line": {
             "colorbar": {
              "outlinewidth": 0,
              "ticks": ""
             }
            },
            "marker": {
             "colorbar": {
              "outlinewidth": 0,
              "ticks": ""
             }
            },
            "type": "scatter3d"
           }
          ],
          "scattercarpet": [
           {
            "marker": {
             "colorbar": {
              "outlinewidth": 0,
              "ticks": ""
             }
            },
            "type": "scattercarpet"
           }
          ],
          "scattergeo": [
           {
            "marker": {
             "colorbar": {
              "outlinewidth": 0,
              "ticks": ""
             }
            },
            "type": "scattergeo"
           }
          ],
          "scattergl": [
           {
            "marker": {
             "colorbar": {
              "outlinewidth": 0,
              "ticks": ""
             }
            },
            "type": "scattergl"
           }
          ],
          "scattermapbox": [
           {
            "marker": {
             "colorbar": {
              "outlinewidth": 0,
              "ticks": ""
             }
            },
            "type": "scattermapbox"
           }
          ],
          "scatterpolar": [
           {
            "marker": {
             "colorbar": {
              "outlinewidth": 0,
              "ticks": ""
             }
            },
            "type": "scatterpolar"
           }
          ],
          "scatterpolargl": [
           {
            "marker": {
             "colorbar": {
              "outlinewidth": 0,
              "ticks": ""
             }
            },
            "type": "scatterpolargl"
           }
          ],
          "scatterternary": [
           {
            "marker": {
             "colorbar": {
              "outlinewidth": 0,
              "ticks": ""
             }
            },
            "type": "scatterternary"
           }
          ],
          "surface": [
           {
            "colorbar": {
             "outlinewidth": 0,
             "ticks": ""
            },
            "colorscale": [
             [
              0,
              "#0d0887"
             ],
             [
              0.1111111111111111,
              "#46039f"
             ],
             [
              0.2222222222222222,
              "#7201a8"
             ],
             [
              0.3333333333333333,
              "#9c179e"
             ],
             [
              0.4444444444444444,
              "#bd3786"
             ],
             [
              0.5555555555555556,
              "#d8576b"
             ],
             [
              0.6666666666666666,
              "#ed7953"
             ],
             [
              0.7777777777777778,
              "#fb9f3a"
             ],
             [
              0.8888888888888888,
              "#fdca26"
             ],
             [
              1,
              "#f0f921"
             ]
            ],
            "type": "surface"
           }
          ],
          "table": [
           {
            "cells": {
             "fill": {
              "color": "#EBF0F8"
             },
             "line": {
              "color": "white"
             }
            },
            "header": {
             "fill": {
              "color": "#C8D4E3"
             },
             "line": {
              "color": "white"
             }
            },
            "type": "table"
           }
          ]
         },
         "layout": {
          "annotationdefaults": {
           "arrowcolor": "#2a3f5f",
           "arrowhead": 0,
           "arrowwidth": 1
          },
          "autotypenumbers": "strict",
          "coloraxis": {
           "colorbar": {
            "outlinewidth": 0,
            "ticks": ""
           }
          },
          "colorscale": {
           "diverging": [
            [
             0,
             "#8e0152"
            ],
            [
             0.1,
             "#c51b7d"
            ],
            [
             0.2,
             "#de77ae"
            ],
            [
             0.3,
             "#f1b6da"
            ],
            [
             0.4,
             "#fde0ef"
            ],
            [
             0.5,
             "#f7f7f7"
            ],
            [
             0.6,
             "#e6f5d0"
            ],
            [
             0.7,
             "#b8e186"
            ],
            [
             0.8,
             "#7fbc41"
            ],
            [
             0.9,
             "#4d9221"
            ],
            [
             1,
             "#276419"
            ]
           ],
           "sequential": [
            [
             0,
             "#0d0887"
            ],
            [
             0.1111111111111111,
             "#46039f"
            ],
            [
             0.2222222222222222,
             "#7201a8"
            ],
            [
             0.3333333333333333,
             "#9c179e"
            ],
            [
             0.4444444444444444,
             "#bd3786"
            ],
            [
             0.5555555555555556,
             "#d8576b"
            ],
            [
             0.6666666666666666,
             "#ed7953"
            ],
            [
             0.7777777777777778,
             "#fb9f3a"
            ],
            [
             0.8888888888888888,
             "#fdca26"
            ],
            [
             1,
             "#f0f921"
            ]
           ],
           "sequentialminus": [
            [
             0,
             "#0d0887"
            ],
            [
             0.1111111111111111,
             "#46039f"
            ],
            [
             0.2222222222222222,
             "#7201a8"
            ],
            [
             0.3333333333333333,
             "#9c179e"
            ],
            [
             0.4444444444444444,
             "#bd3786"
            ],
            [
             0.5555555555555556,
             "#d8576b"
            ],
            [
             0.6666666666666666,
             "#ed7953"
            ],
            [
             0.7777777777777778,
             "#fb9f3a"
            ],
            [
             0.8888888888888888,
             "#fdca26"
            ],
            [
             1,
             "#f0f921"
            ]
           ]
          },
          "colorway": [
           "#636efa",
           "#EF553B",
           "#00cc96",
           "#ab63fa",
           "#FFA15A",
           "#19d3f3",
           "#FF6692",
           "#B6E880",
           "#FF97FF",
           "#FECB52"
          ],
          "font": {
           "color": "#2a3f5f"
          },
          "geo": {
           "bgcolor": "white",
           "lakecolor": "white",
           "landcolor": "#E5ECF6",
           "showlakes": true,
           "showland": true,
           "subunitcolor": "white"
          },
          "hoverlabel": {
           "align": "left"
          },
          "hovermode": "closest",
          "mapbox": {
           "style": "light"
          },
          "paper_bgcolor": "white",
          "plot_bgcolor": "#E5ECF6",
          "polar": {
           "angularaxis": {
            "gridcolor": "white",
            "linecolor": "white",
            "ticks": ""
           },
           "bgcolor": "#E5ECF6",
           "radialaxis": {
            "gridcolor": "white",
            "linecolor": "white",
            "ticks": ""
           }
          },
          "scene": {
           "xaxis": {
            "backgroundcolor": "#E5ECF6",
            "gridcolor": "white",
            "gridwidth": 2,
            "linecolor": "white",
            "showbackground": true,
            "ticks": "",
            "zerolinecolor": "white"
           },
           "yaxis": {
            "backgroundcolor": "#E5ECF6",
            "gridcolor": "white",
            "gridwidth": 2,
            "linecolor": "white",
            "showbackground": true,
            "ticks": "",
            "zerolinecolor": "white"
           },
           "zaxis": {
            "backgroundcolor": "#E5ECF6",
            "gridcolor": "white",
            "gridwidth": 2,
            "linecolor": "white",
            "showbackground": true,
            "ticks": "",
            "zerolinecolor": "white"
           }
          },
          "shapedefaults": {
           "line": {
            "color": "#2a3f5f"
           }
          },
          "ternary": {
           "aaxis": {
            "gridcolor": "white",
            "linecolor": "white",
            "ticks": ""
           },
           "baxis": {
            "gridcolor": "white",
            "linecolor": "white",
            "ticks": ""
           },
           "bgcolor": "#E5ECF6",
           "caxis": {
            "gridcolor": "white",
            "linecolor": "white",
            "ticks": ""
           }
          },
          "title": {
           "x": 0.05
          },
          "xaxis": {
           "automargin": true,
           "gridcolor": "white",
           "linecolor": "white",
           "ticks": "",
           "title": {
            "standoff": 15
           },
           "zerolinecolor": "white",
           "zerolinewidth": 2
          },
          "yaxis": {
           "automargin": true,
           "gridcolor": "white",
           "linecolor": "white",
           "ticks": "",
           "title": {
            "standoff": 15
           },
           "zerolinecolor": "white",
           "zerolinewidth": 2
          }
         }
        },
        "xaxis": {
         "anchor": "y",
         "domain": [
          0,
          1
         ],
         "title": {
          "text": "Country"
         }
        },
        "yaxis": {
         "anchor": "x",
         "domain": [
          0,
          1
         ],
         "title": {
          "text": "Total Content"
         }
        }
       }
      }
     },
     "metadata": {},
     "output_type": "display_data"
    }
   ],
   "source": [
    "dff['country']=dff['country'].fillna('Bilinmiyor')\n",
    "filtered_country=pd.DataFrame()\n",
    "filtered_country=dff['country'].str.split(',',expand=True).stack()\n",
    "filtered_country=filtered_country.to_frame()\n",
    "filtered_country.columns=['Country']\n",
    "country=filtered_country.groupby(['Country']).size().reset_index(name='Total Content')\n",
    "country=country[country.Country !='Bilinmiyor']\n",
    "country=country.sort_values(by=['Total Content'],ascending=False)\n",
    "countryTop5=country.head(15)\n",
    "countryTop5[\"Country\"]=(countryTop5[\"Country\"].str.rstrip()).str.lstrip()\n",
    "\n",
    "df2 = countryTop5.drop_duplicates(subset=[\"Country\"])\n",
    "\n",
    "fig2=px.bar(df2,y='Total Content',x='Country')\n",
    "fig2.show()\n"
   ]
  }
 ],
 "metadata": {
  "kernelspec": {
   "display_name": "Python 3.9.13 ('base')",
   "language": "python",
   "name": "python3"
  },
  "language_info": {
   "codemirror_mode": {
    "name": "ipython",
    "version": 3
   },
   "file_extension": ".py",
   "mimetype": "text/x-python",
   "name": "python",
   "nbconvert_exporter": "python",
   "pygments_lexer": "ipython3",
   "version": "3.9.13"
  },
  "orig_nbformat": 4,
  "vscode": {
   "interpreter": {
    "hash": "ad2bdc8ecc057115af97d19610ffacc2b4e99fae6737bb82f5d7fb13d2f2c186"
   }
  }
 },
 "nbformat": 4,
 "nbformat_minor": 2
}
