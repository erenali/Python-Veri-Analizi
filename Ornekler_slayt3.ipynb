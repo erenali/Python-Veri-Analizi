{
 "cells": [
  {
   "cell_type": "code",
   "execution_count": 2,
   "metadata": {},
   "outputs": [
    {
     "name": "stdout",
     "output_type": "stream",
     "text": [
      "Merhaba ali\n"
     ]
    }
   ],
   "source": [
    "def selamla(isim):\n",
    "    print(\"Merhaba\",isim)\n",
    "    return\n",
    "isim= input(\"isim giriniz\")\n",
    "selamla(isim)"
   ]
  },
  {
   "cell_type": "code",
   "execution_count": 3,
   "metadata": {},
   "outputs": [
    {
     "name": "stdout",
     "output_type": "stream",
     "text": [
      "en büyük sayı 14\n"
     ]
    }
   ],
   "source": [
    "def büyük_bul(x,y,z):\n",
    "    eb=x\n",
    "    if y>eb:\n",
    "        eb=y\n",
    "    if z>eb:\n",
    "        eb=z\n",
    "    return eb\n",
    "sayi1=5\n",
    "sayi2=14\n",
    "sayi3=8\n",
    "\n",
    "eb=büyük_bul(sayi1,sayi2,sayi3)\n",
    "print(\"en büyük sayı {}\".format(eb))\n"
   ]
  },
  {
   "cell_type": "code",
   "execution_count": 7,
   "metadata": {},
   "outputs": [
    {
     "name": "stdout",
     "output_type": "stream",
     "text": [
      "en büyük sayı 34\n"
     ]
    }
   ],
   "source": [
    "def max_bul(listem):\n",
    "    eb=-1\n",
    "    for i in range(len(listem)):\n",
    "        if listem[i]>eb:\n",
    "            eb=listem[i]\n",
    "    return eb\n",
    "\n",
    "sayilar=[3,5,8,21,34,12,2]\n",
    "max=max_bul(sayilar)\n",
    "print(\"en büyük sayı {}\".format(max))"
   ]
  },
  {
   "cell_type": "code",
   "execution_count": 9,
   "metadata": {},
   "outputs": [
    {
     "name": "stdout",
     "output_type": "stream",
     "text": [
      "Ali  Merhaba\n",
      "Ahmet  Merhaba\n",
      "3  Merhaba\n",
      "5  Merhaba\n"
     ]
    }
   ],
   "source": [
    "def selamla(*kisiler):\n",
    "    for k in kisiler:\n",
    "        print(k,\" Merhaba\")\n",
    "\n",
    "selamla(\"Ali\",\"Ahmet\",\"3\",5)"
   ]
  },
  {
   "cell_type": "code",
   "execution_count": 10,
   "metadata": {},
   "outputs": [
    {
     "name": "stdout",
     "output_type": "stream",
     "text": [
      "140\n"
     ]
    }
   ],
   "source": [
    "def toplama(*a):\n",
    "    t=0\n",
    "    for n in a:\n",
    "        t=t+n\n",
    "    return t\n",
    "\n",
    "print(toplama(10,20,50,60))\n"
   ]
  },
  {
   "cell_type": "code",
   "execution_count": 12,
   "metadata": {},
   "outputs": [
    {
     "name": "stdout",
     "output_type": "stream",
     "text": [
      "('pi', 3.14)\n",
      "('e', 2.78)\n"
     ]
    }
   ],
   "source": [
    "def yazdir(**kwargs):\n",
    "    for k in kwargs.items():\n",
    "        print(k)\n",
    "yazdir(pi=3.14,e=2.78) "
   ]
  },
  {
   "cell_type": "code",
   "execution_count": 14,
   "metadata": {},
   "outputs": [
    {
     "name": "stdout",
     "output_type": "stream",
     "text": [
      "24\n"
     ]
    }
   ],
   "source": [
    "def faktoriyel(n):\n",
    "    if n==1:\n",
    "        return n\n",
    "    else:\n",
    "        return n*faktoriyel(n-1)\n",
    "\n",
    "print(faktoriyel(4))\n",
    "    "
   ]
  },
  {
   "cell_type": "code",
   "execution_count": 15,
   "metadata": {},
   "outputs": [
    {
     "name": "stdout",
     "output_type": "stream",
     "text": [
      "1024\n"
     ]
    }
   ],
   "source": [
    "us=lambda x,y:x**y\n",
    "sonuc= us(4,5)\n",
    "print(sonuc)"
   ]
  },
  {
   "cell_type": "code",
   "execution_count": 17,
   "metadata": {},
   "outputs": [
    {
     "name": "stdout",
     "output_type": "stream",
     "text": [
      "sayılar [1, 7, 6, 3]\n",
      "kareleri [1, 49, 36, 9]\n"
     ]
    }
   ],
   "source": [
    "kare=lambda x:x**2\n",
    "sayılar=[1,7,6,3]\n",
    "sonuc=map(kare,sayılar)\n",
    "print(\"sayılar\",sayılar)\n",
    "print(\"kareleri\",list(sonuc))"
   ]
  },
  {
   "cell_type": "code",
   "execution_count": 18,
   "metadata": {},
   "outputs": [
    {
     "name": "stdout",
     "output_type": "stream",
     "text": [
      "[('ali', 2018), ('emin', 2020)]\n"
     ]
    }
   ],
   "source": [
    "kisiler=['ali','ahmet','veli','emin']\n",
    "tarihler=[2018,2022,2023,2020]\n",
    "listem=list( \n",
    "    filter(\n",
    "        lambda zipped: 2018<=zipped[1]<=2020, zip(kisiler,tarihler)\n",
    "    ) \n",
    "    )\n",
    "print(listem)"
   ]
  },
  {
   "cell_type": "code",
   "execution_count": 19,
   "metadata": {},
   "outputs": [
    {
     "name": "stdout",
     "output_type": "stream",
     "text": [
      "1680\n"
     ]
    }
   ],
   "source": [
    "from functools import reduce\n",
    "\n",
    "\n",
    "sayilar= [12,4,5,7]\n",
    "çarpım=reduce(lambda x,y:x*y,sayilar)\n",
    "print(çarpım)"
   ]
  },
  {
   "cell_type": "code",
   "execution_count": 22,
   "metadata": {},
   "outputs": [
    {
     "name": "stdout",
     "output_type": "stream",
     "text": [
      "SOKAKTA SAYAMAM GIBI FIŞTIKÇI ŞAHAP\n"
     ]
    }
   ],
   "source": [
    "def Kelimebirleştir(kelime1,kelime2):\n",
    "    kelime1up=kelime1.upper()\n",
    "    kelime2up=kelime2.upper()\n",
    "    print(kelime1up,kelime2up)\n",
    "        \n",
    "\n",
    "kelime1=\"Sokakta Sayamam gibi\"\n",
    "kelime2=\"Fıştıkçı Şahap\"\n",
    "Kelimebirleştir(kelime1,kelime2)\n"
   ]
  },
  {
   "cell_type": "code",
   "execution_count": 56,
   "metadata": {},
   "outputs": [
    {
     "name": "stdout",
     "output_type": "stream",
     "text": [
      "Soka??kta, Saya%mam gibi:\n",
      "Sokakta Sayamam gibi\n",
      "20\n",
      "3\n"
     ]
    }
   ],
   "source": [
    "import re\n",
    "def TemizleveSay(kelime):\n",
    "    print (kelime)\n",
    "    temiz=re.sub(\"[$@&.,\\\")('%:;?]\",\"\",kelime)\n",
    "    print (temiz)\n",
    "    kelimesayısı=temiz.split()\n",
    "\n",
    "    print (len(temiz))\n",
    "    print (len(kelimesayısı))\n",
    "\n",
    "\n",
    "kelime1='Soka??kta, Saya%mam gibi:'\n",
    "TemizleveSay(kelime1)\n",
    "\n"
   ]
  },
  {
   "cell_type": "code",
   "execution_count": null,
   "metadata": {},
   "outputs": [],
   "source": []
  }
 ],
 "metadata": {
  "kernelspec": {
   "display_name": "Python 3.8.8",
   "language": "python",
   "name": "python3"
  },
  "language_info": {
   "codemirror_mode": {
    "name": "ipython",
    "version": 3
   },
   "file_extension": ".py",
   "mimetype": "text/x-python",
   "name": "python",
   "nbconvert_exporter": "python",
   "pygments_lexer": "ipython3",
   "version": "3.8.8"
  },
  "orig_nbformat": 4,
  "vscode": {
   "interpreter": {
    "hash": "6c7b24f2af6d8326af019a2c1e3781e3fd7f155564fc6b2146da6d6b307574a7"
   }
  }
 },
 "nbformat": 4,
 "nbformat_minor": 2
}
