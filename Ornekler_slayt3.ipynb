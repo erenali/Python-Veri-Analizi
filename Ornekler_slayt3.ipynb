{
 "cells": [
  {
   "cell_type": "code",
   "execution_count": 2,
   "metadata": {},
   "outputs": [
    {
     "name": "stdout",
     "output_type": "stream",
     "text": [
      "Merhaba ali\n"
     ]
    }
   ],
   "source": [
    "def selamla(isim):\n",
    "    print(\"Merhaba\",isim)\n",
    "    return\n",
    "isim= input(\"isim giriniz\")\n",
    "selamla(isim)"
   ]
  },
  {
   "cell_type": "code",
   "execution_count": 2,
   "metadata": {},
   "outputs": [
    {
     "name": "stdout",
     "output_type": "stream",
     "text": [
      "en büyük sayı 14\n"
     ]
    }
   ],
   "source": [
    "def büyük_bul(x,y,z):\n",
    "    eb=x\n",
    "    if y>eb:\n",
    "        eb=y\n",
    "    if z>eb:\n",
    "        eb=z\n",
    "    return eb\n",
    "sayi1=5\n",
    "sayi2=14\n",
    "sayi3=8\n",
    "\n",
    "eb=büyük_bul(sayi1,sayi2,sayi3)\n",
    "print(\"en büyük sayı {}\".format(eb))\n"
   ]
  },
  {
   "cell_type": "code",
   "execution_count": 4,
   "metadata": {},
   "outputs": [
    {
     "name": "stdout",
     "output_type": "stream",
     "text": [
      "en büyük sayı 34\n"
     ]
    }
   ],
   "source": [
    "def max_bul(listem):\n",
    "    eb=-1\n",
    "    for i in range(len(listem)):\n",
    "        if listem[i]>eb:\n",
    "            eb=listem[i]\n",
    "    return eb\n",
    "\n",
    "sayilar=[3,5,8,21,34,12,2]\n",
    "max=max_bul(sayilar)\n",
    "print(\"en büyük sayı {}\".format(max))"
   ]
  },
  {
   "cell_type": "code",
   "execution_count": 5,
   "metadata": {},
   "outputs": [
    {
     "name": "stdout",
     "output_type": "stream",
     "text": [
      "Ali  Merhaba\n",
      "Ahmet  Merhaba\n",
      "3  Merhaba\n",
      "5  Merhaba\n"
     ]
    }
   ],
   "source": [
    "def selamla(*kisiler):\n",
    "    for k in kisiler:\n",
    "        print(k,\" Merhaba\")\n",
    "\n",
    "selamla(\"Ali\",\"Ahmet\",\"3\",5)"
   ]
  },
  {
   "cell_type": "code",
   "execution_count": 10,
   "metadata": {},
   "outputs": [
    {
     "name": "stdout",
     "output_type": "stream",
     "text": [
      "140\n"
     ]
    }
   ],
   "source": [
    "def toplama(*a):\n",
    "    t=0\n",
    "    for n in a:\n",
    "        t=t+n\n",
    "    return t\n",
    "\n",
    "print(toplama(10,20,50,60))\n"
   ]
  },
  {
   "cell_type": "code",
   "execution_count": 12,
   "metadata": {},
   "outputs": [
    {
     "name": "stdout",
     "output_type": "stream",
     "text": [
      "('pi', 3.14)\n",
      "('e', 2.78)\n"
     ]
    }
   ],
   "source": [
    "def yazdir(**kwargs):\n",
    "    for k in kwargs.items():\n",
    "        print(k)\n",
    "yazdir(pi=3.14,e=2.78) "
   ]
  },
  {
   "cell_type": "code",
   "execution_count": 14,
   "metadata": {},
   "outputs": [
    {
     "name": "stdout",
     "output_type": "stream",
     "text": [
      "24\n"
     ]
    }
   ],
   "source": [
    "def faktoriyel(n):\n",
    "    if n==1:\n",
    "        return n\n",
    "    else:\n",
    "        return n*faktoriyel(n-1)\n",
    "\n",
    "print(faktoriyel(4))\n",
    "    "
   ]
  },
  {
   "cell_type": "code",
   "execution_count": 15,
   "metadata": {},
   "outputs": [
    {
     "name": "stdout",
     "output_type": "stream",
     "text": [
      "1024\n"
     ]
    }
   ],
   "source": [
    "us=lambda x,y:x**y\n",
    "sonuc= us(4,5)\n",
    "print(sonuc)"
   ]
  },
  {
   "cell_type": "code",
   "execution_count": 17,
   "metadata": {},
   "outputs": [
    {
     "name": "stdout",
     "output_type": "stream",
     "text": [
      "sayılar [1, 7, 6, 3]\n",
      "kareleri [1, 49, 36, 9]\n"
     ]
    }
   ],
   "source": [
    "kare=lambda x:x**2\n",
    "sayılar=[1,7,6,3]\n",
    "sonuc=map(kare,sayılar)\n",
    "print(\"sayılar\",sayılar)\n",
    "print(\"kareleri\",list(sonuc))"
   ]
  },
  {
   "cell_type": "code",
   "execution_count": 18,
   "metadata": {},
   "outputs": [
    {
     "name": "stdout",
     "output_type": "stream",
     "text": [
      "[('ali', 2018), ('emin', 2020)]\n"
     ]
    }
   ],
   "source": [
    "kisiler=['ali','ahmet','veli','emin']\n",
    "tarihler=[2018,2022,2023,2020]\n",
    "listem=list( \n",
    "    filter(\n",
    "        lambda zipped: 2018<=zipped[1]<=2020, zip(kisiler,tarihler)\n",
    "    ) \n",
    "    )\n",
    "print(listem)"
   ]
  },
  {
   "cell_type": "code",
   "execution_count": 19,
   "metadata": {},
   "outputs": [
    {
     "name": "stdout",
     "output_type": "stream",
     "text": [
      "1680\n"
     ]
    }
   ],
   "source": [
    "from functools import reduce\n",
    "\n",
    "\n",
    "sayilar= [12,4,5,7]\n",
    "çarpım=reduce(lambda x,y:x*y,sayilar)\n",
    "print(çarpım)"
   ]
  },
  {
   "cell_type": "code",
   "execution_count": 22,
   "metadata": {},
   "outputs": [
    {
     "name": "stdout",
     "output_type": "stream",
     "text": [
      "SOKAKTA SAYAMAM GIBI FIŞTIKÇI ŞAHAP\n"
     ]
    }
   ],
   "source": [
    "def Kelimebirleştir(kelime1,kelime2):\n",
    "    kelime1up=kelime1.upper()\n",
    "    kelime2up=kelime2.upper()\n",
    "    print(kelime1up,kelime2up)\n",
    "        \n",
    "\n",
    "kelime1=\"Sokakta Sayamam gibi\"\n",
    "kelime2=\"Fıştıkçı Şahap\"\n",
    "Kelimebirleştir(kelime1,kelime2)\n"
   ]
  },
  {
   "cell_type": "code",
   "execution_count": 6,
   "metadata": {},
   "outputs": [
    {
     "name": "stdout",
     "output_type": "stream",
     "text": [
      "Soka??kta, Saya%mam gibi:\n",
      "Sokakta Sayamam gibi\n",
      "20\n",
      "3\n"
     ]
    }
   ],
   "source": [
    "import re\n",
    "def TemizleveSay(kelime):\n",
    "    print (kelime)\n",
    "    temiz=re.sub(\"[$@&.,\\\")('%:;?]\",\"\",kelime)\n",
    "    print (temiz)\n",
    "    kelimesayısı=temiz.split()\n",
    "\n",
    "    print (len(temiz))\n",
    "    print (len(kelimesayısı))\n",
    "\n",
    "\n",
    "kelime1='Soka??kta, Saya%mam gibi:'\n",
    "TemizleveSay(kelime1)\n",
    "\n"
   ]
  },
  {
   "cell_type": "markdown",
   "metadata": {},
   "source": [
    "Numpy\n",
    "terminalden python -m pip install matplotlib   ile yüklendi.\n",
    "https://code.visualstudio.com/docs/python/python-tutorial   \n",
    "\"Install and use packages\"  başlığı"
   ]
  },
  {
   "cell_type": "code",
   "execution_count": 34,
   "metadata": {},
   "outputs": [
    {
     "name": "stdout",
     "output_type": "stream",
     "text": [
      "Ptyhon list:\n",
      "[0, 1, 2, 3, 4, 5, 6, 7, 8, 9]\n",
      "numpy list:\n",
      "[0 1 2 3 4 5 6 7 8 9]\n",
      "***********************\n",
      "1\n",
      "2\n",
      "///////////////////////\n",
      "(10,)\n",
      "(1, 10)\n"
     ]
    }
   ],
   "source": [
    "import numpy as np\n",
    "python_list=[0,1,2,3,4,5,6,7,8,9]\n",
    "numpy_array = np.array([0,1,2,3,4,5,6,7,8,9])\n",
    "numpy_Array2=np.array([[0,1,2,3,4,5,6,7,8,9]])\n",
    "print(\"Ptyhon list:\")\n",
    "print(python_list)\n",
    "print(\"numpy list:\")\n",
    "print(numpy_array)\n",
    "print(\"***********************\")\n",
    "print(numpy_array.ndim)\n",
    "print(numpy_Array2.ndim)\n",
    "print(\"///////////////////////\")\n",
    "print(numpy_array.shape)\n",
    "print(numpy_Array2.shape)"
   ]
  },
  {
   "cell_type": "code",
   "execution_count": 32,
   "metadata": {},
   "outputs": [
    {
     "name": "stdout",
     "output_type": "stream",
     "text": [
      "[[0 1]\n",
      " [2 3]\n",
      " [4 5]\n",
      " [6 7]\n",
      " [8 9]]\n",
      "[[0 1 2 3 4]\n",
      " [5 6 7 8 9]]\n",
      "________________________\n",
      "[0 3 6 9]\n",
      "[0 1 2 3 4 5 6 7 8 9]\n",
      "[0 1 2 3 4 5 6 7 8 9]\n",
      ".......................\n",
      "[2 3]\n",
      "[0 2 4 6 8]\n",
      "[[0 1]\n",
      " [2 3]\n",
      " [4 5]\n",
      " [6 7]\n",
      " [8 9]]\n",
      "***********************\n",
      "[[8 9]\n",
      " [6 7]\n",
      " [4 5]\n",
      " [2 3]\n",
      " [0 1]]\n"
     ]
    }
   ],
   "source": [
    "import numpy as np\n",
    "numpy_array = np.array([0,1,2,3,4,5,6,7,8,9])\n",
    "reshape52=numpy_array.reshape(5,2)\n",
    "print(reshape52)\n",
    "reshape25=numpy_array.reshape(2,5)\n",
    "print(reshape25)\n",
    "print(\"________________________\")\n",
    "print(np.arange(0,10,3))\n",
    "print(np.arange(10))\n",
    "print(np.arange(0,10,1))\n",
    "print(\".......................\")\n",
    "print(reshape52[1])\n",
    "print(reshape52[:,0])\n",
    "print(reshape52[:,0:2])\n",
    "print(\"***********************\")\n",
    "print(reshape52[::-1])"
   ]
  },
  {
   "cell_type": "code",
   "execution_count": 41,
   "metadata": {},
   "outputs": [
    {
     "name": "stdout",
     "output_type": "stream",
     "text": [
      "[[0. 0. 0.]\n",
      " [0. 0. 0.]]\n",
      "________________________\n",
      "[[[1. 1. 1. 1.]\n",
      "  [1. 1. 1. 1.]\n",
      "  [1. 1. 1. 1.]]\n",
      "\n",
      " [[1. 1. 1. 1.]\n",
      "  [1. 1. 1. 1.]\n",
      "  [1. 1. 1. 1.]]]\n",
      "________________________\n",
      "[[1. 0. 0.]\n",
      " [0. 1. 0.]\n",
      " [0. 0. 1.]]\n"
     ]
    }
   ],
   "source": [
    "import numpy as np\n",
    "print(np.zeros((2,3)))\n",
    "print(\"________________________\")\n",
    "print(np.ones((2,3,4)))\n",
    "print(\"________________________\")\n",
    "print(np.eye((3)))"
   ]
  },
  {
   "cell_type": "code",
   "execution_count": 51,
   "metadata": {},
   "outputs": [
    {
     "name": "stdout",
     "output_type": "stream",
     "text": [
      "[[0 1]\n",
      " [2 3]\n",
      " [4 5]\n",
      " [6 7]\n",
      " [8 9]\n",
      " [0 1]\n",
      " [2 3]\n",
      " [4 5]\n",
      " [6 7]\n",
      " [8 9]]\n",
      "[[0 1 0 1]\n",
      " [2 3 2 3]\n",
      " [4 5 4 5]\n",
      " [6 7 6 7]\n",
      " [8 9 8 9]]\n",
      "________________________\n",
      "2.5\n",
      "2.9166666666666665\n",
      "1.707825127659933\n",
      "2.5\n"
     ]
    }
   ],
   "source": [
    "import numpy as np\n",
    "numpy_array = np.array([0,1,2,3,4,5])\n",
    "reshape32=numpy_array.reshape(3,2)\n",
    "print(np.concatenate([reshape52,reshape52],axis=0))\n",
    "print(np.concatenate([reshape52,reshape52],axis=1))\n",
    "print(\"________________________\")\n",
    "print(numpy_array.mean())\n",
    "print(numpy_array.var())\n",
    "print(numpy_array.std())\n",
    "print(np.median(numpy_array))\n"
   ]
  },
  {
   "cell_type": "code",
   "execution_count": 62,
   "metadata": {},
   "outputs": [
    {
     "name": "stdout",
     "output_type": "stream",
     "text": [
      "[[1 2]\n",
      " [3 4]\n",
      " [5 6]]\n",
      "________________________\n",
      "[[ 4  6]\n",
      " [ 8 10]\n",
      " [12 14]]\n",
      "[[0 0]\n",
      " [0 0]\n",
      " [0 0]]\n",
      "[[ 1  4]\n",
      " [ 9 16]\n",
      " [25 36]]\n",
      "[[1. 1.]\n",
      " [1. 1.]\n",
      " [1. 1.]]\n",
      "________________________\n",
      "[[ 9 12 15]\n",
      " [19 26 33]\n",
      " [29 40 51]]\n"
     ]
    }
   ],
   "source": [
    "import numpy as np\n",
    "numpy_array = np.array([1,2,3,4,5,6])\n",
    "reshape32=numpy_array.reshape(3,2)\n",
    "reshape23=numpy_array.reshape(2,3)\n",
    "print(reshape32)\n",
    "print(\"________________________\")\n",
    "print(reshape32+(reshape32+2))\n",
    "print(reshape32-reshape32)\n",
    "print(reshape32*reshape32)\n",
    "print(reshape32/reshape32)\n",
    "print(\"________________________\")\n",
    "print(np.dot(reshape32,reshape23))\n"
   ]
  },
  {
   "cell_type": "code",
   "execution_count": 63,
   "metadata": {},
   "outputs": [
    {
     "name": "stdout",
     "output_type": "stream",
     "text": [
      "[[1 2]\n",
      " [3 4]\n",
      " [5 6]]\n",
      "[[1 3 5]\n",
      " [2 4 6]]\n"
     ]
    }
   ],
   "source": [
    "import numpy as np\n",
    "numpy_array = np.array([1,2,3,4,5,6])\n",
    "reshape32=numpy_array.reshape(3,2)\n",
    "print(reshape32)\n",
    "print(reshape32.T)\n"
   ]
  },
  {
   "cell_type": "code",
   "execution_count": 68,
   "metadata": {},
   "outputs": [
    {
     "name": "stdout",
     "output_type": "stream",
     "text": [
      "[False False False  True  True  True]\n",
      "[4 5 6]\n"
     ]
    }
   ],
   "source": [
    "import numpy as np\n",
    "numpy_array = np.array([1,2,3,4,5,6])\n",
    "boolean_array=numpy_array>3\n",
    "print(boolean_array)\n",
    "print(numpy_array[boolean_array])"
   ]
  }
 ],
 "metadata": {
  "kernelspec": {
   "display_name": "Python 3.11.0 ('.venv': venv)",
   "language": "python",
   "name": "python3"
  },
  "language_info": {
   "codemirror_mode": {
    "name": "ipython",
    "version": 3
   },
   "file_extension": ".py",
   "mimetype": "text/x-python",
   "name": "python",
   "nbconvert_exporter": "python",
   "pygments_lexer": "ipython3",
   "version": "3.11.0"
  },
  "orig_nbformat": 4,
  "vscode": {
   "interpreter": {
    "hash": "04031fde6a6f63c5ee7515a5e60452a050c3cfbc37c5728b01b16ecd740e17ca"
   }
  }
 },
 "nbformat": 4,
 "nbformat_minor": 2
}
