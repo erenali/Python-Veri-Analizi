{
 "cells": [
  {
   "cell_type": "code",
   "execution_count": 142,
   "metadata": {},
   "outputs": [
    {
     "name": "stdout",
     "output_type": "stream",
     "text": [
      "[[10.2 21.3]\n",
      " [22.5 41.4]\n",
      " [57.8 44.1]]\n",
      "+_________\n",
      "[ 90.5 106.8]\n",
      "_________\n",
      "[[ 10.2  21.3]\n",
      " [ 32.7  62.7]\n",
      " [ 90.5 106.8]]\n",
      "90.5    106.80000000000001\n",
      "**************\n",
      "31.5\n",
      "63.9\n",
      "_________\n",
      "50.95\n"
     ]
    }
   ],
   "source": [
    "import numpy as np\n",
    "fiyat = np.array([10.2,21.3,22.5,41.4,57.8,44.1])\n",
    "rfiyat=fiyat.reshape(3,2)\n",
    "print(rfiyat)\n",
    "sut=rfiyat.sum(0)\n",
    "print(\"+_________\")\n",
    "print(sut)\n",
    "print(\"_________\")\n",
    "bsut=rfiyat.cumsum(0)\n",
    "print(bsut)\n",
    "kol0=np.sum(rfiyat[:,0])\n",
    "kol1=np.sum(rfiyat[:,1])\n",
    "print(kol0,\"  \",kol1)\n",
    "print(\"**************\")\n",
    "sat0=np.sum(rfiyat[0,:])\n",
    "sat1=np.sum(rfiyat[1,:])\n",
    "print(sat0)\n",
    "print(sat1)\n",
    "print(\"_________\")\n",
    "sat2ort=np.mean(rfiyat[2,:])\n",
    "print(sat2ort)"
   ]
  },
  {
   "cell_type": "code",
   "execution_count": 143,
   "metadata": {},
   "outputs": [
    {
     "name": "stdout",
     "output_type": "stream",
     "text": [
      "[10.2 21.3]\n",
      "[22.5 41.4]\n",
      "[57.8 44.1]\n",
      "10.2\n",
      "21.3\n",
      "22.5\n",
      "41.4\n",
      "57.8\n",
      "44.1\n"
     ]
    }
   ],
   "source": [
    "import numpy as np\n",
    "fiyat = np.array([10.2,21.3,22.5,41.4,57.8,44.1])\n",
    "rfiyat=fiyat.reshape(3,2)\n",
    "for i in rfiyat:\n",
    "    print(i)\n",
    "    \n",
    "for i in np.nditer(rfiyat):\n",
    "    print(i)"
   ]
  },
  {
   "cell_type": "code",
   "execution_count": 144,
   "metadata": {},
   "outputs": [
    {
     "name": "stdout",
     "output_type": "stream",
     "text": [
      "[ 1.22324173  9.95935367 11.72248323  9.91079514 14.22633537  7.54448608]\n",
      "[[ 1.22324173  9.95935367]\n",
      " [11.72248323  9.91079514]\n",
      " [14.22633537  7.54448608]]\n",
      "----------------\n",
      "14.226335373414598\n",
      "1.223241734264147\n",
      "*****************\n",
      "[1.22324173 7.54448608]\n",
      "[ 9.95935367 11.72248323 14.22633537]\n"
     ]
    }
   ],
   "source": [
    "x=np.random.uniform(low=1,high=15,size=6)\n",
    "print(x)\n",
    "rx=x.reshape(3,2)\n",
    "print(rx)\n",
    "print(\"----------------\")\n",
    "enb=np.amax(rx,axis=None)\n",
    "enk=np.amin(rx,axis=None)\n",
    "print(enb)\n",
    "print(enk)\n",
    "print(\"*****************\")\n",
    "kol_enk=np.amin(rx,axis=0)\n",
    "sat_enb=np.amax(rx,axis=1)\n",
    "print(kol_enk)\n",
    "print(sat_enb)"
   ]
  },
  {
   "cell_type": "code",
   "execution_count": 145,
   "metadata": {},
   "outputs": [
    {
     "name": "stdout",
     "output_type": "stream",
     "text": [
      "['ali' 'can' 'betül' 'berke']\n",
      "[78 88 76 89]\n",
      "76.0\n",
      "['ali' 'can' 'berke']\n",
      "[78 88 89]\n"
     ]
    }
   ],
   "source": [
    "isim = np.array([\"ali\",\"veli\",\"can\",\"melis\",\"nuray\",\"betül\",\"berke\"])\n",
    "notlar =np.array([78,68,88,65,68,76,89])\n",
    "koşul1=np.where(notlar>70)\n",
    "print(isim[koşul1])\n",
    "print(notlar[koşul1])\n",
    "ort=np.mean(notlar)\n",
    "print(ort)\n",
    "koşul2=np.where(notlar>ort)\n",
    "print(isim[koşul2])\n",
    "print(notlar[koşul2])"
   ]
  },
  {
   "cell_type": "code",
   "execution_count": 146,
   "metadata": {},
   "outputs": [
    {
     "name": "stdout",
     "output_type": "stream",
     "text": [
      "sadece sayi giriniz\n"
     ]
    }
   ],
   "source": [
    "def bölme(x,y):\n",
    "   return int(x)/int(y)\n",
    "\n",
    "x=input('bölünen giriniz')\n",
    "y=input('bolen giriniz')\n",
    "try:\n",
    "    sonuc=bölme(x,y)\n",
    "    print(sonuc)\n",
    "except ValueError:\n",
    "    print(\"sadece sayi giriniz\")\n",
    "except ZeroDivisionError:    \n",
    "    print(\"0 a bölüm yapılamaz\")\n"
   ]
  },
  {
   "cell_type": "code",
   "execution_count": 147,
   "metadata": {},
   "outputs": [
    {
     "name": "stdout",
     "output_type": "stream",
     "text": [
      "okundu\n",
      "<_io.TextIOWrapper name='a.txt' mode='r' encoding='cp1254'>\n"
     ]
    }
   ],
   "source": [
    "try:\n",
    "    dosya=open(\"a.txt\",\"r\")\n",
    "except IOError:\n",
    "    print(\"hata oluştu\")\n",
    "finally:\n",
    "    print(\"okundu\")\n",
    "\n",
    "print(dosya)"
   ]
  },
  {
   "cell_type": "code",
   "execution_count": 148,
   "metadata": {},
   "outputs": [
    {
     "name": "stdout",
     "output_type": "stream",
     "text": [
      "uygun parola\n",
      "tamam\n"
     ]
    }
   ],
   "source": [
    "tr_karakter=\"şğüçöıİ\"\n",
    "parola=input(\"parolanız:\")\n",
    "\n",
    "try:\n",
    "    for i in parola:\n",
    "        if i in tr_karakter:\n",
    "            raise TypeError(\"Türkçe karakter olamaz\")\n",
    "        else:\n",
    "            pass\n",
    "except TypeError:\n",
    "    print(\"Türkçe hatası\")\n",
    "else:\n",
    "    print(\"uygun parola\")\n",
    "finally:\n",
    "    print(\"tamam\")\n"
   ]
  },
  {
   "cell_type": "markdown",
   "metadata": {},
   "source": [
    "PANDAS\n",
    "SERİES\n",
    "terminalden  python -m pip install pandas  komutu ile "
   ]
  },
  {
   "cell_type": "code",
   "execution_count": 149,
   "metadata": {},
   "outputs": [
    {
     "name": "stdout",
     "output_type": "stream",
     "text": [
      "0     5\n",
      "1     2\n",
      "2     8\n",
      "3     1\n",
      "4    10\n",
      "5     9\n",
      "dtype: int64\n",
      "35\n",
      "10\n",
      "1\n",
      "5.833333333333333\n",
      "7200  çapım sonucu\n",
      "////////////////////\n",
      "Shape (6,)\n",
      "Size 6\n"
     ]
    }
   ],
   "source": [
    "import pandas as pd\n",
    "veriler=[5,2,8,1,10,9]\n",
    "seri = pd.Series(veriler)\n",
    "print(seri)\n",
    "print(seri.sum())\n",
    "print(seri.max())\n",
    "print(seri.min())\n",
    "print(seri.mean())\n",
    "print(seri.product(),\" çapım sonucu\")\n",
    "print(\"////////////////////\")\n",
    "print(\"Shape\",seri.shape)\n",
    "print(\"Size\",seri.size)"
   ]
  },
  {
   "cell_type": "code",
   "execution_count": 150,
   "metadata": {},
   "outputs": [
    {
     "name": "stdout",
     "output_type": "stream",
     "text": [
      "Kastamonu     5\n",
      "Ankara        2\n",
      "İStanbul      8\n",
      "KArs          1\n",
      "Antep        10\n",
      "Urfa          9\n",
      "dtype: int64\n",
      "Kastamonu     5\n",
      "Ankara        2\n",
      "İStanbul      8\n",
      "KArs          1\n",
      "Antep        10\n",
      "Urfa          9\n",
      "dtype: int64\n"
     ]
    }
   ],
   "source": [
    "veriler=[5,2,8,1,10,9]\n",
    "seri = pd.Series(veriler)\n",
    "indeks=[\"Kastamonu\",\"Ankara\",\"İStanbul\",\"KArs\",\"Antep\",\"Urfa\"]\n",
    "seri2 = pd.Series(veriler,index=indeks)\n",
    "seri3 = pd.Series(data=veriler,index=indeks)\n",
    "print(seri2)\n",
    "print(seri3)"
   ]
  },
  {
   "cell_type": "code",
   "execution_count": 151,
   "metadata": {},
   "outputs": [
    {
     "name": "stdout",
     "output_type": "stream",
     "text": [
      "Ali      15000\n",
      "Murat     9000\n",
      "dtype: int64\n",
      "--------------\n",
      "Ali        15000\n",
      "Murat       9000\n",
      "İbrahim     7500\n",
      "dtype: int64\n",
      "--------------\n",
      "Ali        15000\n",
      "Murat       9000\n",
      "İbrahim     7500\n",
      "Esra        8000\n",
      "Ali        18000\n",
      "dtype: int64\n",
      "/////////////////\n",
      "18000\n"
     ]
    },
    {
     "name": "stderr",
     "output_type": "stream",
     "text": [
      "C:\\Users\\qqwe\\AppData\\Local\\Temp\\ipykernel_12292\\2245951830.py:9: FutureWarning: The series.append method is deprecated and will be removed from pandas in a future version. Use pandas.concat instead.\n",
      "  maaslar2=maaslar.append(pd.Series(maaş2))\n"
     ]
    }
   ],
   "source": [
    "maaş={\"Ali\":15000,\"Murat\":9000}\n",
    "maaslar=pd.Series(maaş)\n",
    "print(maaslar)\n",
    "print(\"--------------\")\n",
    "maaslar[\"İbrahim\"]=7500\n",
    "print(maaslar)\n",
    "print(\"--------------\")\n",
    "maaş2={\"Esra\":8000,\"Ali\":18000}\n",
    "maaslar2=maaslar.append(pd.Series(maaş2))\n",
    "print(maaslar2)\n",
    "print(\"/////////////////\")\n",
    "print(maaslar2.max())"
   ]
  },
  {
   "cell_type": "code",
   "execution_count": 152,
   "metadata": {},
   "outputs": [
    {
     "name": "stdout",
     "output_type": "stream",
     "text": [
      "Şehirler\n",
      "Kastamonu      5\n",
      "Ankara         2\n",
      "Diyarbakır     8\n",
      "Bilecik        1\n",
      "Antep         10\n",
      "Urfa           9\n",
      "Name: Lezzet, dtype: int64\n",
      "[ 5  2  8  1 10  9]\n",
      "Index(['Kastamonu', 'Ankara', 'Diyarbakır', 'Bilecik', 'Antep', 'Urfa'], dtype='object', name='Şehirler')\n",
      "----------------\n",
      "Şehirler\n",
      "Kastamonu      5\n",
      "Ankara         2\n",
      "Diyarbakır     8\n",
      "Bilecik        1\n",
      "Antep         10\n",
      "Name: Lezzet, dtype: int64\n",
      "count     6.000000\n",
      "mean      5.833333\n",
      "std       3.763863\n",
      "min       1.000000\n",
      "25%       2.750000\n",
      "50%       6.500000\n",
      "75%       8.750000\n",
      "max      10.000000\n",
      "Name: Lezzet, dtype: float64\n"
     ]
    }
   ],
   "source": [
    "veriler=[5,2,8,1,10,9]\n",
    "indeks=[\"Kastamonu\",\"Ankara\",\"Diyarbakır\",\"Bilecik\",\"Antep\",\"Urfa\"]\n",
    "seri = pd.Series(data=veriler,index=indeks)\n",
    "seri.name='Lezzet'\n",
    "seri.index.name='Şehirler'\n",
    "print(seri)\n",
    "print(seri.values)\n",
    "print(seri.index)\n",
    "print(\"----------------\")\n",
    "print(seri.head())\n",
    "print(seri.describe())"
   ]
  },
  {
   "cell_type": "code",
   "execution_count": 153,
   "metadata": {},
   "outputs": [
    {
     "name": "stdout",
     "output_type": "stream",
     "text": [
      "count     6.000000\n",
      "mean      5.833333\n",
      "std       3.763863\n",
      "min       1.000000\n",
      "25%       2.750000\n",
      "50%       6.500000\n",
      "75%       8.750000\n",
      "max      10.000000\n",
      "Name: Lezzet, dtype: float64\n",
      "5.833333333333333\n",
      "3.7638632635454052\n"
     ]
    }
   ],
   "source": [
    "bilgiler=pd.Series(seri.describe())\n",
    "print(bilgiler)\n",
    "print(bilgiler['mean'])\n",
    "print(bilgiler[2])\n"
   ]
  },
  {
   "cell_type": "code",
   "execution_count": 154,
   "metadata": {},
   "outputs": [
    {
     "name": "stdout",
     "output_type": "stream",
     "text": [
      "count    6.000000\n",
      "mean     5.833333\n",
      "std      3.763863\n",
      "Name: Lezzet, dtype: float64\n",
      "**************\n",
      "mean    5.833333\n",
      "std     3.763863\n",
      "min     1.000000\n",
      "25%     2.750000\n",
      "Name: Lezzet, dtype: float64\n"
     ]
    }
   ],
   "source": [
    "print(bilgiler.iloc[:3])\n",
    "print(\"**************\")\n",
    "print(bilgiler.loc['mean':'25%'])"
   ]
  },
  {
   "cell_type": "code",
   "execution_count": 156,
   "metadata": {},
   "outputs": [
    {
     "name": "stdout",
     "output_type": "stream",
     "text": [
      "Ali      15000\n",
      "Murat     9000\n",
      "Esra      8000\n",
      "Ebru      8000\n",
      "Ali      18000\n",
      "Veli     11000\n",
      "dtype: int64\n",
      "**************\n",
      "Ali      16000\n",
      "Murat     9000\n",
      "Esra      8000\n",
      "Ebru      8000\n",
      "Ali      16000\n",
      "Veli     11000\n",
      "dtype: int64\n",
      "**************\n",
      "Ali      16000\n",
      "Murat     9000\n",
      "Esra      8000\n",
      "Veli     11000\n",
      "dtype: int64\n"
     ]
    },
    {
     "name": "stderr",
     "output_type": "stream",
     "text": [
      "C:\\Users\\qqwe\\AppData\\Local\\Temp\\ipykernel_12292\\2245757209.py:4: FutureWarning: The series.append method is deprecated and will be removed from pandas in a future version. Use pandas.concat instead.\n",
      "  maaslar2=maaslar.append(pd.Series(maaş2))\n"
     ]
    }
   ],
   "source": [
    "maaş={\"Ali\":15000,\"Murat\":9000,\"Esra\":8000}\n",
    "maaslar=pd.Series(maaş)\n",
    "maaş2={\"Ebru\":8000,\"Ali\":18000,\"Veli\":11000}\n",
    "maaslar2=maaslar.append(pd.Series(maaş2))\n",
    "print(maaslar2)\n",
    "print(\"**************\")\n",
    "maaslar2[\"Ali\"]=16000\n",
    "print(maaslar2)\n",
    "print(\"**************\")\n",
    "maaslar2.drop_duplicates(inplace=True) #değere göre eşitleri siler 8000 2 tane var 16000 2 tane var\n",
    "print(maaslar2)\n"
   ]
  },
  {
   "cell_type": "code",
   "execution_count": 161,
   "metadata": {},
   "outputs": [
    {
     "name": "stdout",
     "output_type": "stream",
     "text": [
      "Ali      16000\n",
      "Murat     9000\n",
      "Esra      8000\n",
      "Veli     11000\n",
      "dtype: int64\n"
     ]
    },
    {
     "data": {
      "text/plain": [
       "Ali     16000\n",
       "Esra     8000\n",
       "Veli    11000\n",
       "dtype: int64"
      ]
     },
     "execution_count": 161,
     "metadata": {},
     "output_type": "execute_result"
    }
   ],
   "source": [
    "print(maaslar2)\n",
    "maaslar2.drop('Murat',inplace=False)"
   ]
  },
  {
   "cell_type": "code",
   "execution_count": 163,
   "metadata": {},
   "outputs": [
    {
     "name": "stdout",
     "output_type": "stream",
     "text": [
      "a    3.0\n",
      "b    6.4\n",
      "c    NaN\n",
      "d    NaN\n",
      "f    NaN\n",
      "dtype: float64\n",
      "a    3.0\n",
      "b    6.4\n",
      "c    6.0\n",
      "d    6.0\n",
      "f    NaN\n",
      "dtype: float64\n",
      "a     4.0\n",
      "a     6.0\n",
      "a     8.0\n",
      "a    10.0\n",
      "b     5.2\n",
      "c     NaN\n",
      "d     NaN\n",
      "f     NaN\n",
      "dtype: float64\n"
     ]
    },
    {
     "name": "stderr",
     "output_type": "stream",
     "text": [
      "C:\\Users\\qqwe\\AppData\\Local\\Temp\\ipykernel_12292\\4055535846.py:8: FutureWarning: The series.append method is deprecated and will be removed from pandas in a future version. Use pandas.concat instead.\n",
      "  s1=s1.append(pd.Series(d3))\n",
      "C:\\Users\\qqwe\\AppData\\Local\\Temp\\ipykernel_12292\\4055535846.py:9: FutureWarning: The series.append method is deprecated and will be removed from pandas in a future version. Use pandas.concat instead.\n",
      "  s2=s2.append(pd.Series(d3))\n"
     ]
    }
   ],
   "source": [
    "d1={\"a\":1,\"b\":2,\"c\":6,\"f\":np.NaN}\n",
    "d2={\"a\":3,\"b\":3.2,\"d\":6,\"f\":np.NaN}\n",
    "s1=pd.Series(d1)\n",
    "s2=pd.Series(d2)\n",
    "print(s1*s2)\n",
    "print(s1.multiply(s2,fill_value=1))\n",
    "d3={\"a\":5}\n",
    "s1=s1.append(pd.Series(d3))\n",
    "s2=s2.append(pd.Series(d3))\n",
    "print(s1+s2)"
   ]
  },
  {
   "cell_type": "code",
   "execution_count": 167,
   "metadata": {},
   "outputs": [
    {
     "name": "stdout",
     "output_type": "stream",
     "text": [
      "2022-01-01    2\n",
      "2022-01-02    1\n",
      "2022-01-03    2\n",
      "2022-01-04    2\n",
      "2022-01-05    2\n",
      "Freq: D, dtype: int32\n"
     ]
    }
   ],
   "source": [
    "ts =pd.date_range(\"2022/1/1\",end=\"2022/1/10\",freq=\"D\")\n",
    "zar=pd.Series(np.random.randint(1,7,len(ts)),index=ts)\n",
    "print(zar.head())"
   ]
  },
  {
   "cell_type": "markdown",
   "metadata": {},
   "source": [
    "matplotlib.pyplot"
   ]
  },
  {
   "cell_type": "code",
   "execution_count": 222,
   "metadata": {},
   "outputs": [
    {
     "name": "stdout",
     "output_type": "stream",
     "text": [
      "2022-11-10 09:05:00    5\n",
      "2022-11-10 09:10:00    6\n",
      "2022-11-10 09:15:00    3\n",
      "Freq: 5T, dtype: int32\n"
     ]
    },
    {
     "data": {
      "image/png": "[encoded data removed]",
      "text/plain": [
       "<Figure size 1000x300 with 1 Axes>"
      ]
     },
     "metadata": {},
     "output_type": "display_data"
    }
   ],
   "source": [
    "import matplotlib.pyplot as plt\n",
    "ts= pd.date_range(\"2022/11/10 09:05:00\",end=\"2022/11/10 19:05:00\",freq='5min')\n",
    "zar=pd.Series(np.random.randint(1,7,len(ts)),index=ts)\n",
    "print(zar.head(3))\n",
    "plt.figure(figsize=(10,3))\n",
    "zar.head(50).plot(kind=\"area\")\n",
    "plt.show()"
   ]
  },
  {
   "cell_type": "code",
   "execution_count": 233,
   "metadata": {},
   "outputs": [
    {
     "name": "stdout",
     "output_type": "stream",
     "text": [
      "2022-11-10 13:30:00    4\n",
      "2022-11-10 13:35:00    3\n",
      "2022-11-10 13:40:00    2\n",
      "2022-11-10 13:45:00    4\n",
      "Freq: 5T, dtype: int32\n",
      "2022-11-10 08:00:00    45\n",
      "2022-11-10 10:00:00    88\n",
      "2022-11-10 12:00:00    84\n",
      "Freq: 2H, dtype: int32\n",
      "2022-11-10    3.487603\n",
      "Freq: D, dtype: float64\n"
     ]
    },
    {
     "data": {
      "image/png": "[encoded data removed]",
      "text/plain": [
       "<Figure size 1000x300 with 1 Axes>"
      ]
     },
     "metadata": {},
     "output_type": "display_data"
    },
    {
     "name": "stdout",
     "output_type": "stream",
     "text": [
      "max değere ulaşılan tarih :2022-11-10 10:00:00, ve değer 88\n"
     ]
    }
   ],
   "source": [
    "print(zar[\"2022/11/10 13:30\":\"2022/11/10 13:45\"])\n",
    "zar6H=zar.resample('2H').sum()\n",
    "print(zar6H.head(3))\n",
    "zarD=zar.resample('D').mean()\n",
    "print(zarD)\n",
    "plt.figure(figsize=(10,3))\n",
    "zar6H.plot(kind=\"pie\")\n",
    "plt.show()\n",
    "print('max değere ulaşılan tarih :{}, ve değer {}'.format(zar6H.idxmax(),zar6H[zar6H.idxmax()]))"
   ]
  },
  {
   "cell_type": "markdown",
   "metadata": {},
   "source": [
    "PANDAS DATAFRAME"
   ]
  },
  {
   "cell_type": "code",
   "execution_count": 269,
   "metadata": {},
   "outputs": [
    {
     "name": "stdout",
     "output_type": "stream",
     "text": [
      "   Pazartesi      Salı  çarşamba\n",
      "A  -1.660068  0.910006 -0.003717\n",
      "B   0.176110 -0.347212  0.257294\n",
      "C   1.649663  1.160562 -2.107451\n",
      "******************\n",
      "A    0.910006\n",
      "B   -0.347212\n",
      "C    1.160562\n",
      "Name: Salı, dtype: float64\n",
      "******************\n",
      "   Pazartesi  çarşamba\n",
      "A  -1.660068 -0.003717\n",
      "B   0.176110  0.257294\n",
      "C   1.649663 -2.107451\n",
      "-------------------\n",
      "   Pazartesi      Salı  çarşamba  Perşembe      Cuma\n",
      "A  -1.660068  0.910006 -0.003717  2.063856  1.339932\n",
      "B   0.176110 -0.347212  0.257294 -1.641658  3.176110\n",
      "C   1.649663  1.160562 -2.107451 -0.214301  4.649663\n",
      "/////////////////\n",
      "       Salı  çarşamba  Perşembe      Cuma\n",
      "A  0.910006 -0.003717  2.063856  1.339932\n",
      "B -0.347212  0.257294 -1.641658  3.176110\n",
      "C  1.160562 -2.107451 -0.214301  4.649663\n",
      "******************\n",
      "   Pazartesi      Salı  çarşamba  Perşembe      Cuma\n",
      "B   0.176110 -0.347212  0.257294 -1.641658  3.176110\n",
      "C   1.649663  1.160562 -2.107451 -0.214301  4.649663\n"
     ]
    }
   ],
   "source": [
    "from numpy.random import randn\n",
    "df= pd.DataFrame(data=randn(3,3),index=['A','B','C'],columns=['Pazartesi','Salı','çarşamba'])\n",
    "print(df)\n",
    "print(\"******************\")\n",
    "print(df['Salı'])\n",
    "print(\"******************\")\n",
    "print(df[['Pazartesi','çarşamba']])\n",
    "print(\"-------------------\")\n",
    "df['Perşembe']=pd.Series(randn(3),index=['A','B','C'])\n",
    "df['Cuma']=df['Pazartesi']+3\n",
    "print(df)\n",
    "print(\"/////////////////\")\n",
    "dfdropcol=df.drop('Pazartesi',axis=1,inplace=False)\n",
    "print(dfdropcol)\n",
    "print(\"******************\")\n",
    "dfdroprow=df.drop('A',axis=0,inplace=False)\n",
    "print(dfdroprow)\n"
   ]
  },
  {
   "cell_type": "code",
   "execution_count": 276,
   "metadata": {},
   "outputs": [
    {
     "name": "stdout",
     "output_type": "stream",
     "text": [
      "Pazartesi    1.649663\n",
      "Salı         1.160562\n",
      "çarşamba    -2.107451\n",
      "Perşembe    -0.214301\n",
      "Cuma         4.649663\n",
      "Name: C, dtype: float64\n",
      "/////////////////\n",
      "Pazartesi    1.649663\n",
      "Salı         1.160562\n",
      "çarşamba    -2.107451\n",
      "Perşembe    -0.214301\n",
      "Cuma         4.649663\n",
      "Name: C, dtype: float64\n",
      "************\n",
      "1.160562333966867\n",
      "--------------\n",
      "       Salı  çarşamba\n",
      "B -0.347212  0.257294\n",
      "C  1.160562 -2.107451\n"
     ]
    }
   ],
   "source": [
    "locC=df.loc['C']\n",
    "print(locC)\n",
    "print(\"/////////////////\")\n",
    "iloc0=df.iloc[2]\n",
    "print(iloc0)\n",
    "print(\"************\")\n",
    "iloc0=df.loc['C','Salı']\n",
    "print(iloc0)\n",
    "print(\"--------------\")\n",
    "iloc0=df.loc[['B','C'],['Salı','çarşamba']]\n",
    "print(iloc0)"
   ]
  },
  {
   "cell_type": "code",
   "execution_count": 285,
   "metadata": {},
   "outputs": [
    {
     "name": "stdout",
     "output_type": "stream",
     "text": [
      "   Pazartesi      Salı  çarşamba  Perşembe      Cuma\n",
      "A  -1.660068  0.910006 -0.003717  2.063856  1.339932\n",
      "B   0.176110 -0.347212  0.257294 -1.641658  3.176110\n",
      "C   1.649663  1.160562 -2.107451 -0.214301  4.649663\n",
      "   Pazartesi   Salı  çarşamba  Perşembe  Cuma\n",
      "A      False   True     False      True  True\n",
      "B       True  False      True     False  True\n",
      "C       True   True     False     False  True\n",
      "------------------------------\n"
     ]
    },
    {
     "data": {
      "text/html": [
       "<div>\n",
       "<style scoped>\n",
       "    .dataframe tbody tr th:only-of-type {\n",
       "        vertical-align: middle;\n",
       "    }\n",
       "\n",
       "    .dataframe tbody tr th {\n",
       "        vertical-align: top;\n",
       "    }\n",
       "\n",
       "    .dataframe thead th {\n",
       "        text-align: right;\n",
       "    }\n",
       "</style>\n",
       "<table border=\"1\" class=\"dataframe\">\n",
       "  <thead>\n",
       "    <tr style=\"text-align: right;\">\n",
       "      <th></th>\n",
       "      <th>Pazartesi</th>\n",
       "      <th>Salı</th>\n",
       "      <th>çarşamba</th>\n",
       "      <th>Perşembe</th>\n",
       "      <th>Cuma</th>\n",
       "    </tr>\n",
       "  </thead>\n",
       "  <tbody>\n",
       "    <tr>\n",
       "      <th>A</th>\n",
       "      <td>NaN</td>\n",
       "      <td>0.910006</td>\n",
       "      <td>NaN</td>\n",
       "      <td>2.063856</td>\n",
       "      <td>1.339932</td>\n",
       "    </tr>\n",
       "    <tr>\n",
       "      <th>B</th>\n",
       "      <td>0.176110</td>\n",
       "      <td>NaN</td>\n",
       "      <td>0.257294</td>\n",
       "      <td>NaN</td>\n",
       "      <td>3.176110</td>\n",
       "    </tr>\n",
       "    <tr>\n",
       "      <th>C</th>\n",
       "      <td>1.649663</td>\n",
       "      <td>1.160562</td>\n",
       "      <td>NaN</td>\n",
       "      <td>NaN</td>\n",
       "      <td>4.649663</td>\n",
       "    </tr>\n",
       "  </tbody>\n",
       "</table>\n",
       "</div>"
      ],
      "text/plain": [
       "   Pazartesi      Salı  çarşamba  Perşembe      Cuma\n",
       "A        NaN  0.910006       NaN  2.063856  1.339932\n",
       "B   0.176110       NaN  0.257294       NaN  3.176110\n",
       "C   1.649663  1.160562       NaN       NaN  4.649663"
      ]
     },
     "execution_count": 285,
     "metadata": {},
     "output_type": "execute_result"
    }
   ],
   "source": [
    "print(df)\n",
    "positives= df > 0\n",
    "print(positives)\n",
    "print(\"------------------------------\")\n",
    "df[positives]"
   ]
  },
  {
   "cell_type": "code",
   "execution_count": 302,
   "metadata": {},
   "outputs": [
    {
     "name": "stdout",
     "output_type": "stream",
     "text": [
      "[('Banka1', 'Ankara'), ('Banka1', 'Istanbul'), ('Banka2', 'Ankara'), ('Banka2', 'Istanbul'), ('Banka3', 'Ankara')]\n",
      "                     ocak     şubat      mart\n",
      "Banka1 Ankara   -0.174984 -1.289366 -0.076496\n",
      "       Istanbul -1.042454 -0.193065  0.949661\n",
      "Banka2 Ankara   -0.025446  1.045889 -0.703502\n",
      "       Istanbul  0.008229  0.315099  1.283146\n",
      "Banka3 Ankara    0.583453  0.097695  0.566186\n",
      "*************\n",
      "Banka1  Ankara     -0.076496\n",
      "        Istanbul    0.949661\n",
      "Banka2  Ankara     -0.703502\n",
      "        Istanbul    1.283146\n",
      "Banka3  Ankara      0.566186\n",
      "Name: mart, dtype: float64\n",
      "///////////////\n",
      "              ocak     şubat      mart\n",
      "Ankara   -0.174984 -1.289366 -0.076496\n",
      "Istanbul -1.042454 -0.193065  0.949661\n",
      "------------------\n",
      "Banka1  Ankara     -0.076496\n",
      "        Istanbul    0.949661\n",
      "Banka2  Ankara     -0.703502\n",
      "        Istanbul    1.283146\n",
      "Name: mart, dtype: float64\n"
     ]
    }
   ],
   "source": [
    "OutherIndex = ['Banka1','Banka1','Banka2','Banka2','Banka3']\n",
    "InnerIndex=['Ankara','Istanbul','Ankara','Istanbul','Ankara']\n",
    "zips=list(zip(OutherIndex,InnerIndex))\n",
    "print(zips)\n",
    "hierarchy = pd.MultiIndex.from_tuples(zips)\n",
    "df=pd.DataFrame(randn(5,3),hierarchy,columns=['ocak','şubat','mart'])\n",
    "print(df)\n",
    "print(\"*************\")\n",
    "print(df['mart'])\n",
    "print(\"///////////////\")\n",
    "print(df.loc['Banka1'])\n",
    "print(\"------------------\")\n",
    "print(df.loc[['Banka1','Banka2']]['mart'])"
   ]
  }
 ],
 "metadata": {
  "kernelspec": {
   "display_name": "Python 3.11.0 ('.venv': venv)",
   "language": "python",
   "name": "python3"
  },
  "language_info": {
   "codemirror_mode": {
    "name": "ipython",
    "version": 3
   },
   "file_extension": ".py",
   "mimetype": "text/x-python",
   "name": "python",
   "nbconvert_exporter": "python",
   "pygments_lexer": "ipython3",
   "version": "3.11.0"
  },
  "orig_nbformat": 4,
  "vscode": {
   "interpreter": {
    "hash": "04031fde6a6f63c5ee7515a5e60452a050c3cfbc37c5728b01b16ecd740e17ca"
   }
  }
 },
 "nbformat": 4,
 "nbformat_minor": 2
}
